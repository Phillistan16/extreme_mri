{
  "nbformat": 4,
  "nbformat_minor": 0,
  "metadata": {
    "kernelspec": {
      "name": "python3",
      "display_name": "Python 3"
    },
    "language_info": {
      "codemirror_mode": {
        "name": "ipython",
        "version": 3
      },
      "file_extension": ".py",
      "mimetype": "text/x-python",
      "name": "python",
      "nbconvert_exporter": "python",
      "pygments_lexer": "ipython3",
      "version": "3.7.3"
    },
    "colab": {
      "name": "colab-demo.ipynb",
      "provenance": [],
      "include_colab_link": true
    },
    "accelerator": "GPU",
    "widgets": {
      "application/vnd.jupyter.widget-state+json": {
        "e003c06e024049cbbd7b552b15ea70d7": {
          "model_module": "@jupyter-widgets/controls",
          "model_name": "HBoxModel",
          "state": {
            "_view_name": "HBoxView",
            "_dom_classes": [],
            "_model_name": "HBoxModel",
            "_view_module": "@jupyter-widgets/controls",
            "_model_module_version": "1.5.0",
            "_view_count": null,
            "_view_module_version": "1.5.0",
            "box_style": "",
            "layout": "IPY_MODEL_02a109c2831d45119f6b729bfea74a9b",
            "_model_module": "@jupyter-widgets/controls",
            "children": [
              "IPY_MODEL_330a5f424c0443f784dab62bbcd875f2",
              "IPY_MODEL_c1dba93255124ab7b0e9b49ba91c096b"
            ]
          }
        },
        "f569770086784887995b4b2faf229af3": {
          "model_module": "@jupyter-widgets/controls",
          "model_name": "HBoxModel",
          "state": {
            "_view_name": "HBoxView",
            "_dom_classes": [],
            "_model_name": "HBoxModel",
            "_view_module": "@jupyter-widgets/controls",
            "_model_module_version": "1.5.0",
            "_view_count": null,
            "_view_module_version": "1.5.0",
            "box_style": "",
            "layout": "IPY_MODEL_d6a291fcbc46433e8c8d90de05b39010",
            "_model_module": "@jupyter-widgets/controls",
            "children": [
              "IPY_MODEL_93831dfe7e6845a0a8d04403cf807a52",
              "IPY_MODEL_f77660a5ac564413adc58e593793c466"
            ]
          }
        },
        "5dfdc6a522b041efb364f131b7dd4f09": {
          "model_module": "@jupyter-widgets/controls",
          "model_name": "HBoxModel",
          "state": {
            "_view_name": "HBoxView",
            "_dom_classes": [],
            "_model_name": "HBoxModel",
            "_view_module": "@jupyter-widgets/controls",
            "_model_module_version": "1.5.0",
            "_view_count": null,
            "_view_module_version": "1.5.0",
            "box_style": "",
            "layout": "IPY_MODEL_151296eeeac74c168e19b10d3002fff5",
            "_model_module": "@jupyter-widgets/controls",
            "children": [
              "IPY_MODEL_3e46b83f002f4f8fbb07b432b2489fe8",
              "IPY_MODEL_7d03dc212ab240a1b031948750f0db9d"
            ]
          }
        }
      }
    }
  },
  "cells": [
    {
      "cell_type": "markdown",
      "metadata": {
        "id": "view-in-github",
        "colab_type": "text"
      },
      "source": [
        "<a href=\"https://colab.research.google.com/github/mikgroup/extreme_mri/blob/master/colab-demo.ipynb\" target=\"_parent\"><img src=\"https://colab.research.google.com/assets/colab-badge.svg\" alt=\"Open In Colab\"/></a>"
      ]
    },
    {
      "cell_type": "markdown",
      "metadata": {
        "id": "IZbNNNQW8oxV",
        "colab_type": "text"
      },
      "source": [
        "# Extreme MRI Demo"
      ]
    },
    {
      "cell_type": "markdown",
      "metadata": {
        "id": "jrhmgrVY8oxZ",
        "colab_type": "text"
      },
      "source": [
        "This notebook demonstrates an [Extreme MRI: Large-Scale Volumetric Dynamic Imaging from Continuous Non-Gated Acquisitions](https://arxiv.org/abs/1909.13482) reconstruction with a DCE dataset. "
      ]
    },
    {
      "cell_type": "markdown",
      "metadata": {
        "id": "YGOlMnLD8oxb",
        "colab_type": "text"
      },
      "source": [
        "# Install and Import packages\n",
        "\n",
        "Let's install and import the relevant packages. In particular, the reconstruction depends on [CuPy](https://cupy.chainer.org) and [SigPy](http://sigpy.readthedocs.io)."
      ]
    },
    {
      "cell_type": "code",
      "metadata": {
        "id": "qbJolU3s8_d6",
        "colab_type": "code",
        "colab": {
          "base_uri": "https://localhost:8080/",
          "height": 221
        },
        "outputId": "d86871da-2e24-412e-ceac-5753b86bf47b"
      },
      "source": [
        "! pip install sigpy h5py\n",
        "! git clone https://github.com/mikgroup/extreme_mri\n",
        "% cd extreme_mri"
      ],
      "execution_count": 11,
      "outputs": [
        {
          "output_type": "stream",
          "text": [
            "Requirement already satisfied: sigpy in /usr/local/lib/python3.6/dist-packages (0.1.16)\n",
            "Requirement already satisfied: h5py in /usr/local/lib/python3.6/dist-packages (2.8.0)\n",
            "Requirement already satisfied: scipy in /usr/local/lib/python3.6/dist-packages (from sigpy) (1.4.1)\n",
            "Requirement already satisfied: numpy in /usr/local/lib/python3.6/dist-packages (from sigpy) (1.17.5)\n",
            "Requirement already satisfied: numba in /usr/local/lib/python3.6/dist-packages (from sigpy) (0.47.0)\n",
            "Requirement already satisfied: tqdm in /usr/local/lib/python3.6/dist-packages (from sigpy) (4.28.1)\n",
            "Requirement already satisfied: pywavelets in /usr/local/lib/python3.6/dist-packages (from sigpy) (1.1.1)\n",
            "Requirement already satisfied: six in /usr/local/lib/python3.6/dist-packages (from h5py) (1.12.0)\n",
            "Requirement already satisfied: llvmlite>=0.31.0dev0 in /usr/local/lib/python3.6/dist-packages (from numba->sigpy) (0.31.0)\n",
            "Requirement already satisfied: setuptools in /usr/local/lib/python3.6/dist-packages (from numba->sigpy) (45.1.0)\n",
            "fatal: destination path 'extreme_mri' already exists and is not an empty directory.\n",
            "/content/extreme_mri\n"
          ],
          "name": "stdout"
        }
      ]
    },
    {
      "cell_type": "code",
      "metadata": {
        "id": "2phzMrh98oxd",
        "colab_type": "code",
        "colab": {}
      },
      "source": [
        "%matplotlib notebook\n",
        "import numpy as np\n",
        "import sigpy as sp\n",
        "import sigpy.mri as mr\n",
        "import sigpy.plot as pl\n",
        "\n",
        "from download_dataset import download_dce_dataset\n",
        "from gridding_recon import gridding_recon\n",
        "from multi_scale_low_rank_recon import MultiScaleLowRankRecon"
      ],
      "execution_count": 0,
      "outputs": []
    },
    {
      "cell_type": "markdown",
      "metadata": {
        "id": "FtRRhAfv8oxj",
        "colab_type": "text"
      },
      "source": [
        "# Set computing device\n",
        "\n",
        "We need to specify a computing device for the reconstruction.\n",
        "For CPU, the id would -1. For GPUs, the id would be the GPU device.\n",
        "\n",
        "We strongly recommend using GPUs for reconstruction."
      ]
    },
    {
      "cell_type": "code",
      "metadata": {
        "id": "INVDjhiq8oxk",
        "colab_type": "code",
        "colab": {}
      },
      "source": [
        "device = 0"
      ],
      "execution_count": 0,
      "outputs": []
    },
    {
      "cell_type": "markdown",
      "metadata": {
        "id": "oi3yyTTi8oxn",
        "colab_type": "text"
      },
      "source": [
        "# Download and Load dataset\n",
        "\n",
        "Now, let's download and load the DCE dataset. The dataset is hosted on Zenodo: https://zenodo.org/record/3647820, and corresponds to the second DCE dataset described in the paper.\n",
        "\n",
        "The `download_dce_dataset()` function will download the datasets if it cannot find them under `data/dce/`."
      ]
    },
    {
      "cell_type": "code",
      "metadata": {
        "id": "1SrtI6Pp8oxo",
        "colab_type": "code",
        "colab": {
          "base_uri": "https://localhost:8080/",
          "height": 51,
          "referenced_widgets": [
            "e003c06e024049cbbd7b552b15ea70d7",
            "f569770086784887995b4b2faf229af3",
            "5dfdc6a522b041efb364f131b7dd4f09"
          ]
        },
        "outputId": "6db80345-b89d-4002-f6d9-4d558ebda496"
      },
      "source": [
        "download_dce_dataset()\n",
        "ksp = np.load('data/dce/ksp.npy')\n",
        "coord = np.load('data/dce/coord.npy')\n",
        "dcf = np.load('data/dce/dcf.npy')"
      ],
      "execution_count": 0,
      "outputs": [
        {
          "output_type": "display_data",
          "data": {
            "application/vnd.jupyter.widget-view+json": {
              "model_id": "e003c06e024049cbbd7b552b15ea70d7",
              "version_minor": 0,
              "version_major": 2
            },
            "text/plain": [
              "HBox(children=(IntProgress(value=0, description='Downloading dcf.npy', max=119052812, style=ProgressStyle(desc…"
            ]
          },
          "metadata": {
            "tags": []
          }
        },
        {
          "output_type": "stream",
          "text": [
            "\n"
          ],
          "name": "stdout"
        },
        {
          "output_type": "display_data",
          "data": {
            "application/vnd.jupyter.widget-view+json": {
              "model_id": "f569770086784887995b4b2faf229af3",
              "version_minor": 0,
              "version_major": 2
            },
            "text/plain": [
              "HBox(children=(IntProgress(value=0, description='Downloading coord.npy', max=357158180, style=ProgressStyle(de…"
            ]
          },
          "metadata": {
            "tags": []
          }
        },
        {
          "output_type": "stream",
          "text": [
            "\n"
          ],
          "name": "stdout"
        },
        {
          "output_type": "display_data",
          "data": {
            "application/vnd.jupyter.widget-view+json": {
              "model_id": "5dfdc6a522b041efb364f131b7dd4f09",
              "version_minor": 0,
              "version_major": 2
            },
            "text/plain": [
              "HBox(children=(IntProgress(value=0, description='Downloading ksp.npy', max=2857264544, style=ProgressStyle(des…"
            ]
          },
          "metadata": {
            "tags": []
          }
        }
      ]
    },
    {
      "cell_type": "markdown",
      "metadata": {
        "id": "iG67iP-e8oxr",
        "colab_type": "text"
      },
      "source": [
        "# (Optional) Speed up reconstruction by cropping k-space\n",
        "\n",
        "For speeding up the demo, we can crop the k-space data along readout to reconstruct low resolution images.\n",
        "\n",
        "Simply comment out this part if you like to perform the full-resolution reconstruction."
      ]
    },
    {
      "cell_type": "code",
      "metadata": {
        "id": "pt5eDH3z8oxs",
        "colab_type": "code",
        "colab": {}
      },
      "source": [
        "num_ro = 150  # number of readout points\n",
        "ksp = ksp[:, :, :num_ro]\n",
        "coord = coord[:, :num_ro]\n",
        "dcf = dcf[:, :num_ro]"
      ],
      "execution_count": 0,
      "outputs": []
    },
    {
      "cell_type": "markdown",
      "metadata": {
        "id": "B-rt-Hct8oxu",
        "colab_type": "text"
      },
      "source": [
        "# Gridding reconstruction\n",
        "\n",
        "Let's first do a gridding reconstruction to see what the image looks like."
      ]
    },
    {
      "cell_type": "code",
      "metadata": {
        "id": "U-xGfU2C8oxv",
        "colab_type": "code",
        "colab": {},
        "outputId": "c3f3d764-f6f7-431a-88af-85372a90fd45"
      },
      "source": [
        "grd = gridding_recon(ksp, coord, dcf, device=device)\n",
        "\n",
        "#Plot\n",
        "pl.ImagePlot(grd, interpolation='lanczos')"
      ],
      "execution_count": 0,
      "outputs": [
        {
          "output_type": "display_data",
          "data": {
            "application/javascript": [
              "/* Put everything inside the global mpl namespace */\n",
              "window.mpl = {};\n",
              "\n",
              "\n",
              "mpl.get_websocket_type = function() {\n",
              "    if (typeof(WebSocket) !== 'undefined') {\n",
              "        return WebSocket;\n",
              "    } else if (typeof(MozWebSocket) !== 'undefined') {\n",
              "        return MozWebSocket;\n",
              "    } else {\n",
              "        alert('Your browser does not have WebSocket support. ' +\n",
              "              'Please try Chrome, Safari or Firefox ≥ 6. ' +\n",
              "              'Firefox 4 and 5 are also supported but you ' +\n",
              "              'have to enable WebSockets in about:config.');\n",
              "    };\n",
              "}\n",
              "\n",
              "mpl.figure = function(figure_id, websocket, ondownload, parent_element) {\n",
              "    this.id = figure_id;\n",
              "\n",
              "    this.ws = websocket;\n",
              "\n",
              "    this.supports_binary = (this.ws.binaryType != undefined);\n",
              "\n",
              "    if (!this.supports_binary) {\n",
              "        var warnings = document.getElementById(\"mpl-warnings\");\n",
              "        if (warnings) {\n",
              "            warnings.style.display = 'block';\n",
              "            warnings.textContent = (\n",
              "                \"This browser does not support binary websocket messages. \" +\n",
              "                    \"Performance may be slow.\");\n",
              "        }\n",
              "    }\n",
              "\n",
              "    this.imageObj = new Image();\n",
              "\n",
              "    this.context = undefined;\n",
              "    this.message = undefined;\n",
              "    this.canvas = undefined;\n",
              "    this.rubberband_canvas = undefined;\n",
              "    this.rubberband_context = undefined;\n",
              "    this.format_dropdown = undefined;\n",
              "\n",
              "    this.image_mode = 'full';\n",
              "\n",
              "    this.root = $('<div/>');\n",
              "    this._root_extra_style(this.root)\n",
              "    this.root.attr('style', 'display: inline-block');\n",
              "\n",
              "    $(parent_element).append(this.root);\n",
              "\n",
              "    this._init_header(this);\n",
              "    this._init_canvas(this);\n",
              "    this._init_toolbar(this);\n",
              "\n",
              "    var fig = this;\n",
              "\n",
              "    this.waiting = false;\n",
              "\n",
              "    this.ws.onopen =  function () {\n",
              "            fig.send_message(\"supports_binary\", {value: fig.supports_binary});\n",
              "            fig.send_message(\"send_image_mode\", {});\n",
              "            if (mpl.ratio != 1) {\n",
              "                fig.send_message(\"set_dpi_ratio\", {'dpi_ratio': mpl.ratio});\n",
              "            }\n",
              "            fig.send_message(\"refresh\", {});\n",
              "        }\n",
              "\n",
              "    this.imageObj.onload = function() {\n",
              "            if (fig.image_mode == 'full') {\n",
              "                // Full images could contain transparency (where diff images\n",
              "                // almost always do), so we need to clear the canvas so that\n",
              "                // there is no ghosting.\n",
              "                fig.context.clearRect(0, 0, fig.canvas.width, fig.canvas.height);\n",
              "            }\n",
              "            fig.context.drawImage(fig.imageObj, 0, 0);\n",
              "        };\n",
              "\n",
              "    this.imageObj.onunload = function() {\n",
              "        fig.ws.close();\n",
              "    }\n",
              "\n",
              "    this.ws.onmessage = this._make_on_message_function(this);\n",
              "\n",
              "    this.ondownload = ondownload;\n",
              "}\n",
              "\n",
              "mpl.figure.prototype._init_header = function() {\n",
              "    var titlebar = $(\n",
              "        '<div class=\"ui-dialog-titlebar ui-widget-header ui-corner-all ' +\n",
              "        'ui-helper-clearfix\"/>');\n",
              "    var titletext = $(\n",
              "        '<div class=\"ui-dialog-title\" style=\"width: 100%; ' +\n",
              "        'text-align: center; padding: 3px;\"/>');\n",
              "    titlebar.append(titletext)\n",
              "    this.root.append(titlebar);\n",
              "    this.header = titletext[0];\n",
              "}\n",
              "\n",
              "\n",
              "\n",
              "mpl.figure.prototype._canvas_extra_style = function(canvas_div) {\n",
              "\n",
              "}\n",
              "\n",
              "\n",
              "mpl.figure.prototype._root_extra_style = function(canvas_div) {\n",
              "\n",
              "}\n",
              "\n",
              "mpl.figure.prototype._init_canvas = function() {\n",
              "    var fig = this;\n",
              "\n",
              "    var canvas_div = $('<div/>');\n",
              "\n",
              "    canvas_div.attr('style', 'position: relative; clear: both; outline: 0');\n",
              "\n",
              "    function canvas_keyboard_event(event) {\n",
              "        return fig.key_event(event, event['data']);\n",
              "    }\n",
              "\n",
              "    canvas_div.keydown('key_press', canvas_keyboard_event);\n",
              "    canvas_div.keyup('key_release', canvas_keyboard_event);\n",
              "    this.canvas_div = canvas_div\n",
              "    this._canvas_extra_style(canvas_div)\n",
              "    this.root.append(canvas_div);\n",
              "\n",
              "    var canvas = $('<canvas/>');\n",
              "    canvas.addClass('mpl-canvas');\n",
              "    canvas.attr('style', \"left: 0; top: 0; z-index: 0; outline: 0\")\n",
              "\n",
              "    this.canvas = canvas[0];\n",
              "    this.context = canvas[0].getContext(\"2d\");\n",
              "\n",
              "    var backingStore = this.context.backingStorePixelRatio ||\n",
              "\tthis.context.webkitBackingStorePixelRatio ||\n",
              "\tthis.context.mozBackingStorePixelRatio ||\n",
              "\tthis.context.msBackingStorePixelRatio ||\n",
              "\tthis.context.oBackingStorePixelRatio ||\n",
              "\tthis.context.backingStorePixelRatio || 1;\n",
              "\n",
              "    mpl.ratio = (window.devicePixelRatio || 1) / backingStore;\n",
              "\n",
              "    var rubberband = $('<canvas/>');\n",
              "    rubberband.attr('style', \"position: absolute; left: 0; top: 0; z-index: 1;\")\n",
              "\n",
              "    var pass_mouse_events = true;\n",
              "\n",
              "    canvas_div.resizable({\n",
              "        start: function(event, ui) {\n",
              "            pass_mouse_events = false;\n",
              "        },\n",
              "        resize: function(event, ui) {\n",
              "            fig.request_resize(ui.size.width, ui.size.height);\n",
              "        },\n",
              "        stop: function(event, ui) {\n",
              "            pass_mouse_events = true;\n",
              "            fig.request_resize(ui.size.width, ui.size.height);\n",
              "        },\n",
              "    });\n",
              "\n",
              "    function mouse_event_fn(event) {\n",
              "        if (pass_mouse_events)\n",
              "            return fig.mouse_event(event, event['data']);\n",
              "    }\n",
              "\n",
              "    rubberband.mousedown('button_press', mouse_event_fn);\n",
              "    rubberband.mouseup('button_release', mouse_event_fn);\n",
              "    // Throttle sequential mouse events to 1 every 20ms.\n",
              "    rubberband.mousemove('motion_notify', mouse_event_fn);\n",
              "\n",
              "    rubberband.mouseenter('figure_enter', mouse_event_fn);\n",
              "    rubberband.mouseleave('figure_leave', mouse_event_fn);\n",
              "\n",
              "    canvas_div.on(\"wheel\", function (event) {\n",
              "        event = event.originalEvent;\n",
              "        event['data'] = 'scroll'\n",
              "        if (event.deltaY < 0) {\n",
              "            event.step = 1;\n",
              "        } else {\n",
              "            event.step = -1;\n",
              "        }\n",
              "        mouse_event_fn(event);\n",
              "    });\n",
              "\n",
              "    canvas_div.append(canvas);\n",
              "    canvas_div.append(rubberband);\n",
              "\n",
              "    this.rubberband = rubberband;\n",
              "    this.rubberband_canvas = rubberband[0];\n",
              "    this.rubberband_context = rubberband[0].getContext(\"2d\");\n",
              "    this.rubberband_context.strokeStyle = \"#000000\";\n",
              "\n",
              "    this._resize_canvas = function(width, height) {\n",
              "        // Keep the size of the canvas, canvas container, and rubber band\n",
              "        // canvas in synch.\n",
              "        canvas_div.css('width', width)\n",
              "        canvas_div.css('height', height)\n",
              "\n",
              "        canvas.attr('width', width * mpl.ratio);\n",
              "        canvas.attr('height', height * mpl.ratio);\n",
              "        canvas.attr('style', 'width: ' + width + 'px; height: ' + height + 'px;');\n",
              "\n",
              "        rubberband.attr('width', width);\n",
              "        rubberband.attr('height', height);\n",
              "    }\n",
              "\n",
              "    // Set the figure to an initial 600x600px, this will subsequently be updated\n",
              "    // upon first draw.\n",
              "    this._resize_canvas(600, 600);\n",
              "\n",
              "    // Disable right mouse context menu.\n",
              "    $(this.rubberband_canvas).bind(\"contextmenu\",function(e){\n",
              "        return false;\n",
              "    });\n",
              "\n",
              "    function set_focus () {\n",
              "        canvas.focus();\n",
              "        canvas_div.focus();\n",
              "    }\n",
              "\n",
              "    window.setTimeout(set_focus, 100);\n",
              "}\n",
              "\n",
              "mpl.figure.prototype._init_toolbar = function() {\n",
              "    var fig = this;\n",
              "\n",
              "    var nav_element = $('<div/>');\n",
              "    nav_element.attr('style', 'width: 100%');\n",
              "    this.root.append(nav_element);\n",
              "\n",
              "    // Define a callback function for later on.\n",
              "    function toolbar_event(event) {\n",
              "        return fig.toolbar_button_onclick(event['data']);\n",
              "    }\n",
              "    function toolbar_mouse_event(event) {\n",
              "        return fig.toolbar_button_onmouseover(event['data']);\n",
              "    }\n",
              "\n",
              "    for(var toolbar_ind in mpl.toolbar_items) {\n",
              "        var name = mpl.toolbar_items[toolbar_ind][0];\n",
              "        var tooltip = mpl.toolbar_items[toolbar_ind][1];\n",
              "        var image = mpl.toolbar_items[toolbar_ind][2];\n",
              "        var method_name = mpl.toolbar_items[toolbar_ind][3];\n",
              "\n",
              "        if (!name) {\n",
              "            // put a spacer in here.\n",
              "            continue;\n",
              "        }\n",
              "        var button = $('<button/>');\n",
              "        button.addClass('ui-button ui-widget ui-state-default ui-corner-all ' +\n",
              "                        'ui-button-icon-only');\n",
              "        button.attr('role', 'button');\n",
              "        button.attr('aria-disabled', 'false');\n",
              "        button.click(method_name, toolbar_event);\n",
              "        button.mouseover(tooltip, toolbar_mouse_event);\n",
              "\n",
              "        var icon_img = $('<span/>');\n",
              "        icon_img.addClass('ui-button-icon-primary ui-icon');\n",
              "        icon_img.addClass(image);\n",
              "        icon_img.addClass('ui-corner-all');\n",
              "\n",
              "        var tooltip_span = $('<span/>');\n",
              "        tooltip_span.addClass('ui-button-text');\n",
              "        tooltip_span.html(tooltip);\n",
              "\n",
              "        button.append(icon_img);\n",
              "        button.append(tooltip_span);\n",
              "\n",
              "        nav_element.append(button);\n",
              "    }\n",
              "\n",
              "    var fmt_picker_span = $('<span/>');\n",
              "\n",
              "    var fmt_picker = $('<select/>');\n",
              "    fmt_picker.addClass('mpl-toolbar-option ui-widget ui-widget-content');\n",
              "    fmt_picker_span.append(fmt_picker);\n",
              "    nav_element.append(fmt_picker_span);\n",
              "    this.format_dropdown = fmt_picker[0];\n",
              "\n",
              "    for (var ind in mpl.extensions) {\n",
              "        var fmt = mpl.extensions[ind];\n",
              "        var option = $(\n",
              "            '<option/>', {selected: fmt === mpl.default_extension}).html(fmt);\n",
              "        fmt_picker.append(option);\n",
              "    }\n",
              "\n",
              "    // Add hover states to the ui-buttons\n",
              "    $( \".ui-button\" ).hover(\n",
              "        function() { $(this).addClass(\"ui-state-hover\");},\n",
              "        function() { $(this).removeClass(\"ui-state-hover\");}\n",
              "    );\n",
              "\n",
              "    var status_bar = $('<span class=\"mpl-message\"/>');\n",
              "    nav_element.append(status_bar);\n",
              "    this.message = status_bar[0];\n",
              "}\n",
              "\n",
              "mpl.figure.prototype.request_resize = function(x_pixels, y_pixels) {\n",
              "    // Request matplotlib to resize the figure. Matplotlib will then trigger a resize in the client,\n",
              "    // which will in turn request a refresh of the image.\n",
              "    this.send_message('resize', {'width': x_pixels, 'height': y_pixels});\n",
              "}\n",
              "\n",
              "mpl.figure.prototype.send_message = function(type, properties) {\n",
              "    properties['type'] = type;\n",
              "    properties['figure_id'] = this.id;\n",
              "    this.ws.send(JSON.stringify(properties));\n",
              "}\n",
              "\n",
              "mpl.figure.prototype.send_draw_message = function() {\n",
              "    if (!this.waiting) {\n",
              "        this.waiting = true;\n",
              "        this.ws.send(JSON.stringify({type: \"draw\", figure_id: this.id}));\n",
              "    }\n",
              "}\n",
              "\n",
              "\n",
              "mpl.figure.prototype.handle_save = function(fig, msg) {\n",
              "    var format_dropdown = fig.format_dropdown;\n",
              "    var format = format_dropdown.options[format_dropdown.selectedIndex].value;\n",
              "    fig.ondownload(fig, format);\n",
              "}\n",
              "\n",
              "\n",
              "mpl.figure.prototype.handle_resize = function(fig, msg) {\n",
              "    var size = msg['size'];\n",
              "    if (size[0] != fig.canvas.width || size[1] != fig.canvas.height) {\n",
              "        fig._resize_canvas(size[0], size[1]);\n",
              "        fig.send_message(\"refresh\", {});\n",
              "    };\n",
              "}\n",
              "\n",
              "mpl.figure.prototype.handle_rubberband = function(fig, msg) {\n",
              "    var x0 = msg['x0'] / mpl.ratio;\n",
              "    var y0 = (fig.canvas.height - msg['y0']) / mpl.ratio;\n",
              "    var x1 = msg['x1'] / mpl.ratio;\n",
              "    var y1 = (fig.canvas.height - msg['y1']) / mpl.ratio;\n",
              "    x0 = Math.floor(x0) + 0.5;\n",
              "    y0 = Math.floor(y0) + 0.5;\n",
              "    x1 = Math.floor(x1) + 0.5;\n",
              "    y1 = Math.floor(y1) + 0.5;\n",
              "    var min_x = Math.min(x0, x1);\n",
              "    var min_y = Math.min(y0, y1);\n",
              "    var width = Math.abs(x1 - x0);\n",
              "    var height = Math.abs(y1 - y0);\n",
              "\n",
              "    fig.rubberband_context.clearRect(\n",
              "        0, 0, fig.canvas.width, fig.canvas.height);\n",
              "\n",
              "    fig.rubberband_context.strokeRect(min_x, min_y, width, height);\n",
              "}\n",
              "\n",
              "mpl.figure.prototype.handle_figure_label = function(fig, msg) {\n",
              "    // Updates the figure title.\n",
              "    fig.header.textContent = msg['label'];\n",
              "}\n",
              "\n",
              "mpl.figure.prototype.handle_cursor = function(fig, msg) {\n",
              "    var cursor = msg['cursor'];\n",
              "    switch(cursor)\n",
              "    {\n",
              "    case 0:\n",
              "        cursor = 'pointer';\n",
              "        break;\n",
              "    case 1:\n",
              "        cursor = 'default';\n",
              "        break;\n",
              "    case 2:\n",
              "        cursor = 'crosshair';\n",
              "        break;\n",
              "    case 3:\n",
              "        cursor = 'move';\n",
              "        break;\n",
              "    }\n",
              "    fig.rubberband_canvas.style.cursor = cursor;\n",
              "}\n",
              "\n",
              "mpl.figure.prototype.handle_message = function(fig, msg) {\n",
              "    fig.message.textContent = msg['message'];\n",
              "}\n",
              "\n",
              "mpl.figure.prototype.handle_draw = function(fig, msg) {\n",
              "    // Request the server to send over a new figure.\n",
              "    fig.send_draw_message();\n",
              "}\n",
              "\n",
              "mpl.figure.prototype.handle_image_mode = function(fig, msg) {\n",
              "    fig.image_mode = msg['mode'];\n",
              "}\n",
              "\n",
              "mpl.figure.prototype.updated_canvas_event = function() {\n",
              "    // Called whenever the canvas gets updated.\n",
              "    this.send_message(\"ack\", {});\n",
              "}\n",
              "\n",
              "// A function to construct a web socket function for onmessage handling.\n",
              "// Called in the figure constructor.\n",
              "mpl.figure.prototype._make_on_message_function = function(fig) {\n",
              "    return function socket_on_message(evt) {\n",
              "        if (evt.data instanceof Blob) {\n",
              "            /* FIXME: We get \"Resource interpreted as Image but\n",
              "             * transferred with MIME type text/plain:\" errors on\n",
              "             * Chrome.  But how to set the MIME type?  It doesn't seem\n",
              "             * to be part of the websocket stream */\n",
              "            evt.data.type = \"image/png\";\n",
              "\n",
              "            /* Free the memory for the previous frames */\n",
              "            if (fig.imageObj.src) {\n",
              "                (window.URL || window.webkitURL).revokeObjectURL(\n",
              "                    fig.imageObj.src);\n",
              "            }\n",
              "\n",
              "            fig.imageObj.src = (window.URL || window.webkitURL).createObjectURL(\n",
              "                evt.data);\n",
              "            fig.updated_canvas_event();\n",
              "            fig.waiting = false;\n",
              "            return;\n",
              "        }\n",
              "        else if (typeof evt.data === 'string' && evt.data.slice(0, 21) == \"data:image/png;base64\") {\n",
              "            fig.imageObj.src = evt.data;\n",
              "            fig.updated_canvas_event();\n",
              "            fig.waiting = false;\n",
              "            return;\n",
              "        }\n",
              "\n",
              "        var msg = JSON.parse(evt.data);\n",
              "        var msg_type = msg['type'];\n",
              "\n",
              "        // Call the  \"handle_{type}\" callback, which takes\n",
              "        // the figure and JSON message as its only arguments.\n",
              "        try {\n",
              "            var callback = fig[\"handle_\" + msg_type];\n",
              "        } catch (e) {\n",
              "            console.log(\"No handler for the '\" + msg_type + \"' message type: \", msg);\n",
              "            return;\n",
              "        }\n",
              "\n",
              "        if (callback) {\n",
              "            try {\n",
              "                // console.log(\"Handling '\" + msg_type + \"' message: \", msg);\n",
              "                callback(fig, msg);\n",
              "            } catch (e) {\n",
              "                console.log(\"Exception inside the 'handler_\" + msg_type + \"' callback:\", e, e.stack, msg);\n",
              "            }\n",
              "        }\n",
              "    };\n",
              "}\n",
              "\n",
              "// from http://stackoverflow.com/questions/1114465/getting-mouse-location-in-canvas\n",
              "mpl.findpos = function(e) {\n",
              "    //this section is from http://www.quirksmode.org/js/events_properties.html\n",
              "    var targ;\n",
              "    if (!e)\n",
              "        e = window.event;\n",
              "    if (e.target)\n",
              "        targ = e.target;\n",
              "    else if (e.srcElement)\n",
              "        targ = e.srcElement;\n",
              "    if (targ.nodeType == 3) // defeat Safari bug\n",
              "        targ = targ.parentNode;\n",
              "\n",
              "    // jQuery normalizes the pageX and pageY\n",
              "    // pageX,Y are the mouse positions relative to the document\n",
              "    // offset() returns the position of the element relative to the document\n",
              "    var x = e.pageX - $(targ).offset().left;\n",
              "    var y = e.pageY - $(targ).offset().top;\n",
              "\n",
              "    return {\"x\": x, \"y\": y};\n",
              "};\n",
              "\n",
              "/*\n",
              " * return a copy of an object with only non-object keys\n",
              " * we need this to avoid circular references\n",
              " * http://stackoverflow.com/a/24161582/3208463\n",
              " */\n",
              "function simpleKeys (original) {\n",
              "  return Object.keys(original).reduce(function (obj, key) {\n",
              "    if (typeof original[key] !== 'object')\n",
              "        obj[key] = original[key]\n",
              "    return obj;\n",
              "  }, {});\n",
              "}\n",
              "\n",
              "mpl.figure.prototype.mouse_event = function(event, name) {\n",
              "    var canvas_pos = mpl.findpos(event)\n",
              "\n",
              "    if (name === 'button_press')\n",
              "    {\n",
              "        this.canvas.focus();\n",
              "        this.canvas_div.focus();\n",
              "    }\n",
              "\n",
              "    var x = canvas_pos.x * mpl.ratio;\n",
              "    var y = canvas_pos.y * mpl.ratio;\n",
              "\n",
              "    this.send_message(name, {x: x, y: y, button: event.button,\n",
              "                             step: event.step,\n",
              "                             guiEvent: simpleKeys(event)});\n",
              "\n",
              "    /* This prevents the web browser from automatically changing to\n",
              "     * the text insertion cursor when the button is pressed.  We want\n",
              "     * to control all of the cursor setting manually through the\n",
              "     * 'cursor' event from matplotlib */\n",
              "    event.preventDefault();\n",
              "    return false;\n",
              "}\n",
              "\n",
              "mpl.figure.prototype._key_event_extra = function(event, name) {\n",
              "    // Handle any extra behaviour associated with a key event\n",
              "}\n",
              "\n",
              "mpl.figure.prototype.key_event = function(event, name) {\n",
              "\n",
              "    // Prevent repeat events\n",
              "    if (name == 'key_press')\n",
              "    {\n",
              "        if (event.which === this._key)\n",
              "            return;\n",
              "        else\n",
              "            this._key = event.which;\n",
              "    }\n",
              "    if (name == 'key_release')\n",
              "        this._key = null;\n",
              "\n",
              "    var value = '';\n",
              "    if (event.ctrlKey && event.which != 17)\n",
              "        value += \"ctrl+\";\n",
              "    if (event.altKey && event.which != 18)\n",
              "        value += \"alt+\";\n",
              "    if (event.shiftKey && event.which != 16)\n",
              "        value += \"shift+\";\n",
              "\n",
              "    value += 'k';\n",
              "    value += event.which.toString();\n",
              "\n",
              "    this._key_event_extra(event, name);\n",
              "\n",
              "    this.send_message(name, {key: value,\n",
              "                             guiEvent: simpleKeys(event)});\n",
              "    return false;\n",
              "}\n",
              "\n",
              "mpl.figure.prototype.toolbar_button_onclick = function(name) {\n",
              "    if (name == 'download') {\n",
              "        this.handle_save(this, null);\n",
              "    } else {\n",
              "        this.send_message(\"toolbar_button\", {name: name});\n",
              "    }\n",
              "};\n",
              "\n",
              "mpl.figure.prototype.toolbar_button_onmouseover = function(tooltip) {\n",
              "    this.message.textContent = tooltip;\n",
              "};\n",
              "mpl.toolbar_items = [[\"Home\", \"Reset original view\", \"fa fa-home icon-home\", \"home\"], [\"Back\", \"Back to previous view\", \"fa fa-arrow-left icon-arrow-left\", \"back\"], [\"Forward\", \"Forward to next view\", \"fa fa-arrow-right icon-arrow-right\", \"forward\"], [\"\", \"\", \"\", \"\"], [\"Pan\", \"Pan axes with left mouse, zoom with right\", \"fa fa-arrows icon-move\", \"pan\"], [\"Zoom\", \"Zoom to rectangle\", \"fa fa-square-o icon-check-empty\", \"zoom\"], [\"\", \"\", \"\", \"\"], [\"Download\", \"Download plot\", \"fa fa-floppy-o icon-save\", \"download\"]];\n",
              "\n",
              "mpl.extensions = [\"eps\", \"jpeg\", \"pdf\", \"png\", \"ps\", \"raw\", \"svg\", \"tif\"];\n",
              "\n",
              "mpl.default_extension = \"png\";var comm_websocket_adapter = function(comm) {\n",
              "    // Create a \"websocket\"-like object which calls the given IPython comm\n",
              "    // object with the appropriate methods. Currently this is a non binary\n",
              "    // socket, so there is still some room for performance tuning.\n",
              "    var ws = {};\n",
              "\n",
              "    ws.close = function() {\n",
              "        comm.close()\n",
              "    };\n",
              "    ws.send = function(m) {\n",
              "        //console.log('sending', m);\n",
              "        comm.send(m);\n",
              "    };\n",
              "    // Register the callback with on_msg.\n",
              "    comm.on_msg(function(msg) {\n",
              "        //console.log('receiving', msg['content']['data'], msg);\n",
              "        // Pass the mpl event to the overridden (by mpl) onmessage function.\n",
              "        ws.onmessage(msg['content']['data'])\n",
              "    });\n",
              "    return ws;\n",
              "}\n",
              "\n",
              "mpl.mpl_figure_comm = function(comm, msg) {\n",
              "    // This is the function which gets called when the mpl process\n",
              "    // starts-up an IPython Comm through the \"matplotlib\" channel.\n",
              "\n",
              "    var id = msg.content.data.id;\n",
              "    // Get hold of the div created by the display call when the Comm\n",
              "    // socket was opened in Python.\n",
              "    var element = $(\"#\" + id);\n",
              "    var ws_proxy = comm_websocket_adapter(comm)\n",
              "\n",
              "    function ondownload(figure, format) {\n",
              "        window.open(figure.imageObj.src);\n",
              "    }\n",
              "\n",
              "    var fig = new mpl.figure(id, ws_proxy,\n",
              "                           ondownload,\n",
              "                           element.get(0));\n",
              "\n",
              "    // Call onopen now - mpl needs it, as it is assuming we've passed it a real\n",
              "    // web socket which is closed, not our websocket->open comm proxy.\n",
              "    ws_proxy.onopen();\n",
              "\n",
              "    fig.parent_element = element.get(0);\n",
              "    fig.cell_info = mpl.find_output_cell(\"<div id='\" + id + \"'></div>\");\n",
              "    if (!fig.cell_info) {\n",
              "        console.error(\"Failed to find cell for figure\", id, fig);\n",
              "        return;\n",
              "    }\n",
              "\n",
              "    var output_index = fig.cell_info[2]\n",
              "    var cell = fig.cell_info[0];\n",
              "\n",
              "};\n",
              "\n",
              "mpl.figure.prototype.handle_close = function(fig, msg) {\n",
              "    var width = fig.canvas.width/mpl.ratio\n",
              "    fig.root.unbind('remove')\n",
              "\n",
              "    // Update the output cell to use the data from the current canvas.\n",
              "    fig.push_to_output();\n",
              "    var dataURL = fig.canvas.toDataURL();\n",
              "    // Re-enable the keyboard manager in IPython - without this line, in FF,\n",
              "    // the notebook keyboard shortcuts fail.\n",
              "    IPython.keyboard_manager.enable()\n",
              "    $(fig.parent_element).html('<img src=\"' + dataURL + '\" width=\"' + width + '\">');\n",
              "    fig.close_ws(fig, msg);\n",
              "}\n",
              "\n",
              "mpl.figure.prototype.close_ws = function(fig, msg){\n",
              "    fig.send_message('closing', msg);\n",
              "    // fig.ws.close()\n",
              "}\n",
              "\n",
              "mpl.figure.prototype.push_to_output = function(remove_interactive) {\n",
              "    // Turn the data on the canvas into data in the output cell.\n",
              "    var width = this.canvas.width/mpl.ratio\n",
              "    var dataURL = this.canvas.toDataURL();\n",
              "    this.cell_info[1]['text/html'] = '<img src=\"' + dataURL + '\" width=\"' + width + '\">';\n",
              "}\n",
              "\n",
              "mpl.figure.prototype.updated_canvas_event = function() {\n",
              "    // Tell IPython that the notebook contents must change.\n",
              "    IPython.notebook.set_dirty(true);\n",
              "    this.send_message(\"ack\", {});\n",
              "    var fig = this;\n",
              "    // Wait a second, then push the new image to the DOM so\n",
              "    // that it is saved nicely (might be nice to debounce this).\n",
              "    setTimeout(function () { fig.push_to_output() }, 1000);\n",
              "}\n",
              "\n",
              "mpl.figure.prototype._init_toolbar = function() {\n",
              "    var fig = this;\n",
              "\n",
              "    var nav_element = $('<div/>');\n",
              "    nav_element.attr('style', 'width: 100%');\n",
              "    this.root.append(nav_element);\n",
              "\n",
              "    // Define a callback function for later on.\n",
              "    function toolbar_event(event) {\n",
              "        return fig.toolbar_button_onclick(event['data']);\n",
              "    }\n",
              "    function toolbar_mouse_event(event) {\n",
              "        return fig.toolbar_button_onmouseover(event['data']);\n",
              "    }\n",
              "\n",
              "    for(var toolbar_ind in mpl.toolbar_items){\n",
              "        var name = mpl.toolbar_items[toolbar_ind][0];\n",
              "        var tooltip = mpl.toolbar_items[toolbar_ind][1];\n",
              "        var image = mpl.toolbar_items[toolbar_ind][2];\n",
              "        var method_name = mpl.toolbar_items[toolbar_ind][3];\n",
              "\n",
              "        if (!name) { continue; };\n",
              "\n",
              "        var button = $('<button class=\"btn btn-default\" href=\"#\" title=\"' + name + '\"><i class=\"fa ' + image + ' fa-lg\"></i></button>');\n",
              "        button.click(method_name, toolbar_event);\n",
              "        button.mouseover(tooltip, toolbar_mouse_event);\n",
              "        nav_element.append(button);\n",
              "    }\n",
              "\n",
              "    // Add the status bar.\n",
              "    var status_bar = $('<span class=\"mpl-message\" style=\"text-align:right; float: right;\"/>');\n",
              "    nav_element.append(status_bar);\n",
              "    this.message = status_bar[0];\n",
              "\n",
              "    // Add the close button to the window.\n",
              "    var buttongrp = $('<div class=\"btn-group inline pull-right\"></div>');\n",
              "    var button = $('<button class=\"btn btn-mini btn-primary\" href=\"#\" title=\"Stop Interaction\"><i class=\"fa fa-power-off icon-remove icon-large\"></i></button>');\n",
              "    button.click(function (evt) { fig.handle_close(fig, {}); } );\n",
              "    button.mouseover('Stop Interaction', toolbar_mouse_event);\n",
              "    buttongrp.append(button);\n",
              "    var titlebar = this.root.find($('.ui-dialog-titlebar'));\n",
              "    titlebar.prepend(buttongrp);\n",
              "}\n",
              "\n",
              "mpl.figure.prototype._root_extra_style = function(el){\n",
              "    var fig = this\n",
              "    el.on(\"remove\", function(){\n",
              "\tfig.close_ws(fig, {});\n",
              "    });\n",
              "}\n",
              "\n",
              "mpl.figure.prototype._canvas_extra_style = function(el){\n",
              "    // this is important to make the div 'focusable\n",
              "    el.attr('tabindex', 0)\n",
              "    // reach out to IPython and tell the keyboard manager to turn it's self\n",
              "    // off when our div gets focus\n",
              "\n",
              "    // location in version 3\n",
              "    if (IPython.notebook.keyboard_manager) {\n",
              "        IPython.notebook.keyboard_manager.register_events(el);\n",
              "    }\n",
              "    else {\n",
              "        // location in version 2\n",
              "        IPython.keyboard_manager.register_events(el);\n",
              "    }\n",
              "\n",
              "}\n",
              "\n",
              "mpl.figure.prototype._key_event_extra = function(event, name) {\n",
              "    var manager = IPython.notebook.keyboard_manager;\n",
              "    if (!manager)\n",
              "        manager = IPython.keyboard_manager;\n",
              "\n",
              "    // Check for shift+enter\n",
              "    if (event.shiftKey && event.which == 13) {\n",
              "        this.canvas_div.blur();\n",
              "        event.shiftKey = false;\n",
              "        // Send a \"J\" for go to next cell\n",
              "        event.which = 74;\n",
              "        event.keyCode = 74;\n",
              "        manager.command_mode();\n",
              "        manager.handle_keydown(event);\n",
              "    }\n",
              "}\n",
              "\n",
              "mpl.figure.prototype.handle_save = function(fig, msg) {\n",
              "    fig.ondownload(fig, null);\n",
              "}\n",
              "\n",
              "\n",
              "mpl.find_output_cell = function(html_output) {\n",
              "    // Return the cell and output element which can be found *uniquely* in the notebook.\n",
              "    // Note - this is a bit hacky, but it is done because the \"notebook_saving.Notebook\"\n",
              "    // IPython event is triggered only after the cells have been serialised, which for\n",
              "    // our purposes (turning an active figure into a static one), is too late.\n",
              "    var cells = IPython.notebook.get_cells();\n",
              "    var ncells = cells.length;\n",
              "    for (var i=0; i<ncells; i++) {\n",
              "        var cell = cells[i];\n",
              "        if (cell.cell_type === 'code'){\n",
              "            for (var j=0; j<cell.output_area.outputs.length; j++) {\n",
              "                var data = cell.output_area.outputs[j];\n",
              "                if (data.data) {\n",
              "                    // IPython >= 3 moved mimebundle to data attribute of output\n",
              "                    data = data.data;\n",
              "                }\n",
              "                if (data['text/html'] == html_output) {\n",
              "                    return [cell, data, j];\n",
              "                }\n",
              "            }\n",
              "        }\n",
              "    }\n",
              "}\n",
              "\n",
              "// Register the function which deals with the matplotlib target/channel.\n",
              "// The kernel may be null if the page has been refreshed.\n",
              "if (IPython.notebook.kernel != null) {\n",
              "    IPython.notebook.kernel.comm_manager.register_target('matplotlib', mpl.mpl_figure_comm);\n",
              "}\n"
            ],
            "text/plain": [
              "<IPython.core.display.Javascript object>"
            ]
          },
          "metadata": {
            "tags": []
          }
        },
        {
          "output_type": "display_data",
          "data": {
            "text/html": [
              "<img src=\"data:image/png;base64,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\" width=\"640\">"
            ],
            "text/plain": [
              "<IPython.core.display.HTML object>"
            ]
          },
          "metadata": {
            "tags": []
          }
        },
        {
          "output_type": "execute_result",
          "data": {
            "text/plain": [
              "<sigpy.plot.ImagePlot at 0x7f12b00576d8>"
            ]
          },
          "metadata": {
            "tags": []
          },
          "execution_count": 24
        }
      ]
    },
    {
      "cell_type": "markdown",
      "metadata": {
        "id": "UVKPy_JT8oxz",
        "colab_type": "text"
      },
      "source": [
        "# Generate Sensitivity Maps\n",
        "\n",
        "We will need to estimate the sensitivity maps to incorporate multi-channel data. \n",
        "\n",
        "For this demo, we will use [JSENSE](https://onlinelibrary.wiley.com/doi/full/10.1002/mrm.21245), which has a fast implementation in SigPy."
      ]
    },
    {
      "cell_type": "code",
      "metadata": {
        "id": "nUgpCD1t8oxz",
        "colab_type": "code",
        "colab": {
          "referenced_widgets": [
            "d69cd8af12e947f3b7668be0dc886628"
          ]
        },
        "outputId": "97840f8b-ab46-4f00-8cd2-30dc18ef4cba"
      },
      "source": [
        "mps = mr.app.JsenseRecon(ksp, coord=coord, weights=dcf, device=device).run()\n",
        "\n",
        "# Plot\n",
        "pl.ImagePlot(mps, z=0, interpolation='lanczos')"
      ],
      "execution_count": 0,
      "outputs": [
        {
          "output_type": "display_data",
          "data": {
            "application/vnd.jupyter.widget-view+json": {
              "model_id": "d69cd8af12e947f3b7668be0dc886628",
              "version_major": 2,
              "version_minor": 0
            },
            "text/plain": [
              "HBox(children=(IntProgress(value=0, description='JsenseRecon', max=10, style=ProgressStyle(description_width='…"
            ]
          },
          "metadata": {
            "tags": []
          }
        },
        {
          "output_type": "stream",
          "text": [
            "\n"
          ],
          "name": "stdout"
        },
        {
          "output_type": "display_data",
          "data": {
            "application/javascript": [
              "/* Put everything inside the global mpl namespace */\n",
              "window.mpl = {};\n",
              "\n",
              "\n",
              "mpl.get_websocket_type = function() {\n",
              "    if (typeof(WebSocket) !== 'undefined') {\n",
              "        return WebSocket;\n",
              "    } else if (typeof(MozWebSocket) !== 'undefined') {\n",
              "        return MozWebSocket;\n",
              "    } else {\n",
              "        alert('Your browser does not have WebSocket support. ' +\n",
              "              'Please try Chrome, Safari or Firefox ≥ 6. ' +\n",
              "              'Firefox 4 and 5 are also supported but you ' +\n",
              "              'have to enable WebSockets in about:config.');\n",
              "    };\n",
              "}\n",
              "\n",
              "mpl.figure = function(figure_id, websocket, ondownload, parent_element) {\n",
              "    this.id = figure_id;\n",
              "\n",
              "    this.ws = websocket;\n",
              "\n",
              "    this.supports_binary = (this.ws.binaryType != undefined);\n",
              "\n",
              "    if (!this.supports_binary) {\n",
              "        var warnings = document.getElementById(\"mpl-warnings\");\n",
              "        if (warnings) {\n",
              "            warnings.style.display = 'block';\n",
              "            warnings.textContent = (\n",
              "                \"This browser does not support binary websocket messages. \" +\n",
              "                    \"Performance may be slow.\");\n",
              "        }\n",
              "    }\n",
              "\n",
              "    this.imageObj = new Image();\n",
              "\n",
              "    this.context = undefined;\n",
              "    this.message = undefined;\n",
              "    this.canvas = undefined;\n",
              "    this.rubberband_canvas = undefined;\n",
              "    this.rubberband_context = undefined;\n",
              "    this.format_dropdown = undefined;\n",
              "\n",
              "    this.image_mode = 'full';\n",
              "\n",
              "    this.root = $('<div/>');\n",
              "    this._root_extra_style(this.root)\n",
              "    this.root.attr('style', 'display: inline-block');\n",
              "\n",
              "    $(parent_element).append(this.root);\n",
              "\n",
              "    this._init_header(this);\n",
              "    this._init_canvas(this);\n",
              "    this._init_toolbar(this);\n",
              "\n",
              "    var fig = this;\n",
              "\n",
              "    this.waiting = false;\n",
              "\n",
              "    this.ws.onopen =  function () {\n",
              "            fig.send_message(\"supports_binary\", {value: fig.supports_binary});\n",
              "            fig.send_message(\"send_image_mode\", {});\n",
              "            if (mpl.ratio != 1) {\n",
              "                fig.send_message(\"set_dpi_ratio\", {'dpi_ratio': mpl.ratio});\n",
              "            }\n",
              "            fig.send_message(\"refresh\", {});\n",
              "        }\n",
              "\n",
              "    this.imageObj.onload = function() {\n",
              "            if (fig.image_mode == 'full') {\n",
              "                // Full images could contain transparency (where diff images\n",
              "                // almost always do), so we need to clear the canvas so that\n",
              "                // there is no ghosting.\n",
              "                fig.context.clearRect(0, 0, fig.canvas.width, fig.canvas.height);\n",
              "            }\n",
              "            fig.context.drawImage(fig.imageObj, 0, 0);\n",
              "        };\n",
              "\n",
              "    this.imageObj.onunload = function() {\n",
              "        fig.ws.close();\n",
              "    }\n",
              "\n",
              "    this.ws.onmessage = this._make_on_message_function(this);\n",
              "\n",
              "    this.ondownload = ondownload;\n",
              "}\n",
              "\n",
              "mpl.figure.prototype._init_header = function() {\n",
              "    var titlebar = $(\n",
              "        '<div class=\"ui-dialog-titlebar ui-widget-header ui-corner-all ' +\n",
              "        'ui-helper-clearfix\"/>');\n",
              "    var titletext = $(\n",
              "        '<div class=\"ui-dialog-title\" style=\"width: 100%; ' +\n",
              "        'text-align: center; padding: 3px;\"/>');\n",
              "    titlebar.append(titletext)\n",
              "    this.root.append(titlebar);\n",
              "    this.header = titletext[0];\n",
              "}\n",
              "\n",
              "\n",
              "\n",
              "mpl.figure.prototype._canvas_extra_style = function(canvas_div) {\n",
              "\n",
              "}\n",
              "\n",
              "\n",
              "mpl.figure.prototype._root_extra_style = function(canvas_div) {\n",
              "\n",
              "}\n",
              "\n",
              "mpl.figure.prototype._init_canvas = function() {\n",
              "    var fig = this;\n",
              "\n",
              "    var canvas_div = $('<div/>');\n",
              "\n",
              "    canvas_div.attr('style', 'position: relative; clear: both; outline: 0');\n",
              "\n",
              "    function canvas_keyboard_event(event) {\n",
              "        return fig.key_event(event, event['data']);\n",
              "    }\n",
              "\n",
              "    canvas_div.keydown('key_press', canvas_keyboard_event);\n",
              "    canvas_div.keyup('key_release', canvas_keyboard_event);\n",
              "    this.canvas_div = canvas_div\n",
              "    this._canvas_extra_style(canvas_div)\n",
              "    this.root.append(canvas_div);\n",
              "\n",
              "    var canvas = $('<canvas/>');\n",
              "    canvas.addClass('mpl-canvas');\n",
              "    canvas.attr('style', \"left: 0; top: 0; z-index: 0; outline: 0\")\n",
              "\n",
              "    this.canvas = canvas[0];\n",
              "    this.context = canvas[0].getContext(\"2d\");\n",
              "\n",
              "    var backingStore = this.context.backingStorePixelRatio ||\n",
              "\tthis.context.webkitBackingStorePixelRatio ||\n",
              "\tthis.context.mozBackingStorePixelRatio ||\n",
              "\tthis.context.msBackingStorePixelRatio ||\n",
              "\tthis.context.oBackingStorePixelRatio ||\n",
              "\tthis.context.backingStorePixelRatio || 1;\n",
              "\n",
              "    mpl.ratio = (window.devicePixelRatio || 1) / backingStore;\n",
              "\n",
              "    var rubberband = $('<canvas/>');\n",
              "    rubberband.attr('style', \"position: absolute; left: 0; top: 0; z-index: 1;\")\n",
              "\n",
              "    var pass_mouse_events = true;\n",
              "\n",
              "    canvas_div.resizable({\n",
              "        start: function(event, ui) {\n",
              "            pass_mouse_events = false;\n",
              "        },\n",
              "        resize: function(event, ui) {\n",
              "            fig.request_resize(ui.size.width, ui.size.height);\n",
              "        },\n",
              "        stop: function(event, ui) {\n",
              "            pass_mouse_events = true;\n",
              "            fig.request_resize(ui.size.width, ui.size.height);\n",
              "        },\n",
              "    });\n",
              "\n",
              "    function mouse_event_fn(event) {\n",
              "        if (pass_mouse_events)\n",
              "            return fig.mouse_event(event, event['data']);\n",
              "    }\n",
              "\n",
              "    rubberband.mousedown('button_press', mouse_event_fn);\n",
              "    rubberband.mouseup('button_release', mouse_event_fn);\n",
              "    // Throttle sequential mouse events to 1 every 20ms.\n",
              "    rubberband.mousemove('motion_notify', mouse_event_fn);\n",
              "\n",
              "    rubberband.mouseenter('figure_enter', mouse_event_fn);\n",
              "    rubberband.mouseleave('figure_leave', mouse_event_fn);\n",
              "\n",
              "    canvas_div.on(\"wheel\", function (event) {\n",
              "        event = event.originalEvent;\n",
              "        event['data'] = 'scroll'\n",
              "        if (event.deltaY < 0) {\n",
              "            event.step = 1;\n",
              "        } else {\n",
              "            event.step = -1;\n",
              "        }\n",
              "        mouse_event_fn(event);\n",
              "    });\n",
              "\n",
              "    canvas_div.append(canvas);\n",
              "    canvas_div.append(rubberband);\n",
              "\n",
              "    this.rubberband = rubberband;\n",
              "    this.rubberband_canvas = rubberband[0];\n",
              "    this.rubberband_context = rubberband[0].getContext(\"2d\");\n",
              "    this.rubberband_context.strokeStyle = \"#000000\";\n",
              "\n",
              "    this._resize_canvas = function(width, height) {\n",
              "        // Keep the size of the canvas, canvas container, and rubber band\n",
              "        // canvas in synch.\n",
              "        canvas_div.css('width', width)\n",
              "        canvas_div.css('height', height)\n",
              "\n",
              "        canvas.attr('width', width * mpl.ratio);\n",
              "        canvas.attr('height', height * mpl.ratio);\n",
              "        canvas.attr('style', 'width: ' + width + 'px; height: ' + height + 'px;');\n",
              "\n",
              "        rubberband.attr('width', width);\n",
              "        rubberband.attr('height', height);\n",
              "    }\n",
              "\n",
              "    // Set the figure to an initial 600x600px, this will subsequently be updated\n",
              "    // upon first draw.\n",
              "    this._resize_canvas(600, 600);\n",
              "\n",
              "    // Disable right mouse context menu.\n",
              "    $(this.rubberband_canvas).bind(\"contextmenu\",function(e){\n",
              "        return false;\n",
              "    });\n",
              "\n",
              "    function set_focus () {\n",
              "        canvas.focus();\n",
              "        canvas_div.focus();\n",
              "    }\n",
              "\n",
              "    window.setTimeout(set_focus, 100);\n",
              "}\n",
              "\n",
              "mpl.figure.prototype._init_toolbar = function() {\n",
              "    var fig = this;\n",
              "\n",
              "    var nav_element = $('<div/>');\n",
              "    nav_element.attr('style', 'width: 100%');\n",
              "    this.root.append(nav_element);\n",
              "\n",
              "    // Define a callback function for later on.\n",
              "    function toolbar_event(event) {\n",
              "        return fig.toolbar_button_onclick(event['data']);\n",
              "    }\n",
              "    function toolbar_mouse_event(event) {\n",
              "        return fig.toolbar_button_onmouseover(event['data']);\n",
              "    }\n",
              "\n",
              "    for(var toolbar_ind in mpl.toolbar_items) {\n",
              "        var name = mpl.toolbar_items[toolbar_ind][0];\n",
              "        var tooltip = mpl.toolbar_items[toolbar_ind][1];\n",
              "        var image = mpl.toolbar_items[toolbar_ind][2];\n",
              "        var method_name = mpl.toolbar_items[toolbar_ind][3];\n",
              "\n",
              "        if (!name) {\n",
              "            // put a spacer in here.\n",
              "            continue;\n",
              "        }\n",
              "        var button = $('<button/>');\n",
              "        button.addClass('ui-button ui-widget ui-state-default ui-corner-all ' +\n",
              "                        'ui-button-icon-only');\n",
              "        button.attr('role', 'button');\n",
              "        button.attr('aria-disabled', 'false');\n",
              "        button.click(method_name, toolbar_event);\n",
              "        button.mouseover(tooltip, toolbar_mouse_event);\n",
              "\n",
              "        var icon_img = $('<span/>');\n",
              "        icon_img.addClass('ui-button-icon-primary ui-icon');\n",
              "        icon_img.addClass(image);\n",
              "        icon_img.addClass('ui-corner-all');\n",
              "\n",
              "        var tooltip_span = $('<span/>');\n",
              "        tooltip_span.addClass('ui-button-text');\n",
              "        tooltip_span.html(tooltip);\n",
              "\n",
              "        button.append(icon_img);\n",
              "        button.append(tooltip_span);\n",
              "\n",
              "        nav_element.append(button);\n",
              "    }\n",
              "\n",
              "    var fmt_picker_span = $('<span/>');\n",
              "\n",
              "    var fmt_picker = $('<select/>');\n",
              "    fmt_picker.addClass('mpl-toolbar-option ui-widget ui-widget-content');\n",
              "    fmt_picker_span.append(fmt_picker);\n",
              "    nav_element.append(fmt_picker_span);\n",
              "    this.format_dropdown = fmt_picker[0];\n",
              "\n",
              "    for (var ind in mpl.extensions) {\n",
              "        var fmt = mpl.extensions[ind];\n",
              "        var option = $(\n",
              "            '<option/>', {selected: fmt === mpl.default_extension}).html(fmt);\n",
              "        fmt_picker.append(option);\n",
              "    }\n",
              "\n",
              "    // Add hover states to the ui-buttons\n",
              "    $( \".ui-button\" ).hover(\n",
              "        function() { $(this).addClass(\"ui-state-hover\");},\n",
              "        function() { $(this).removeClass(\"ui-state-hover\");}\n",
              "    );\n",
              "\n",
              "    var status_bar = $('<span class=\"mpl-message\"/>');\n",
              "    nav_element.append(status_bar);\n",
              "    this.message = status_bar[0];\n",
              "}\n",
              "\n",
              "mpl.figure.prototype.request_resize = function(x_pixels, y_pixels) {\n",
              "    // Request matplotlib to resize the figure. Matplotlib will then trigger a resize in the client,\n",
              "    // which will in turn request a refresh of the image.\n",
              "    this.send_message('resize', {'width': x_pixels, 'height': y_pixels});\n",
              "}\n",
              "\n",
              "mpl.figure.prototype.send_message = function(type, properties) {\n",
              "    properties['type'] = type;\n",
              "    properties['figure_id'] = this.id;\n",
              "    this.ws.send(JSON.stringify(properties));\n",
              "}\n",
              "\n",
              "mpl.figure.prototype.send_draw_message = function() {\n",
              "    if (!this.waiting) {\n",
              "        this.waiting = true;\n",
              "        this.ws.send(JSON.stringify({type: \"draw\", figure_id: this.id}));\n",
              "    }\n",
              "}\n",
              "\n",
              "\n",
              "mpl.figure.prototype.handle_save = function(fig, msg) {\n",
              "    var format_dropdown = fig.format_dropdown;\n",
              "    var format = format_dropdown.options[format_dropdown.selectedIndex].value;\n",
              "    fig.ondownload(fig, format);\n",
              "}\n",
              "\n",
              "\n",
              "mpl.figure.prototype.handle_resize = function(fig, msg) {\n",
              "    var size = msg['size'];\n",
              "    if (size[0] != fig.canvas.width || size[1] != fig.canvas.height) {\n",
              "        fig._resize_canvas(size[0], size[1]);\n",
              "        fig.send_message(\"refresh\", {});\n",
              "    };\n",
              "}\n",
              "\n",
              "mpl.figure.prototype.handle_rubberband = function(fig, msg) {\n",
              "    var x0 = msg['x0'] / mpl.ratio;\n",
              "    var y0 = (fig.canvas.height - msg['y0']) / mpl.ratio;\n",
              "    var x1 = msg['x1'] / mpl.ratio;\n",
              "    var y1 = (fig.canvas.height - msg['y1']) / mpl.ratio;\n",
              "    x0 = Math.floor(x0) + 0.5;\n",
              "    y0 = Math.floor(y0) + 0.5;\n",
              "    x1 = Math.floor(x1) + 0.5;\n",
              "    y1 = Math.floor(y1) + 0.5;\n",
              "    var min_x = Math.min(x0, x1);\n",
              "    var min_y = Math.min(y0, y1);\n",
              "    var width = Math.abs(x1 - x0);\n",
              "    var height = Math.abs(y1 - y0);\n",
              "\n",
              "    fig.rubberband_context.clearRect(\n",
              "        0, 0, fig.canvas.width, fig.canvas.height);\n",
              "\n",
              "    fig.rubberband_context.strokeRect(min_x, min_y, width, height);\n",
              "}\n",
              "\n",
              "mpl.figure.prototype.handle_figure_label = function(fig, msg) {\n",
              "    // Updates the figure title.\n",
              "    fig.header.textContent = msg['label'];\n",
              "}\n",
              "\n",
              "mpl.figure.prototype.handle_cursor = function(fig, msg) {\n",
              "    var cursor = msg['cursor'];\n",
              "    switch(cursor)\n",
              "    {\n",
              "    case 0:\n",
              "        cursor = 'pointer';\n",
              "        break;\n",
              "    case 1:\n",
              "        cursor = 'default';\n",
              "        break;\n",
              "    case 2:\n",
              "        cursor = 'crosshair';\n",
              "        break;\n",
              "    case 3:\n",
              "        cursor = 'move';\n",
              "        break;\n",
              "    }\n",
              "    fig.rubberband_canvas.style.cursor = cursor;\n",
              "}\n",
              "\n",
              "mpl.figure.prototype.handle_message = function(fig, msg) {\n",
              "    fig.message.textContent = msg['message'];\n",
              "}\n",
              "\n",
              "mpl.figure.prototype.handle_draw = function(fig, msg) {\n",
              "    // Request the server to send over a new figure.\n",
              "    fig.send_draw_message();\n",
              "}\n",
              "\n",
              "mpl.figure.prototype.handle_image_mode = function(fig, msg) {\n",
              "    fig.image_mode = msg['mode'];\n",
              "}\n",
              "\n",
              "mpl.figure.prototype.updated_canvas_event = function() {\n",
              "    // Called whenever the canvas gets updated.\n",
              "    this.send_message(\"ack\", {});\n",
              "}\n",
              "\n",
              "// A function to construct a web socket function for onmessage handling.\n",
              "// Called in the figure constructor.\n",
              "mpl.figure.prototype._make_on_message_function = function(fig) {\n",
              "    return function socket_on_message(evt) {\n",
              "        if (evt.data instanceof Blob) {\n",
              "            /* FIXME: We get \"Resource interpreted as Image but\n",
              "             * transferred with MIME type text/plain:\" errors on\n",
              "             * Chrome.  But how to set the MIME type?  It doesn't seem\n",
              "             * to be part of the websocket stream */\n",
              "            evt.data.type = \"image/png\";\n",
              "\n",
              "            /* Free the memory for the previous frames */\n",
              "            if (fig.imageObj.src) {\n",
              "                (window.URL || window.webkitURL).revokeObjectURL(\n",
              "                    fig.imageObj.src);\n",
              "            }\n",
              "\n",
              "            fig.imageObj.src = (window.URL || window.webkitURL).createObjectURL(\n",
              "                evt.data);\n",
              "            fig.updated_canvas_event();\n",
              "            fig.waiting = false;\n",
              "            return;\n",
              "        }\n",
              "        else if (typeof evt.data === 'string' && evt.data.slice(0, 21) == \"data:image/png;base64\") {\n",
              "            fig.imageObj.src = evt.data;\n",
              "            fig.updated_canvas_event();\n",
              "            fig.waiting = false;\n",
              "            return;\n",
              "        }\n",
              "\n",
              "        var msg = JSON.parse(evt.data);\n",
              "        var msg_type = msg['type'];\n",
              "\n",
              "        // Call the  \"handle_{type}\" callback, which takes\n",
              "        // the figure and JSON message as its only arguments.\n",
              "        try {\n",
              "            var callback = fig[\"handle_\" + msg_type];\n",
              "        } catch (e) {\n",
              "            console.log(\"No handler for the '\" + msg_type + \"' message type: \", msg);\n",
              "            return;\n",
              "        }\n",
              "\n",
              "        if (callback) {\n",
              "            try {\n",
              "                // console.log(\"Handling '\" + msg_type + \"' message: \", msg);\n",
              "                callback(fig, msg);\n",
              "            } catch (e) {\n",
              "                console.log(\"Exception inside the 'handler_\" + msg_type + \"' callback:\", e, e.stack, msg);\n",
              "            }\n",
              "        }\n",
              "    };\n",
              "}\n",
              "\n",
              "// from http://stackoverflow.com/questions/1114465/getting-mouse-location-in-canvas\n",
              "mpl.findpos = function(e) {\n",
              "    //this section is from http://www.quirksmode.org/js/events_properties.html\n",
              "    var targ;\n",
              "    if (!e)\n",
              "        e = window.event;\n",
              "    if (e.target)\n",
              "        targ = e.target;\n",
              "    else if (e.srcElement)\n",
              "        targ = e.srcElement;\n",
              "    if (targ.nodeType == 3) // defeat Safari bug\n",
              "        targ = targ.parentNode;\n",
              "\n",
              "    // jQuery normalizes the pageX and pageY\n",
              "    // pageX,Y are the mouse positions relative to the document\n",
              "    // offset() returns the position of the element relative to the document\n",
              "    var x = e.pageX - $(targ).offset().left;\n",
              "    var y = e.pageY - $(targ).offset().top;\n",
              "\n",
              "    return {\"x\": x, \"y\": y};\n",
              "};\n",
              "\n",
              "/*\n",
              " * return a copy of an object with only non-object keys\n",
              " * we need this to avoid circular references\n",
              " * http://stackoverflow.com/a/24161582/3208463\n",
              " */\n",
              "function simpleKeys (original) {\n",
              "  return Object.keys(original).reduce(function (obj, key) {\n",
              "    if (typeof original[key] !== 'object')\n",
              "        obj[key] = original[key]\n",
              "    return obj;\n",
              "  }, {});\n",
              "}\n",
              "\n",
              "mpl.figure.prototype.mouse_event = function(event, name) {\n",
              "    var canvas_pos = mpl.findpos(event)\n",
              "\n",
              "    if (name === 'button_press')\n",
              "    {\n",
              "        this.canvas.focus();\n",
              "        this.canvas_div.focus();\n",
              "    }\n",
              "\n",
              "    var x = canvas_pos.x * mpl.ratio;\n",
              "    var y = canvas_pos.y * mpl.ratio;\n",
              "\n",
              "    this.send_message(name, {x: x, y: y, button: event.button,\n",
              "                             step: event.step,\n",
              "                             guiEvent: simpleKeys(event)});\n",
              "\n",
              "    /* This prevents the web browser from automatically changing to\n",
              "     * the text insertion cursor when the button is pressed.  We want\n",
              "     * to control all of the cursor setting manually through the\n",
              "     * 'cursor' event from matplotlib */\n",
              "    event.preventDefault();\n",
              "    return false;\n",
              "}\n",
              "\n",
              "mpl.figure.prototype._key_event_extra = function(event, name) {\n",
              "    // Handle any extra behaviour associated with a key event\n",
              "}\n",
              "\n",
              "mpl.figure.prototype.key_event = function(event, name) {\n",
              "\n",
              "    // Prevent repeat events\n",
              "    if (name == 'key_press')\n",
              "    {\n",
              "        if (event.which === this._key)\n",
              "            return;\n",
              "        else\n",
              "            this._key = event.which;\n",
              "    }\n",
              "    if (name == 'key_release')\n",
              "        this._key = null;\n",
              "\n",
              "    var value = '';\n",
              "    if (event.ctrlKey && event.which != 17)\n",
              "        value += \"ctrl+\";\n",
              "    if (event.altKey && event.which != 18)\n",
              "        value += \"alt+\";\n",
              "    if (event.shiftKey && event.which != 16)\n",
              "        value += \"shift+\";\n",
              "\n",
              "    value += 'k';\n",
              "    value += event.which.toString();\n",
              "\n",
              "    this._key_event_extra(event, name);\n",
              "\n",
              "    this.send_message(name, {key: value,\n",
              "                             guiEvent: simpleKeys(event)});\n",
              "    return false;\n",
              "}\n",
              "\n",
              "mpl.figure.prototype.toolbar_button_onclick = function(name) {\n",
              "    if (name == 'download') {\n",
              "        this.handle_save(this, null);\n",
              "    } else {\n",
              "        this.send_message(\"toolbar_button\", {name: name});\n",
              "    }\n",
              "};\n",
              "\n",
              "mpl.figure.prototype.toolbar_button_onmouseover = function(tooltip) {\n",
              "    this.message.textContent = tooltip;\n",
              "};\n",
              "mpl.toolbar_items = [[\"Home\", \"Reset original view\", \"fa fa-home icon-home\", \"home\"], [\"Back\", \"Back to previous view\", \"fa fa-arrow-left icon-arrow-left\", \"back\"], [\"Forward\", \"Forward to next view\", \"fa fa-arrow-right icon-arrow-right\", \"forward\"], [\"\", \"\", \"\", \"\"], [\"Pan\", \"Pan axes with left mouse, zoom with right\", \"fa fa-arrows icon-move\", \"pan\"], [\"Zoom\", \"Zoom to rectangle\", \"fa fa-square-o icon-check-empty\", \"zoom\"], [\"\", \"\", \"\", \"\"], [\"Download\", \"Download plot\", \"fa fa-floppy-o icon-save\", \"download\"]];\n",
              "\n",
              "mpl.extensions = [\"eps\", \"jpeg\", \"pdf\", \"png\", \"ps\", \"raw\", \"svg\", \"tif\"];\n",
              "\n",
              "mpl.default_extension = \"png\";var comm_websocket_adapter = function(comm) {\n",
              "    // Create a \"websocket\"-like object which calls the given IPython comm\n",
              "    // object with the appropriate methods. Currently this is a non binary\n",
              "    // socket, so there is still some room for performance tuning.\n",
              "    var ws = {};\n",
              "\n",
              "    ws.close = function() {\n",
              "        comm.close()\n",
              "    };\n",
              "    ws.send = function(m) {\n",
              "        //console.log('sending', m);\n",
              "        comm.send(m);\n",
              "    };\n",
              "    // Register the callback with on_msg.\n",
              "    comm.on_msg(function(msg) {\n",
              "        //console.log('receiving', msg['content']['data'], msg);\n",
              "        // Pass the mpl event to the overridden (by mpl) onmessage function.\n",
              "        ws.onmessage(msg['content']['data'])\n",
              "    });\n",
              "    return ws;\n",
              "}\n",
              "\n",
              "mpl.mpl_figure_comm = function(comm, msg) {\n",
              "    // This is the function which gets called when the mpl process\n",
              "    // starts-up an IPython Comm through the \"matplotlib\" channel.\n",
              "\n",
              "    var id = msg.content.data.id;\n",
              "    // Get hold of the div created by the display call when the Comm\n",
              "    // socket was opened in Python.\n",
              "    var element = $(\"#\" + id);\n",
              "    var ws_proxy = comm_websocket_adapter(comm)\n",
              "\n",
              "    function ondownload(figure, format) {\n",
              "        window.open(figure.imageObj.src);\n",
              "    }\n",
              "\n",
              "    var fig = new mpl.figure(id, ws_proxy,\n",
              "                           ondownload,\n",
              "                           element.get(0));\n",
              "\n",
              "    // Call onopen now - mpl needs it, as it is assuming we've passed it a real\n",
              "    // web socket which is closed, not our websocket->open comm proxy.\n",
              "    ws_proxy.onopen();\n",
              "\n",
              "    fig.parent_element = element.get(0);\n",
              "    fig.cell_info = mpl.find_output_cell(\"<div id='\" + id + \"'></div>\");\n",
              "    if (!fig.cell_info) {\n",
              "        console.error(\"Failed to find cell for figure\", id, fig);\n",
              "        return;\n",
              "    }\n",
              "\n",
              "    var output_index = fig.cell_info[2]\n",
              "    var cell = fig.cell_info[0];\n",
              "\n",
              "};\n",
              "\n",
              "mpl.figure.prototype.handle_close = function(fig, msg) {\n",
              "    var width = fig.canvas.width/mpl.ratio\n",
              "    fig.root.unbind('remove')\n",
              "\n",
              "    // Update the output cell to use the data from the current canvas.\n",
              "    fig.push_to_output();\n",
              "    var dataURL = fig.canvas.toDataURL();\n",
              "    // Re-enable the keyboard manager in IPython - without this line, in FF,\n",
              "    // the notebook keyboard shortcuts fail.\n",
              "    IPython.keyboard_manager.enable()\n",
              "    $(fig.parent_element).html('<img src=\"' + dataURL + '\" width=\"' + width + '\">');\n",
              "    fig.close_ws(fig, msg);\n",
              "}\n",
              "\n",
              "mpl.figure.prototype.close_ws = function(fig, msg){\n",
              "    fig.send_message('closing', msg);\n",
              "    // fig.ws.close()\n",
              "}\n",
              "\n",
              "mpl.figure.prototype.push_to_output = function(remove_interactive) {\n",
              "    // Turn the data on the canvas into data in the output cell.\n",
              "    var width = this.canvas.width/mpl.ratio\n",
              "    var dataURL = this.canvas.toDataURL();\n",
              "    this.cell_info[1]['text/html'] = '<img src=\"' + dataURL + '\" width=\"' + width + '\">';\n",
              "}\n",
              "\n",
              "mpl.figure.prototype.updated_canvas_event = function() {\n",
              "    // Tell IPython that the notebook contents must change.\n",
              "    IPython.notebook.set_dirty(true);\n",
              "    this.send_message(\"ack\", {});\n",
              "    var fig = this;\n",
              "    // Wait a second, then push the new image to the DOM so\n",
              "    // that it is saved nicely (might be nice to debounce this).\n",
              "    setTimeout(function () { fig.push_to_output() }, 1000);\n",
              "}\n",
              "\n",
              "mpl.figure.prototype._init_toolbar = function() {\n",
              "    var fig = this;\n",
              "\n",
              "    var nav_element = $('<div/>');\n",
              "    nav_element.attr('style', 'width: 100%');\n",
              "    this.root.append(nav_element);\n",
              "\n",
              "    // Define a callback function for later on.\n",
              "    function toolbar_event(event) {\n",
              "        return fig.toolbar_button_onclick(event['data']);\n",
              "    }\n",
              "    function toolbar_mouse_event(event) {\n",
              "        return fig.toolbar_button_onmouseover(event['data']);\n",
              "    }\n",
              "\n",
              "    for(var toolbar_ind in mpl.toolbar_items){\n",
              "        var name = mpl.toolbar_items[toolbar_ind][0];\n",
              "        var tooltip = mpl.toolbar_items[toolbar_ind][1];\n",
              "        var image = mpl.toolbar_items[toolbar_ind][2];\n",
              "        var method_name = mpl.toolbar_items[toolbar_ind][3];\n",
              "\n",
              "        if (!name) { continue; };\n",
              "\n",
              "        var button = $('<button class=\"btn btn-default\" href=\"#\" title=\"' + name + '\"><i class=\"fa ' + image + ' fa-lg\"></i></button>');\n",
              "        button.click(method_name, toolbar_event);\n",
              "        button.mouseover(tooltip, toolbar_mouse_event);\n",
              "        nav_element.append(button);\n",
              "    }\n",
              "\n",
              "    // Add the status bar.\n",
              "    var status_bar = $('<span class=\"mpl-message\" style=\"text-align:right; float: right;\"/>');\n",
              "    nav_element.append(status_bar);\n",
              "    this.message = status_bar[0];\n",
              "\n",
              "    // Add the close button to the window.\n",
              "    var buttongrp = $('<div class=\"btn-group inline pull-right\"></div>');\n",
              "    var button = $('<button class=\"btn btn-mini btn-primary\" href=\"#\" title=\"Stop Interaction\"><i class=\"fa fa-power-off icon-remove icon-large\"></i></button>');\n",
              "    button.click(function (evt) { fig.handle_close(fig, {}); } );\n",
              "    button.mouseover('Stop Interaction', toolbar_mouse_event);\n",
              "    buttongrp.append(button);\n",
              "    var titlebar = this.root.find($('.ui-dialog-titlebar'));\n",
              "    titlebar.prepend(buttongrp);\n",
              "}\n",
              "\n",
              "mpl.figure.prototype._root_extra_style = function(el){\n",
              "    var fig = this\n",
              "    el.on(\"remove\", function(){\n",
              "\tfig.close_ws(fig, {});\n",
              "    });\n",
              "}\n",
              "\n",
              "mpl.figure.prototype._canvas_extra_style = function(el){\n",
              "    // this is important to make the div 'focusable\n",
              "    el.attr('tabindex', 0)\n",
              "    // reach out to IPython and tell the keyboard manager to turn it's self\n",
              "    // off when our div gets focus\n",
              "\n",
              "    // location in version 3\n",
              "    if (IPython.notebook.keyboard_manager) {\n",
              "        IPython.notebook.keyboard_manager.register_events(el);\n",
              "    }\n",
              "    else {\n",
              "        // location in version 2\n",
              "        IPython.keyboard_manager.register_events(el);\n",
              "    }\n",
              "\n",
              "}\n",
              "\n",
              "mpl.figure.prototype._key_event_extra = function(event, name) {\n",
              "    var manager = IPython.notebook.keyboard_manager;\n",
              "    if (!manager)\n",
              "        manager = IPython.keyboard_manager;\n",
              "\n",
              "    // Check for shift+enter\n",
              "    if (event.shiftKey && event.which == 13) {\n",
              "        this.canvas_div.blur();\n",
              "        event.shiftKey = false;\n",
              "        // Send a \"J\" for go to next cell\n",
              "        event.which = 74;\n",
              "        event.keyCode = 74;\n",
              "        manager.command_mode();\n",
              "        manager.handle_keydown(event);\n",
              "    }\n",
              "}\n",
              "\n",
              "mpl.figure.prototype.handle_save = function(fig, msg) {\n",
              "    fig.ondownload(fig, null);\n",
              "}\n",
              "\n",
              "\n",
              "mpl.find_output_cell = function(html_output) {\n",
              "    // Return the cell and output element which can be found *uniquely* in the notebook.\n",
              "    // Note - this is a bit hacky, but it is done because the \"notebook_saving.Notebook\"\n",
              "    // IPython event is triggered only after the cells have been serialised, which for\n",
              "    // our purposes (turning an active figure into a static one), is too late.\n",
              "    var cells = IPython.notebook.get_cells();\n",
              "    var ncells = cells.length;\n",
              "    for (var i=0; i<ncells; i++) {\n",
              "        var cell = cells[i];\n",
              "        if (cell.cell_type === 'code'){\n",
              "            for (var j=0; j<cell.output_area.outputs.length; j++) {\n",
              "                var data = cell.output_area.outputs[j];\n",
              "                if (data.data) {\n",
              "                    // IPython >= 3 moved mimebundle to data attribute of output\n",
              "                    data = data.data;\n",
              "                }\n",
              "                if (data['text/html'] == html_output) {\n",
              "                    return [cell, data, j];\n",
              "                }\n",
              "            }\n",
              "        }\n",
              "    }\n",
              "}\n",
              "\n",
              "// Register the function which deals with the matplotlib target/channel.\n",
              "// The kernel may be null if the page has been refreshed.\n",
              "if (IPython.notebook.kernel != null) {\n",
              "    IPython.notebook.kernel.comm_manager.register_target('matplotlib', mpl.mpl_figure_comm);\n",
              "}\n"
            ],
            "text/plain": [
              "<IPython.core.display.Javascript object>"
            ]
          },
          "metadata": {
            "tags": []
          }
        },
        {
          "output_type": "display_data",
          "data": {
            "text/html": [
              "<img src=\"data:image/png;base64,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\" width=\"640\">"
            ],
            "text/plain": [
              "<IPython.core.display.HTML object>"
            ]
          },
          "metadata": {
            "tags": []
          }
        },
        {
          "output_type": "execute_result",
          "data": {
            "text/plain": [
              "<sigpy.plot.ImagePlot at 0x7f129d736d68>"
            ]
          },
          "metadata": {
            "tags": []
          },
          "execution_count": 25
        }
      ]
    },
    {
      "cell_type": "markdown",
      "metadata": {
        "id": "0AxnSLNY8ox1",
        "colab_type": "text"
      },
      "source": [
        "# Multi-scale Low Rank Reconstruction\n",
        "\n",
        "The following runs the multi-scale low rank reconstruction with 20 frames.\n",
        "\n",
        "In this implementation, there is an initialization phase with power methods to initialize the singular vectors. Then, the reconstruction will run stochastic gradient method with a default of 90 epochs.\n",
        "\n",
        "Note that this can be rather slow depending on your computing device. As a reference, on a single GPU we tried, the low resolution reconstruction took ~8 minutes."
      ]
    },
    {
      "cell_type": "code",
      "metadata": {
        "scrolled": true,
        "id": "Ee23BMum8ox2",
        "colab_type": "code",
        "colab": {
          "referenced_widgets": [
            "dd15adbecee843e597a52f4a0ffa119f",
            "6f28b4b1d951492692519a93d71e8e93",
            "ef55136122f6457385937390d5b9b079",
            "60344e80a4a94f83b18508a7a9890629",
            "d79fc74537b148de96ec94c86843d1e2",
            "1a58fefef7b346d08734f5b854141774",
            "a5355ece402040b79a355c59e2ecfd83",
            "71c2c6674cb54c558cbe303d9d696991",
            "cdc98c7e309f4b7c9e5b67ed744c857d",
            "191370b5d48645428faed1feccf24c56",
            "a9906a32c39349ada057f83a2b45cc18",
            "633c11812cb6423cb4dae576c9e212cd",
            "d6915719b8aa427583104917ccbf0cbb",
            "ef3befa3eeed42adaa9dbeb990ceed79",
            "0b345ed489534ab9acbbd64045149b0d",
            "9ecdb031fc33452590b91a2eebc4bd57",
            "d0c6e565436944b48d384d97eba64c9f",
            "5d80e15e229b4d3a865295904a50d1d7",
            "800c05c3b0a3478588539347d3305654",
            "f6710cfbbbb64e6eae687295d033b897",
            "788d278e304d47a0bb7f220d4975bbec",
            "be5a55f32606412aac7e07475e324e0d",
            "39a6804dbf0d484fb381720b90b44767",
            "d4ef9edad65d47fa908a2f0b1823c21e",
            "2797f3916fa74dd39d9c9374aa1b6612",
            "8e146f071c0447848faca98ec8194da2",
            "0bdf7cd78a58441f9cd70188ba8c6174",
            "ffbe0a60a24f4494b8eb0ff30be9f69e",
            "00269120593e4ca0bfba3efd6fc5e6a8",
            "e10f6663e2cf4442bd03cd0526b4799d",
            "b6d8af9bb8004e24ade843855c9e2c57",
            "12ab9acb4a56498693af3e2a8fd6b412",
            "888a44e29d2946deb7187dd73a3a4fdf",
            "774390245b71450c9df5376d1ddc7ba2",
            "079dd6b9e605497ab9298711b567702b",
            "5e7ad68aef3240278fb9b66c6c944f7d",
            "7bb91930321b4633ac074d27ef919c3f",
            "d71d6bdd9513406b9fc6af957d885586",
            "5819b43eb1fa46dbaa9cd43936f862ed",
            "b0c4e83e0d9242bdb40ac94ad4ad5e9d",
            "da4ae9a6d64245179b9fa696b4557a29",
            "f70d8f7675ee423e8720d61eda1366bb",
            "2e1341bc5e774b538e5de654d27e17bc",
            "ec23ce8d013549398d402d715248b4b9",
            "78b31bc59ef94e19b651d121fa268f91",
            "f71a17d695c1433684685466c7c12400",
            "700e6aa3e72f44f3ab524cdf8f165b55",
            "dda657523f5e4b5588ec2ad5b46faaed",
            "7c4a8ac3f4c8457083996a65622273a4",
            "7c70a243bf8143b58cd64b8e89b6af54",
            "e5575ab51aa246c596eb7e183cb0d5d8",
            "093a54d08a87422fa62d35f8a2808e92",
            "edf8e8fa3bbc43d1adcd6359e0bdf06a",
            "37c68b4325b1432f8bdf7d9ad3dad10a",
            "22597622a4534ab4b89d3a0b05bdc141",
            "39787770d1ae43a48d1c0452245c03eb",
            "a675fac67bb644fd8a6d79ac424c2ef2",
            "9c95aa534389499ba4ece53b36ee409e",
            "f2d861c3b9864b048689bfc1e1e4462a",
            "e7a81f16f4144369b38889e64e48626b",
            "6a6d5a8bbfbb43ba82d876760e452826",
            "ed383c2ad60b44eaa1087826177f6607",
            "a21ef08bfa134bec885cc4bf98976ad9",
            "79fbb6a706bc49a6ac1d96947304d14e",
            "2a8af77df4c143c0ad77765be3759d6f",
            "8d32c9ad025b419c9dade6553fa945d6",
            "457c23f2caef4b6cbde813204e56a477",
            "e5218a718f314085909df3836dc0cfe7",
            "8ecfbd7945fd4fe78350288b549477c5",
            "2e4d027d4e214d4bb7afdfc7c236da87",
            "4b00d9dd2fd945199ba8bcc0551b60b8",
            "d2411060f0cb44ee97ebeb5ae631b561",
            "a29883070c3645f996b7df94f3d055e0",
            "bc1620899f834f179003e2d3823976ae",
            "fbc23650af9846be98b4e0a5371798e3",
            "ae6aed6c49264fc4a08ab61c5d821201",
            "032bedb5a4ba4c9984dabc60bbbf19ff",
            "d37f716a27c6455896526d134238e3fe",
            "5f89aeefe5714e35aed7d431762fedc6",
            "f5c0f0b8466c427a83380bd1d0f6816f",
            "5dc449f8df3f465db05966dec20b63f4",
            "4dee55ac2ae5499dba94e785a1880e7c",
            "d687d6aba81c41d4aabc39489d65b870",
            "bf8b1df5b17f48a49455af80b2892ccf",
            "6e9a69051a6b45a8ad0113051cfef40e",
            "b2a54d97049b4c3a97bc1a146113e993",
            "f301974bc6fc4656b8567032b02cf9eb",
            "3ab3f9ee7a3341f78bdeaab5fd1ade92",
            "b5ab013b0c0749a69fed6457907f2000",
            "a5d7ae8c152147c7896d1fdfbb676076",
            "7c67f05169c64ce799243ca361e5b6e0",
            "f8c5fc308b674d7fae0dc0089f5b087d",
            "ba2ecf6f928c49c7b38f54164254c583",
            "50c3ce3be7674caf96b8939536dd60a1",
            "5b4c59b87bc34d6fa3798c93059cae98",
            "827f85dec1a84a30affd299c238423f3",
            "2c16da3f85d34c6bbd5ce60d985ab14c",
            "2f6a7be334174d228da0bf201d3530b1",
            "2d9528e9c52047c49cc7b907558d4346",
            "6dab1edab2044f5a852ec030af6244fc",
            "fc64bdcb3fed422989757611f2c55e98",
            "a605fe515ce54025b653f3af9ff5999e",
            "318efbbd90644947b55cba6addc733cc",
            "1080bb71e9c74d828dee0402c898b369"
          ]
        },
        "outputId": "c5c7178d-d163-4fce-a114-19d9d814ab7a"
      },
      "source": [
        "T = 20\n",
        "lamda = 1e-8\n",
        "img = MultiScaleLowRankRecon(ksp, coord, dcf, mps, T, lamda, device=device).run()"
      ],
      "execution_count": 0,
      "outputs": [
        {
          "output_type": "display_data",
          "data": {
            "application/vnd.jupyter.widget-view+json": {
              "model_id": "dd15adbecee843e597a52f4a0ffa119f",
              "version_major": 2,
              "version_minor": 0
            },
            "text/plain": [
              "HBox(children=(IntProgress(value=0, description='MaxEig', max=5, style=ProgressStyle(description_width='initia…"
            ]
          },
          "metadata": {
            "tags": []
          }
        },
        {
          "output_type": "stream",
          "text": [
            "\n"
          ],
          "name": "stdout"
        },
        {
          "output_type": "display_data",
          "data": {
            "application/vnd.jupyter.widget-view+json": {
              "model_id": "6f28b4b1d951492692519a93d71e8e93",
              "version_major": 2,
              "version_minor": 0
            },
            "text/plain": [
              "HBox(children=(IntProgress(value=0, description='PowerIter R 1/5', max=20, style=ProgressStyle(description_wid…"
            ]
          },
          "metadata": {
            "tags": []
          }
        },
        {
          "output_type": "stream",
          "text": [
            "\n"
          ],
          "name": "stdout"
        },
        {
          "output_type": "display_data",
          "data": {
            "application/vnd.jupyter.widget-view+json": {
              "model_id": "ef55136122f6457385937390d5b9b079",
              "version_major": 2,
              "version_minor": 0
            },
            "text/plain": [
              "HBox(children=(IntProgress(value=0, description='PowerIter L 1/5', max=20, style=ProgressStyle(description_wid…"
            ]
          },
          "metadata": {
            "tags": []
          }
        },
        {
          "output_type": "stream",
          "text": [
            "\n"
          ],
          "name": "stdout"
        },
        {
          "output_type": "display_data",
          "data": {
            "application/vnd.jupyter.widget-view+json": {
              "model_id": "60344e80a4a94f83b18508a7a9890629",
              "version_major": 2,
              "version_minor": 0
            },
            "text/plain": [
              "HBox(children=(IntProgress(value=0, description='PowerIter R 2/5', max=20, style=ProgressStyle(description_wid…"
            ]
          },
          "metadata": {
            "tags": []
          }
        },
        {
          "output_type": "stream",
          "text": [
            "\n"
          ],
          "name": "stdout"
        },
        {
          "output_type": "display_data",
          "data": {
            "application/vnd.jupyter.widget-view+json": {
              "model_id": "d79fc74537b148de96ec94c86843d1e2",
              "version_major": 2,
              "version_minor": 0
            },
            "text/plain": [
              "HBox(children=(IntProgress(value=0, description='PowerIter L 2/5', max=20, style=ProgressStyle(description_wid…"
            ]
          },
          "metadata": {
            "tags": []
          }
        },
        {
          "output_type": "stream",
          "text": [
            "\n"
          ],
          "name": "stdout"
        },
        {
          "output_type": "display_data",
          "data": {
            "application/vnd.jupyter.widget-view+json": {
              "model_id": "1a58fefef7b346d08734f5b854141774",
              "version_major": 2,
              "version_minor": 0
            },
            "text/plain": [
              "HBox(children=(IntProgress(value=0, description='PowerIter R 3/5', max=20, style=ProgressStyle(description_wid…"
            ]
          },
          "metadata": {
            "tags": []
          }
        },
        {
          "output_type": "stream",
          "text": [
            "\n"
          ],
          "name": "stdout"
        },
        {
          "output_type": "display_data",
          "data": {
            "application/vnd.jupyter.widget-view+json": {
              "model_id": "a5355ece402040b79a355c59e2ecfd83",
              "version_major": 2,
              "version_minor": 0
            },
            "text/plain": [
              "HBox(children=(IntProgress(value=0, description='PowerIter L 3/5', max=20, style=ProgressStyle(description_wid…"
            ]
          },
          "metadata": {
            "tags": []
          }
        },
        {
          "output_type": "stream",
          "text": [
            "\n"
          ],
          "name": "stdout"
        },
        {
          "output_type": "display_data",
          "data": {
            "application/vnd.jupyter.widget-view+json": {
              "model_id": "71c2c6674cb54c558cbe303d9d696991",
              "version_major": 2,
              "version_minor": 0
            },
            "text/plain": [
              "HBox(children=(IntProgress(value=0, description='PowerIter R 4/5', max=20, style=ProgressStyle(description_wid…"
            ]
          },
          "metadata": {
            "tags": []
          }
        },
        {
          "output_type": "stream",
          "text": [
            "\n"
          ],
          "name": "stdout"
        },
        {
          "output_type": "display_data",
          "data": {
            "application/vnd.jupyter.widget-view+json": {
              "model_id": "cdc98c7e309f4b7c9e5b67ed744c857d",
              "version_major": 2,
              "version_minor": 0
            },
            "text/plain": [
              "HBox(children=(IntProgress(value=0, description='PowerIter L 4/5', max=20, style=ProgressStyle(description_wid…"
            ]
          },
          "metadata": {
            "tags": []
          }
        },
        {
          "output_type": "stream",
          "text": [
            "\n"
          ],
          "name": "stdout"
        },
        {
          "output_type": "display_data",
          "data": {
            "application/vnd.jupyter.widget-view+json": {
              "model_id": "191370b5d48645428faed1feccf24c56",
              "version_major": 2,
              "version_minor": 0
            },
            "text/plain": [
              "HBox(children=(IntProgress(value=0, description='PowerIter R 5/5', max=20, style=ProgressStyle(description_wid…"
            ]
          },
          "metadata": {
            "tags": []
          }
        },
        {
          "output_type": "stream",
          "text": [
            "\n"
          ],
          "name": "stdout"
        },
        {
          "output_type": "display_data",
          "data": {
            "application/vnd.jupyter.widget-view+json": {
              "model_id": "a9906a32c39349ada057f83a2b45cc18",
              "version_major": 2,
              "version_minor": 0
            },
            "text/plain": [
              "HBox(children=(IntProgress(value=0, description='PowerIter L 5/5', max=20, style=ProgressStyle(description_wid…"
            ]
          },
          "metadata": {
            "tags": []
          }
        },
        {
          "output_type": "stream",
          "text": [
            "\n"
          ],
          "name": "stdout"
        },
        {
          "output_type": "display_data",
          "data": {
            "application/vnd.jupyter.widget-view+json": {
              "model_id": "633c11812cb6423cb4dae576c9e212cd",
              "version_major": 2,
              "version_minor": 0
            },
            "text/plain": [
              "HBox(children=(IntProgress(value=0, description='Epoch 1/90', max=20, style=ProgressStyle(description_width='i…"
            ]
          },
          "metadata": {
            "tags": []
          }
        },
        {
          "output_type": "stream",
          "text": [
            "\n"
          ],
          "name": "stdout"
        },
        {
          "output_type": "display_data",
          "data": {
            "application/vnd.jupyter.widget-view+json": {
              "model_id": "d6915719b8aa427583104917ccbf0cbb",
              "version_major": 2,
              "version_minor": 0
            },
            "text/plain": [
              "HBox(children=(IntProgress(value=0, description='Epoch 2/90', max=20, style=ProgressStyle(description_width='i…"
            ]
          },
          "metadata": {
            "tags": []
          }
        },
        {
          "output_type": "stream",
          "text": [
            "\n"
          ],
          "name": "stdout"
        },
        {
          "output_type": "display_data",
          "data": {
            "application/vnd.jupyter.widget-view+json": {
              "model_id": "ef3befa3eeed42adaa9dbeb990ceed79",
              "version_major": 2,
              "version_minor": 0
            },
            "text/plain": [
              "HBox(children=(IntProgress(value=0, description='Epoch 3/90', max=20, style=ProgressStyle(description_width='i…"
            ]
          },
          "metadata": {
            "tags": []
          }
        },
        {
          "output_type": "stream",
          "text": [
            "\n",
            "\n",
            "Reconstruction diverged. Restart with alpha=7.79.\n"
          ],
          "name": "stdout"
        },
        {
          "output_type": "display_data",
          "data": {
            "application/vnd.jupyter.widget-view+json": {
              "model_id": "0b345ed489534ab9acbbd64045149b0d",
              "version_major": 2,
              "version_minor": 0
            },
            "text/plain": [
              "HBox(children=(IntProgress(value=0, description='Epoch 1/90', max=20, style=ProgressStyle(description_width='i…"
            ]
          },
          "metadata": {
            "tags": []
          }
        },
        {
          "output_type": "stream",
          "text": [
            "\n"
          ],
          "name": "stdout"
        },
        {
          "output_type": "display_data",
          "data": {
            "application/vnd.jupyter.widget-view+json": {
              "model_id": "9ecdb031fc33452590b91a2eebc4bd57",
              "version_major": 2,
              "version_minor": 0
            },
            "text/plain": [
              "HBox(children=(IntProgress(value=0, description='Epoch 2/90', max=20, style=ProgressStyle(description_width='i…"
            ]
          },
          "metadata": {
            "tags": []
          }
        },
        {
          "output_type": "stream",
          "text": [
            "\n"
          ],
          "name": "stdout"
        },
        {
          "output_type": "display_data",
          "data": {
            "application/vnd.jupyter.widget-view+json": {
              "model_id": "d0c6e565436944b48d384d97eba64c9f",
              "version_major": 2,
              "version_minor": 0
            },
            "text/plain": [
              "HBox(children=(IntProgress(value=0, description='Epoch 3/90', max=20, style=ProgressStyle(description_width='i…"
            ]
          },
          "metadata": {
            "tags": []
          }
        },
        {
          "output_type": "stream",
          "text": [
            "\n"
          ],
          "name": "stdout"
        },
        {
          "output_type": "display_data",
          "data": {
            "application/vnd.jupyter.widget-view+json": {
              "model_id": "5d80e15e229b4d3a865295904a50d1d7",
              "version_major": 2,
              "version_minor": 0
            },
            "text/plain": [
              "HBox(children=(IntProgress(value=0, description='Epoch 4/90', max=20, style=ProgressStyle(description_width='i…"
            ]
          },
          "metadata": {
            "tags": []
          }
        },
        {
          "output_type": "stream",
          "text": [
            "\n"
          ],
          "name": "stdout"
        },
        {
          "output_type": "display_data",
          "data": {
            "application/vnd.jupyter.widget-view+json": {
              "model_id": "800c05c3b0a3478588539347d3305654",
              "version_major": 2,
              "version_minor": 0
            },
            "text/plain": [
              "HBox(children=(IntProgress(value=0, description='Epoch 5/90', max=20, style=ProgressStyle(description_width='i…"
            ]
          },
          "metadata": {
            "tags": []
          }
        },
        {
          "output_type": "stream",
          "text": [
            "\n"
          ],
          "name": "stdout"
        },
        {
          "output_type": "display_data",
          "data": {
            "application/vnd.jupyter.widget-view+json": {
              "model_id": "f6710cfbbbb64e6eae687295d033b897",
              "version_major": 2,
              "version_minor": 0
            },
            "text/plain": [
              "HBox(children=(IntProgress(value=0, description='Epoch 6/90', max=20, style=ProgressStyle(description_width='i…"
            ]
          },
          "metadata": {
            "tags": []
          }
        },
        {
          "output_type": "stream",
          "text": [
            "\n"
          ],
          "name": "stdout"
        },
        {
          "output_type": "display_data",
          "data": {
            "application/vnd.jupyter.widget-view+json": {
              "model_id": "788d278e304d47a0bb7f220d4975bbec",
              "version_major": 2,
              "version_minor": 0
            },
            "text/plain": [
              "HBox(children=(IntProgress(value=0, description='Epoch 7/90', max=20, style=ProgressStyle(description_width='i…"
            ]
          },
          "metadata": {
            "tags": []
          }
        },
        {
          "output_type": "stream",
          "text": [
            "\n"
          ],
          "name": "stdout"
        },
        {
          "output_type": "display_data",
          "data": {
            "application/vnd.jupyter.widget-view+json": {
              "model_id": "be5a55f32606412aac7e07475e324e0d",
              "version_major": 2,
              "version_minor": 0
            },
            "text/plain": [
              "HBox(children=(IntProgress(value=0, description='Epoch 8/90', max=20, style=ProgressStyle(description_width='i…"
            ]
          },
          "metadata": {
            "tags": []
          }
        },
        {
          "output_type": "stream",
          "text": [
            "\n"
          ],
          "name": "stdout"
        },
        {
          "output_type": "display_data",
          "data": {
            "application/vnd.jupyter.widget-view+json": {
              "model_id": "39a6804dbf0d484fb381720b90b44767",
              "version_major": 2,
              "version_minor": 0
            },
            "text/plain": [
              "HBox(children=(IntProgress(value=0, description='Epoch 9/90', max=20, style=ProgressStyle(description_width='i…"
            ]
          },
          "metadata": {
            "tags": []
          }
        },
        {
          "output_type": "stream",
          "text": [
            "\n"
          ],
          "name": "stdout"
        },
        {
          "output_type": "display_data",
          "data": {
            "application/vnd.jupyter.widget-view+json": {
              "model_id": "d4ef9edad65d47fa908a2f0b1823c21e",
              "version_major": 2,
              "version_minor": 0
            },
            "text/plain": [
              "HBox(children=(IntProgress(value=0, description='Epoch 10/90', max=20, style=ProgressStyle(description_width='…"
            ]
          },
          "metadata": {
            "tags": []
          }
        },
        {
          "output_type": "stream",
          "text": [
            "\n"
          ],
          "name": "stdout"
        },
        {
          "output_type": "display_data",
          "data": {
            "application/vnd.jupyter.widget-view+json": {
              "model_id": "2797f3916fa74dd39d9c9374aa1b6612",
              "version_major": 2,
              "version_minor": 0
            },
            "text/plain": [
              "HBox(children=(IntProgress(value=0, description='Epoch 11/90', max=20, style=ProgressStyle(description_width='…"
            ]
          },
          "metadata": {
            "tags": []
          }
        },
        {
          "output_type": "stream",
          "text": [
            "\n"
          ],
          "name": "stdout"
        },
        {
          "output_type": "display_data",
          "data": {
            "application/vnd.jupyter.widget-view+json": {
              "model_id": "8e146f071c0447848faca98ec8194da2",
              "version_major": 2,
              "version_minor": 0
            },
            "text/plain": [
              "HBox(children=(IntProgress(value=0, description='Epoch 12/90', max=20, style=ProgressStyle(description_width='…"
            ]
          },
          "metadata": {
            "tags": []
          }
        },
        {
          "output_type": "stream",
          "text": [
            "\n"
          ],
          "name": "stdout"
        },
        {
          "output_type": "display_data",
          "data": {
            "application/vnd.jupyter.widget-view+json": {
              "model_id": "0bdf7cd78a58441f9cd70188ba8c6174",
              "version_major": 2,
              "version_minor": 0
            },
            "text/plain": [
              "HBox(children=(IntProgress(value=0, description='Epoch 13/90', max=20, style=ProgressStyle(description_width='…"
            ]
          },
          "metadata": {
            "tags": []
          }
        },
        {
          "output_type": "stream",
          "text": [
            "\n"
          ],
          "name": "stdout"
        },
        {
          "output_type": "display_data",
          "data": {
            "application/vnd.jupyter.widget-view+json": {
              "model_id": "ffbe0a60a24f4494b8eb0ff30be9f69e",
              "version_major": 2,
              "version_minor": 0
            },
            "text/plain": [
              "HBox(children=(IntProgress(value=0, description='Epoch 14/90', max=20, style=ProgressStyle(description_width='…"
            ]
          },
          "metadata": {
            "tags": []
          }
        },
        {
          "output_type": "stream",
          "text": [
            "\n"
          ],
          "name": "stdout"
        },
        {
          "output_type": "display_data",
          "data": {
            "application/vnd.jupyter.widget-view+json": {
              "model_id": "00269120593e4ca0bfba3efd6fc5e6a8",
              "version_major": 2,
              "version_minor": 0
            },
            "text/plain": [
              "HBox(children=(IntProgress(value=0, description='Epoch 15/90', max=20, style=ProgressStyle(description_width='…"
            ]
          },
          "metadata": {
            "tags": []
          }
        },
        {
          "output_type": "stream",
          "text": [
            "\n"
          ],
          "name": "stdout"
        },
        {
          "output_type": "display_data",
          "data": {
            "application/vnd.jupyter.widget-view+json": {
              "model_id": "e10f6663e2cf4442bd03cd0526b4799d",
              "version_major": 2,
              "version_minor": 0
            },
            "text/plain": [
              "HBox(children=(IntProgress(value=0, description='Epoch 16/90', max=20, style=ProgressStyle(description_width='…"
            ]
          },
          "metadata": {
            "tags": []
          }
        },
        {
          "output_type": "stream",
          "text": [
            "\n"
          ],
          "name": "stdout"
        },
        {
          "output_type": "display_data",
          "data": {
            "application/vnd.jupyter.widget-view+json": {
              "model_id": "b6d8af9bb8004e24ade843855c9e2c57",
              "version_major": 2,
              "version_minor": 0
            },
            "text/plain": [
              "HBox(children=(IntProgress(value=0, description='Epoch 17/90', max=20, style=ProgressStyle(description_width='…"
            ]
          },
          "metadata": {
            "tags": []
          }
        },
        {
          "output_type": "stream",
          "text": [
            "\n"
          ],
          "name": "stdout"
        },
        {
          "output_type": "display_data",
          "data": {
            "application/vnd.jupyter.widget-view+json": {
              "model_id": "12ab9acb4a56498693af3e2a8fd6b412",
              "version_major": 2,
              "version_minor": 0
            },
            "text/plain": [
              "HBox(children=(IntProgress(value=0, description='Epoch 18/90', max=20, style=ProgressStyle(description_width='…"
            ]
          },
          "metadata": {
            "tags": []
          }
        },
        {
          "output_type": "stream",
          "text": [
            "\n"
          ],
          "name": "stdout"
        },
        {
          "output_type": "display_data",
          "data": {
            "application/vnd.jupyter.widget-view+json": {
              "model_id": "888a44e29d2946deb7187dd73a3a4fdf",
              "version_major": 2,
              "version_minor": 0
            },
            "text/plain": [
              "HBox(children=(IntProgress(value=0, description='Epoch 19/90', max=20, style=ProgressStyle(description_width='…"
            ]
          },
          "metadata": {
            "tags": []
          }
        },
        {
          "output_type": "stream",
          "text": [
            "\n"
          ],
          "name": "stdout"
        },
        {
          "output_type": "display_data",
          "data": {
            "application/vnd.jupyter.widget-view+json": {
              "model_id": "774390245b71450c9df5376d1ddc7ba2",
              "version_major": 2,
              "version_minor": 0
            },
            "text/plain": [
              "HBox(children=(IntProgress(value=0, description='Epoch 20/90', max=20, style=ProgressStyle(description_width='…"
            ]
          },
          "metadata": {
            "tags": []
          }
        },
        {
          "output_type": "stream",
          "text": [
            "\n"
          ],
          "name": "stdout"
        },
        {
          "output_type": "display_data",
          "data": {
            "application/vnd.jupyter.widget-view+json": {
              "model_id": "079dd6b9e605497ab9298711b567702b",
              "version_major": 2,
              "version_minor": 0
            },
            "text/plain": [
              "HBox(children=(IntProgress(value=0, description='Epoch 21/90', max=20, style=ProgressStyle(description_width='…"
            ]
          },
          "metadata": {
            "tags": []
          }
        },
        {
          "output_type": "stream",
          "text": [
            "\n"
          ],
          "name": "stdout"
        },
        {
          "output_type": "display_data",
          "data": {
            "application/vnd.jupyter.widget-view+json": {
              "model_id": "5e7ad68aef3240278fb9b66c6c944f7d",
              "version_major": 2,
              "version_minor": 0
            },
            "text/plain": [
              "HBox(children=(IntProgress(value=0, description='Epoch 22/90', max=20, style=ProgressStyle(description_width='…"
            ]
          },
          "metadata": {
            "tags": []
          }
        },
        {
          "output_type": "stream",
          "text": [
            "\n"
          ],
          "name": "stdout"
        },
        {
          "output_type": "display_data",
          "data": {
            "application/vnd.jupyter.widget-view+json": {
              "model_id": "7bb91930321b4633ac074d27ef919c3f",
              "version_major": 2,
              "version_minor": 0
            },
            "text/plain": [
              "HBox(children=(IntProgress(value=0, description='Epoch 23/90', max=20, style=ProgressStyle(description_width='…"
            ]
          },
          "metadata": {
            "tags": []
          }
        },
        {
          "output_type": "stream",
          "text": [
            "\n"
          ],
          "name": "stdout"
        },
        {
          "output_type": "display_data",
          "data": {
            "application/vnd.jupyter.widget-view+json": {
              "model_id": "d71d6bdd9513406b9fc6af957d885586",
              "version_major": 2,
              "version_minor": 0
            },
            "text/plain": [
              "HBox(children=(IntProgress(value=0, description='Epoch 24/90', max=20, style=ProgressStyle(description_width='…"
            ]
          },
          "metadata": {
            "tags": []
          }
        },
        {
          "output_type": "stream",
          "text": [
            "\n"
          ],
          "name": "stdout"
        },
        {
          "output_type": "display_data",
          "data": {
            "application/vnd.jupyter.widget-view+json": {
              "model_id": "5819b43eb1fa46dbaa9cd43936f862ed",
              "version_major": 2,
              "version_minor": 0
            },
            "text/plain": [
              "HBox(children=(IntProgress(value=0, description='Epoch 25/90', max=20, style=ProgressStyle(description_width='…"
            ]
          },
          "metadata": {
            "tags": []
          }
        },
        {
          "output_type": "stream",
          "text": [
            "\n"
          ],
          "name": "stdout"
        },
        {
          "output_type": "display_data",
          "data": {
            "application/vnd.jupyter.widget-view+json": {
              "model_id": "b0c4e83e0d9242bdb40ac94ad4ad5e9d",
              "version_major": 2,
              "version_minor": 0
            },
            "text/plain": [
              "HBox(children=(IntProgress(value=0, description='Epoch 26/90', max=20, style=ProgressStyle(description_width='…"
            ]
          },
          "metadata": {
            "tags": []
          }
        },
        {
          "output_type": "stream",
          "text": [
            "\n"
          ],
          "name": "stdout"
        },
        {
          "output_type": "display_data",
          "data": {
            "application/vnd.jupyter.widget-view+json": {
              "model_id": "da4ae9a6d64245179b9fa696b4557a29",
              "version_major": 2,
              "version_minor": 0
            },
            "text/plain": [
              "HBox(children=(IntProgress(value=0, description='Epoch 27/90', max=20, style=ProgressStyle(description_width='…"
            ]
          },
          "metadata": {
            "tags": []
          }
        },
        {
          "output_type": "stream",
          "text": [
            "\n"
          ],
          "name": "stdout"
        },
        {
          "output_type": "display_data",
          "data": {
            "application/vnd.jupyter.widget-view+json": {
              "model_id": "f70d8f7675ee423e8720d61eda1366bb",
              "version_major": 2,
              "version_minor": 0
            },
            "text/plain": [
              "HBox(children=(IntProgress(value=0, description='Epoch 28/90', max=20, style=ProgressStyle(description_width='…"
            ]
          },
          "metadata": {
            "tags": []
          }
        },
        {
          "output_type": "stream",
          "text": [
            "\n"
          ],
          "name": "stdout"
        },
        {
          "output_type": "display_data",
          "data": {
            "application/vnd.jupyter.widget-view+json": {
              "model_id": "2e1341bc5e774b538e5de654d27e17bc",
              "version_major": 2,
              "version_minor": 0
            },
            "text/plain": [
              "HBox(children=(IntProgress(value=0, description='Epoch 29/90', max=20, style=ProgressStyle(description_width='…"
            ]
          },
          "metadata": {
            "tags": []
          }
        },
        {
          "output_type": "stream",
          "text": [
            "\n"
          ],
          "name": "stdout"
        },
        {
          "output_type": "display_data",
          "data": {
            "application/vnd.jupyter.widget-view+json": {
              "model_id": "ec23ce8d013549398d402d715248b4b9",
              "version_major": 2,
              "version_minor": 0
            },
            "text/plain": [
              "HBox(children=(IntProgress(value=0, description='Epoch 30/90', max=20, style=ProgressStyle(description_width='…"
            ]
          },
          "metadata": {
            "tags": []
          }
        },
        {
          "output_type": "stream",
          "text": [
            "\n"
          ],
          "name": "stdout"
        },
        {
          "output_type": "display_data",
          "data": {
            "application/vnd.jupyter.widget-view+json": {
              "model_id": "78b31bc59ef94e19b651d121fa268f91",
              "version_major": 2,
              "version_minor": 0
            },
            "text/plain": [
              "HBox(children=(IntProgress(value=0, description='Epoch 31/90', max=20, style=ProgressStyle(description_width='…"
            ]
          },
          "metadata": {
            "tags": []
          }
        },
        {
          "output_type": "stream",
          "text": [
            "\n"
          ],
          "name": "stdout"
        },
        {
          "output_type": "display_data",
          "data": {
            "application/vnd.jupyter.widget-view+json": {
              "model_id": "f71a17d695c1433684685466c7c12400",
              "version_major": 2,
              "version_minor": 0
            },
            "text/plain": [
              "HBox(children=(IntProgress(value=0, description='Epoch 32/90', max=20, style=ProgressStyle(description_width='…"
            ]
          },
          "metadata": {
            "tags": []
          }
        },
        {
          "output_type": "stream",
          "text": [
            "\n"
          ],
          "name": "stdout"
        },
        {
          "output_type": "display_data",
          "data": {
            "application/vnd.jupyter.widget-view+json": {
              "model_id": "700e6aa3e72f44f3ab524cdf8f165b55",
              "version_major": 2,
              "version_minor": 0
            },
            "text/plain": [
              "HBox(children=(IntProgress(value=0, description='Epoch 33/90', max=20, style=ProgressStyle(description_width='…"
            ]
          },
          "metadata": {
            "tags": []
          }
        },
        {
          "output_type": "stream",
          "text": [
            "\n"
          ],
          "name": "stdout"
        },
        {
          "output_type": "display_data",
          "data": {
            "application/vnd.jupyter.widget-view+json": {
              "model_id": "dda657523f5e4b5588ec2ad5b46faaed",
              "version_major": 2,
              "version_minor": 0
            },
            "text/plain": [
              "HBox(children=(IntProgress(value=0, description='Epoch 34/90', max=20, style=ProgressStyle(description_width='…"
            ]
          },
          "metadata": {
            "tags": []
          }
        },
        {
          "output_type": "stream",
          "text": [
            "\n"
          ],
          "name": "stdout"
        },
        {
          "output_type": "display_data",
          "data": {
            "application/vnd.jupyter.widget-view+json": {
              "model_id": "7c4a8ac3f4c8457083996a65622273a4",
              "version_major": 2,
              "version_minor": 0
            },
            "text/plain": [
              "HBox(children=(IntProgress(value=0, description='Epoch 35/90', max=20, style=ProgressStyle(description_width='…"
            ]
          },
          "metadata": {
            "tags": []
          }
        },
        {
          "output_type": "stream",
          "text": [
            "\n"
          ],
          "name": "stdout"
        },
        {
          "output_type": "display_data",
          "data": {
            "application/vnd.jupyter.widget-view+json": {
              "model_id": "7c70a243bf8143b58cd64b8e89b6af54",
              "version_major": 2,
              "version_minor": 0
            },
            "text/plain": [
              "HBox(children=(IntProgress(value=0, description='Epoch 36/90', max=20, style=ProgressStyle(description_width='…"
            ]
          },
          "metadata": {
            "tags": []
          }
        },
        {
          "output_type": "stream",
          "text": [
            "\n"
          ],
          "name": "stdout"
        },
        {
          "output_type": "display_data",
          "data": {
            "application/vnd.jupyter.widget-view+json": {
              "model_id": "e5575ab51aa246c596eb7e183cb0d5d8",
              "version_major": 2,
              "version_minor": 0
            },
            "text/plain": [
              "HBox(children=(IntProgress(value=0, description='Epoch 37/90', max=20, style=ProgressStyle(description_width='…"
            ]
          },
          "metadata": {
            "tags": []
          }
        },
        {
          "output_type": "stream",
          "text": [
            "\n"
          ],
          "name": "stdout"
        },
        {
          "output_type": "display_data",
          "data": {
            "application/vnd.jupyter.widget-view+json": {
              "model_id": "093a54d08a87422fa62d35f8a2808e92",
              "version_major": 2,
              "version_minor": 0
            },
            "text/plain": [
              "HBox(children=(IntProgress(value=0, description='Epoch 38/90', max=20, style=ProgressStyle(description_width='…"
            ]
          },
          "metadata": {
            "tags": []
          }
        },
        {
          "output_type": "stream",
          "text": [
            "\n"
          ],
          "name": "stdout"
        },
        {
          "output_type": "display_data",
          "data": {
            "application/vnd.jupyter.widget-view+json": {
              "model_id": "edf8e8fa3bbc43d1adcd6359e0bdf06a",
              "version_major": 2,
              "version_minor": 0
            },
            "text/plain": [
              "HBox(children=(IntProgress(value=0, description='Epoch 39/90', max=20, style=ProgressStyle(description_width='…"
            ]
          },
          "metadata": {
            "tags": []
          }
        },
        {
          "output_type": "stream",
          "text": [
            "\n"
          ],
          "name": "stdout"
        },
        {
          "output_type": "display_data",
          "data": {
            "application/vnd.jupyter.widget-view+json": {
              "model_id": "37c68b4325b1432f8bdf7d9ad3dad10a",
              "version_major": 2,
              "version_minor": 0
            },
            "text/plain": [
              "HBox(children=(IntProgress(value=0, description='Epoch 40/90', max=20, style=ProgressStyle(description_width='…"
            ]
          },
          "metadata": {
            "tags": []
          }
        },
        {
          "output_type": "stream",
          "text": [
            "\n"
          ],
          "name": "stdout"
        },
        {
          "output_type": "display_data",
          "data": {
            "application/vnd.jupyter.widget-view+json": {
              "model_id": "22597622a4534ab4b89d3a0b05bdc141",
              "version_major": 2,
              "version_minor": 0
            },
            "text/plain": [
              "HBox(children=(IntProgress(value=0, description='Epoch 41/90', max=20, style=ProgressStyle(description_width='…"
            ]
          },
          "metadata": {
            "tags": []
          }
        },
        {
          "output_type": "stream",
          "text": [
            "\n"
          ],
          "name": "stdout"
        },
        {
          "output_type": "display_data",
          "data": {
            "application/vnd.jupyter.widget-view+json": {
              "model_id": "39787770d1ae43a48d1c0452245c03eb",
              "version_major": 2,
              "version_minor": 0
            },
            "text/plain": [
              "HBox(children=(IntProgress(value=0, description='Epoch 42/90', max=20, style=ProgressStyle(description_width='…"
            ]
          },
          "metadata": {
            "tags": []
          }
        },
        {
          "output_type": "stream",
          "text": [
            "\n"
          ],
          "name": "stdout"
        },
        {
          "output_type": "display_data",
          "data": {
            "application/vnd.jupyter.widget-view+json": {
              "model_id": "a675fac67bb644fd8a6d79ac424c2ef2",
              "version_major": 2,
              "version_minor": 0
            },
            "text/plain": [
              "HBox(children=(IntProgress(value=0, description='Epoch 43/90', max=20, style=ProgressStyle(description_width='…"
            ]
          },
          "metadata": {
            "tags": []
          }
        },
        {
          "output_type": "stream",
          "text": [
            "\n"
          ],
          "name": "stdout"
        },
        {
          "output_type": "display_data",
          "data": {
            "application/vnd.jupyter.widget-view+json": {
              "model_id": "9c95aa534389499ba4ece53b36ee409e",
              "version_major": 2,
              "version_minor": 0
            },
            "text/plain": [
              "HBox(children=(IntProgress(value=0, description='Epoch 44/90', max=20, style=ProgressStyle(description_width='…"
            ]
          },
          "metadata": {
            "tags": []
          }
        },
        {
          "output_type": "stream",
          "text": [
            "\n"
          ],
          "name": "stdout"
        },
        {
          "output_type": "display_data",
          "data": {
            "application/vnd.jupyter.widget-view+json": {
              "model_id": "f2d861c3b9864b048689bfc1e1e4462a",
              "version_major": 2,
              "version_minor": 0
            },
            "text/plain": [
              "HBox(children=(IntProgress(value=0, description='Epoch 45/90', max=20, style=ProgressStyle(description_width='…"
            ]
          },
          "metadata": {
            "tags": []
          }
        },
        {
          "output_type": "stream",
          "text": [
            "\n"
          ],
          "name": "stdout"
        },
        {
          "output_type": "display_data",
          "data": {
            "application/vnd.jupyter.widget-view+json": {
              "model_id": "e7a81f16f4144369b38889e64e48626b",
              "version_major": 2,
              "version_minor": 0
            },
            "text/plain": [
              "HBox(children=(IntProgress(value=0, description='Epoch 46/90', max=20, style=ProgressStyle(description_width='…"
            ]
          },
          "metadata": {
            "tags": []
          }
        },
        {
          "output_type": "stream",
          "text": [
            "\n"
          ],
          "name": "stdout"
        },
        {
          "output_type": "display_data",
          "data": {
            "application/vnd.jupyter.widget-view+json": {
              "model_id": "6a6d5a8bbfbb43ba82d876760e452826",
              "version_major": 2,
              "version_minor": 0
            },
            "text/plain": [
              "HBox(children=(IntProgress(value=0, description='Epoch 47/90', max=20, style=ProgressStyle(description_width='…"
            ]
          },
          "metadata": {
            "tags": []
          }
        },
        {
          "output_type": "stream",
          "text": [
            "\n"
          ],
          "name": "stdout"
        },
        {
          "output_type": "display_data",
          "data": {
            "application/vnd.jupyter.widget-view+json": {
              "model_id": "ed383c2ad60b44eaa1087826177f6607",
              "version_major": 2,
              "version_minor": 0
            },
            "text/plain": [
              "HBox(children=(IntProgress(value=0, description='Epoch 48/90', max=20, style=ProgressStyle(description_width='…"
            ]
          },
          "metadata": {
            "tags": []
          }
        },
        {
          "output_type": "stream",
          "text": [
            "\n"
          ],
          "name": "stdout"
        },
        {
          "output_type": "display_data",
          "data": {
            "application/vnd.jupyter.widget-view+json": {
              "model_id": "a21ef08bfa134bec885cc4bf98976ad9",
              "version_major": 2,
              "version_minor": 0
            },
            "text/plain": [
              "HBox(children=(IntProgress(value=0, description='Epoch 49/90', max=20, style=ProgressStyle(description_width='…"
            ]
          },
          "metadata": {
            "tags": []
          }
        },
        {
          "output_type": "stream",
          "text": [
            "\n"
          ],
          "name": "stdout"
        },
        {
          "output_type": "display_data",
          "data": {
            "application/vnd.jupyter.widget-view+json": {
              "model_id": "79fbb6a706bc49a6ac1d96947304d14e",
              "version_major": 2,
              "version_minor": 0
            },
            "text/plain": [
              "HBox(children=(IntProgress(value=0, description='Epoch 50/90', max=20, style=ProgressStyle(description_width='…"
            ]
          },
          "metadata": {
            "tags": []
          }
        },
        {
          "output_type": "stream",
          "text": [
            "\n"
          ],
          "name": "stdout"
        },
        {
          "output_type": "display_data",
          "data": {
            "application/vnd.jupyter.widget-view+json": {
              "model_id": "2a8af77df4c143c0ad77765be3759d6f",
              "version_major": 2,
              "version_minor": 0
            },
            "text/plain": [
              "HBox(children=(IntProgress(value=0, description='Epoch 51/90', max=20, style=ProgressStyle(description_width='…"
            ]
          },
          "metadata": {
            "tags": []
          }
        },
        {
          "output_type": "stream",
          "text": [
            "\n"
          ],
          "name": "stdout"
        },
        {
          "output_type": "display_data",
          "data": {
            "application/vnd.jupyter.widget-view+json": {
              "model_id": "8d32c9ad025b419c9dade6553fa945d6",
              "version_major": 2,
              "version_minor": 0
            },
            "text/plain": [
              "HBox(children=(IntProgress(value=0, description='Epoch 52/90', max=20, style=ProgressStyle(description_width='…"
            ]
          },
          "metadata": {
            "tags": []
          }
        },
        {
          "output_type": "stream",
          "text": [
            "\n"
          ],
          "name": "stdout"
        },
        {
          "output_type": "display_data",
          "data": {
            "application/vnd.jupyter.widget-view+json": {
              "model_id": "457c23f2caef4b6cbde813204e56a477",
              "version_major": 2,
              "version_minor": 0
            },
            "text/plain": [
              "HBox(children=(IntProgress(value=0, description='Epoch 53/90', max=20, style=ProgressStyle(description_width='…"
            ]
          },
          "metadata": {
            "tags": []
          }
        },
        {
          "output_type": "stream",
          "text": [
            "\n"
          ],
          "name": "stdout"
        },
        {
          "output_type": "display_data",
          "data": {
            "application/vnd.jupyter.widget-view+json": {
              "model_id": "e5218a718f314085909df3836dc0cfe7",
              "version_major": 2,
              "version_minor": 0
            },
            "text/plain": [
              "HBox(children=(IntProgress(value=0, description='Epoch 54/90', max=20, style=ProgressStyle(description_width='…"
            ]
          },
          "metadata": {
            "tags": []
          }
        },
        {
          "output_type": "stream",
          "text": [
            "\n"
          ],
          "name": "stdout"
        },
        {
          "output_type": "display_data",
          "data": {
            "application/vnd.jupyter.widget-view+json": {
              "model_id": "8ecfbd7945fd4fe78350288b549477c5",
              "version_major": 2,
              "version_minor": 0
            },
            "text/plain": [
              "HBox(children=(IntProgress(value=0, description='Epoch 55/90', max=20, style=ProgressStyle(description_width='…"
            ]
          },
          "metadata": {
            "tags": []
          }
        },
        {
          "output_type": "stream",
          "text": [
            "\n"
          ],
          "name": "stdout"
        },
        {
          "output_type": "display_data",
          "data": {
            "application/vnd.jupyter.widget-view+json": {
              "model_id": "2e4d027d4e214d4bb7afdfc7c236da87",
              "version_major": 2,
              "version_minor": 0
            },
            "text/plain": [
              "HBox(children=(IntProgress(value=0, description='Epoch 56/90', max=20, style=ProgressStyle(description_width='…"
            ]
          },
          "metadata": {
            "tags": []
          }
        },
        {
          "output_type": "stream",
          "text": [
            "\n"
          ],
          "name": "stdout"
        },
        {
          "output_type": "display_data",
          "data": {
            "application/vnd.jupyter.widget-view+json": {
              "model_id": "4b00d9dd2fd945199ba8bcc0551b60b8",
              "version_major": 2,
              "version_minor": 0
            },
            "text/plain": [
              "HBox(children=(IntProgress(value=0, description='Epoch 57/90', max=20, style=ProgressStyle(description_width='…"
            ]
          },
          "metadata": {
            "tags": []
          }
        },
        {
          "output_type": "stream",
          "text": [
            "\n"
          ],
          "name": "stdout"
        },
        {
          "output_type": "display_data",
          "data": {
            "application/vnd.jupyter.widget-view+json": {
              "model_id": "d2411060f0cb44ee97ebeb5ae631b561",
              "version_major": 2,
              "version_minor": 0
            },
            "text/plain": [
              "HBox(children=(IntProgress(value=0, description='Epoch 58/90', max=20, style=ProgressStyle(description_width='…"
            ]
          },
          "metadata": {
            "tags": []
          }
        },
        {
          "output_type": "stream",
          "text": [
            "\n"
          ],
          "name": "stdout"
        },
        {
          "output_type": "display_data",
          "data": {
            "application/vnd.jupyter.widget-view+json": {
              "model_id": "a29883070c3645f996b7df94f3d055e0",
              "version_major": 2,
              "version_minor": 0
            },
            "text/plain": [
              "HBox(children=(IntProgress(value=0, description='Epoch 59/90', max=20, style=ProgressStyle(description_width='…"
            ]
          },
          "metadata": {
            "tags": []
          }
        },
        {
          "output_type": "stream",
          "text": [
            "\n"
          ],
          "name": "stdout"
        },
        {
          "output_type": "display_data",
          "data": {
            "application/vnd.jupyter.widget-view+json": {
              "model_id": "bc1620899f834f179003e2d3823976ae",
              "version_major": 2,
              "version_minor": 0
            },
            "text/plain": [
              "HBox(children=(IntProgress(value=0, description='Epoch 60/90', max=20, style=ProgressStyle(description_width='…"
            ]
          },
          "metadata": {
            "tags": []
          }
        },
        {
          "output_type": "stream",
          "text": [
            "\n"
          ],
          "name": "stdout"
        },
        {
          "output_type": "display_data",
          "data": {
            "application/vnd.jupyter.widget-view+json": {
              "model_id": "fbc23650af9846be98b4e0a5371798e3",
              "version_major": 2,
              "version_minor": 0
            },
            "text/plain": [
              "HBox(children=(IntProgress(value=0, description='Epoch 61/90', max=20, style=ProgressStyle(description_width='…"
            ]
          },
          "metadata": {
            "tags": []
          }
        },
        {
          "output_type": "stream",
          "text": [
            "\n"
          ],
          "name": "stdout"
        },
        {
          "output_type": "display_data",
          "data": {
            "application/vnd.jupyter.widget-view+json": {
              "model_id": "ae6aed6c49264fc4a08ab61c5d821201",
              "version_major": 2,
              "version_minor": 0
            },
            "text/plain": [
              "HBox(children=(IntProgress(value=0, description='Epoch 62/90', max=20, style=ProgressStyle(description_width='…"
            ]
          },
          "metadata": {
            "tags": []
          }
        },
        {
          "output_type": "stream",
          "text": [
            "\n"
          ],
          "name": "stdout"
        },
        {
          "output_type": "display_data",
          "data": {
            "application/vnd.jupyter.widget-view+json": {
              "model_id": "032bedb5a4ba4c9984dabc60bbbf19ff",
              "version_major": 2,
              "version_minor": 0
            },
            "text/plain": [
              "HBox(children=(IntProgress(value=0, description='Epoch 63/90', max=20, style=ProgressStyle(description_width='…"
            ]
          },
          "metadata": {
            "tags": []
          }
        },
        {
          "output_type": "stream",
          "text": [
            "\n"
          ],
          "name": "stdout"
        },
        {
          "output_type": "display_data",
          "data": {
            "application/vnd.jupyter.widget-view+json": {
              "model_id": "d37f716a27c6455896526d134238e3fe",
              "version_major": 2,
              "version_minor": 0
            },
            "text/plain": [
              "HBox(children=(IntProgress(value=0, description='Epoch 64/90', max=20, style=ProgressStyle(description_width='…"
            ]
          },
          "metadata": {
            "tags": []
          }
        },
        {
          "output_type": "stream",
          "text": [
            "\n"
          ],
          "name": "stdout"
        },
        {
          "output_type": "display_data",
          "data": {
            "application/vnd.jupyter.widget-view+json": {
              "model_id": "5f89aeefe5714e35aed7d431762fedc6",
              "version_major": 2,
              "version_minor": 0
            },
            "text/plain": [
              "HBox(children=(IntProgress(value=0, description='Epoch 65/90', max=20, style=ProgressStyle(description_width='…"
            ]
          },
          "metadata": {
            "tags": []
          }
        },
        {
          "output_type": "stream",
          "text": [
            "\n"
          ],
          "name": "stdout"
        },
        {
          "output_type": "display_data",
          "data": {
            "application/vnd.jupyter.widget-view+json": {
              "model_id": "f5c0f0b8466c427a83380bd1d0f6816f",
              "version_major": 2,
              "version_minor": 0
            },
            "text/plain": [
              "HBox(children=(IntProgress(value=0, description='Epoch 66/90', max=20, style=ProgressStyle(description_width='…"
            ]
          },
          "metadata": {
            "tags": []
          }
        },
        {
          "output_type": "stream",
          "text": [
            "\n"
          ],
          "name": "stdout"
        },
        {
          "output_type": "display_data",
          "data": {
            "application/vnd.jupyter.widget-view+json": {
              "model_id": "5dc449f8df3f465db05966dec20b63f4",
              "version_major": 2,
              "version_minor": 0
            },
            "text/plain": [
              "HBox(children=(IntProgress(value=0, description='Epoch 67/90', max=20, style=ProgressStyle(description_width='…"
            ]
          },
          "metadata": {
            "tags": []
          }
        },
        {
          "output_type": "stream",
          "text": [
            "\n"
          ],
          "name": "stdout"
        },
        {
          "output_type": "display_data",
          "data": {
            "application/vnd.jupyter.widget-view+json": {
              "model_id": "4dee55ac2ae5499dba94e785a1880e7c",
              "version_major": 2,
              "version_minor": 0
            },
            "text/plain": [
              "HBox(children=(IntProgress(value=0, description='Epoch 68/90', max=20, style=ProgressStyle(description_width='…"
            ]
          },
          "metadata": {
            "tags": []
          }
        },
        {
          "output_type": "stream",
          "text": [
            "\n"
          ],
          "name": "stdout"
        },
        {
          "output_type": "display_data",
          "data": {
            "application/vnd.jupyter.widget-view+json": {
              "model_id": "d687d6aba81c41d4aabc39489d65b870",
              "version_major": 2,
              "version_minor": 0
            },
            "text/plain": [
              "HBox(children=(IntProgress(value=0, description='Epoch 69/90', max=20, style=ProgressStyle(description_width='…"
            ]
          },
          "metadata": {
            "tags": []
          }
        },
        {
          "output_type": "stream",
          "text": [
            "\n"
          ],
          "name": "stdout"
        },
        {
          "output_type": "display_data",
          "data": {
            "application/vnd.jupyter.widget-view+json": {
              "model_id": "bf8b1df5b17f48a49455af80b2892ccf",
              "version_major": 2,
              "version_minor": 0
            },
            "text/plain": [
              "HBox(children=(IntProgress(value=0, description='Epoch 70/90', max=20, style=ProgressStyle(description_width='…"
            ]
          },
          "metadata": {
            "tags": []
          }
        },
        {
          "output_type": "stream",
          "text": [
            "\n"
          ],
          "name": "stdout"
        },
        {
          "output_type": "display_data",
          "data": {
            "application/vnd.jupyter.widget-view+json": {
              "model_id": "6e9a69051a6b45a8ad0113051cfef40e",
              "version_major": 2,
              "version_minor": 0
            },
            "text/plain": [
              "HBox(children=(IntProgress(value=0, description='Epoch 71/90', max=20, style=ProgressStyle(description_width='…"
            ]
          },
          "metadata": {
            "tags": []
          }
        },
        {
          "output_type": "stream",
          "text": [
            "\n"
          ],
          "name": "stdout"
        },
        {
          "output_type": "display_data",
          "data": {
            "application/vnd.jupyter.widget-view+json": {
              "model_id": "b2a54d97049b4c3a97bc1a146113e993",
              "version_major": 2,
              "version_minor": 0
            },
            "text/plain": [
              "HBox(children=(IntProgress(value=0, description='Epoch 72/90', max=20, style=ProgressStyle(description_width='…"
            ]
          },
          "metadata": {
            "tags": []
          }
        },
        {
          "output_type": "stream",
          "text": [
            "\n"
          ],
          "name": "stdout"
        },
        {
          "output_type": "display_data",
          "data": {
            "application/vnd.jupyter.widget-view+json": {
              "model_id": "f301974bc6fc4656b8567032b02cf9eb",
              "version_major": 2,
              "version_minor": 0
            },
            "text/plain": [
              "HBox(children=(IntProgress(value=0, description='Epoch 73/90', max=20, style=ProgressStyle(description_width='…"
            ]
          },
          "metadata": {
            "tags": []
          }
        },
        {
          "output_type": "stream",
          "text": [
            "\n"
          ],
          "name": "stdout"
        },
        {
          "output_type": "display_data",
          "data": {
            "application/vnd.jupyter.widget-view+json": {
              "model_id": "3ab3f9ee7a3341f78bdeaab5fd1ade92",
              "version_major": 2,
              "version_minor": 0
            },
            "text/plain": [
              "HBox(children=(IntProgress(value=0, description='Epoch 74/90', max=20, style=ProgressStyle(description_width='…"
            ]
          },
          "metadata": {
            "tags": []
          }
        },
        {
          "output_type": "stream",
          "text": [
            "\n"
          ],
          "name": "stdout"
        },
        {
          "output_type": "display_data",
          "data": {
            "application/vnd.jupyter.widget-view+json": {
              "model_id": "b5ab013b0c0749a69fed6457907f2000",
              "version_major": 2,
              "version_minor": 0
            },
            "text/plain": [
              "HBox(children=(IntProgress(value=0, description='Epoch 75/90', max=20, style=ProgressStyle(description_width='…"
            ]
          },
          "metadata": {
            "tags": []
          }
        },
        {
          "output_type": "stream",
          "text": [
            "\n"
          ],
          "name": "stdout"
        },
        {
          "output_type": "display_data",
          "data": {
            "application/vnd.jupyter.widget-view+json": {
              "model_id": "a5d7ae8c152147c7896d1fdfbb676076",
              "version_major": 2,
              "version_minor": 0
            },
            "text/plain": [
              "HBox(children=(IntProgress(value=0, description='Epoch 76/90', max=20, style=ProgressStyle(description_width='…"
            ]
          },
          "metadata": {
            "tags": []
          }
        },
        {
          "output_type": "stream",
          "text": [
            "\n"
          ],
          "name": "stdout"
        },
        {
          "output_type": "display_data",
          "data": {
            "application/vnd.jupyter.widget-view+json": {
              "model_id": "7c67f05169c64ce799243ca361e5b6e0",
              "version_major": 2,
              "version_minor": 0
            },
            "text/plain": [
              "HBox(children=(IntProgress(value=0, description='Epoch 77/90', max=20, style=ProgressStyle(description_width='…"
            ]
          },
          "metadata": {
            "tags": []
          }
        },
        {
          "output_type": "stream",
          "text": [
            "\n"
          ],
          "name": "stdout"
        },
        {
          "output_type": "display_data",
          "data": {
            "application/vnd.jupyter.widget-view+json": {
              "model_id": "f8c5fc308b674d7fae0dc0089f5b087d",
              "version_major": 2,
              "version_minor": 0
            },
            "text/plain": [
              "HBox(children=(IntProgress(value=0, description='Epoch 78/90', max=20, style=ProgressStyle(description_width='…"
            ]
          },
          "metadata": {
            "tags": []
          }
        },
        {
          "output_type": "stream",
          "text": [
            "\n"
          ],
          "name": "stdout"
        },
        {
          "output_type": "display_data",
          "data": {
            "application/vnd.jupyter.widget-view+json": {
              "model_id": "ba2ecf6f928c49c7b38f54164254c583",
              "version_major": 2,
              "version_minor": 0
            },
            "text/plain": [
              "HBox(children=(IntProgress(value=0, description='Epoch 79/90', max=20, style=ProgressStyle(description_width='…"
            ]
          },
          "metadata": {
            "tags": []
          }
        },
        {
          "output_type": "stream",
          "text": [
            "\n"
          ],
          "name": "stdout"
        },
        {
          "output_type": "display_data",
          "data": {
            "application/vnd.jupyter.widget-view+json": {
              "model_id": "50c3ce3be7674caf96b8939536dd60a1",
              "version_major": 2,
              "version_minor": 0
            },
            "text/plain": [
              "HBox(children=(IntProgress(value=0, description='Epoch 80/90', max=20, style=ProgressStyle(description_width='…"
            ]
          },
          "metadata": {
            "tags": []
          }
        },
        {
          "output_type": "stream",
          "text": [
            "\n"
          ],
          "name": "stdout"
        },
        {
          "output_type": "display_data",
          "data": {
            "application/vnd.jupyter.widget-view+json": {
              "model_id": "5b4c59b87bc34d6fa3798c93059cae98",
              "version_major": 2,
              "version_minor": 0
            },
            "text/plain": [
              "HBox(children=(IntProgress(value=0, description='Epoch 81/90', max=20, style=ProgressStyle(description_width='…"
            ]
          },
          "metadata": {
            "tags": []
          }
        },
        {
          "output_type": "stream",
          "text": [
            "\n"
          ],
          "name": "stdout"
        },
        {
          "output_type": "display_data",
          "data": {
            "application/vnd.jupyter.widget-view+json": {
              "model_id": "827f85dec1a84a30affd299c238423f3",
              "version_major": 2,
              "version_minor": 0
            },
            "text/plain": [
              "HBox(children=(IntProgress(value=0, description='Epoch 82/90', max=20, style=ProgressStyle(description_width='…"
            ]
          },
          "metadata": {
            "tags": []
          }
        },
        {
          "output_type": "stream",
          "text": [
            "\n"
          ],
          "name": "stdout"
        },
        {
          "output_type": "display_data",
          "data": {
            "application/vnd.jupyter.widget-view+json": {
              "model_id": "2c16da3f85d34c6bbd5ce60d985ab14c",
              "version_major": 2,
              "version_minor": 0
            },
            "text/plain": [
              "HBox(children=(IntProgress(value=0, description='Epoch 83/90', max=20, style=ProgressStyle(description_width='…"
            ]
          },
          "metadata": {
            "tags": []
          }
        },
        {
          "output_type": "stream",
          "text": [
            "\n"
          ],
          "name": "stdout"
        },
        {
          "output_type": "display_data",
          "data": {
            "application/vnd.jupyter.widget-view+json": {
              "model_id": "2f6a7be334174d228da0bf201d3530b1",
              "version_major": 2,
              "version_minor": 0
            },
            "text/plain": [
              "HBox(children=(IntProgress(value=0, description='Epoch 84/90', max=20, style=ProgressStyle(description_width='…"
            ]
          },
          "metadata": {
            "tags": []
          }
        },
        {
          "output_type": "stream",
          "text": [
            "\n"
          ],
          "name": "stdout"
        },
        {
          "output_type": "display_data",
          "data": {
            "application/vnd.jupyter.widget-view+json": {
              "model_id": "2d9528e9c52047c49cc7b907558d4346",
              "version_major": 2,
              "version_minor": 0
            },
            "text/plain": [
              "HBox(children=(IntProgress(value=0, description='Epoch 85/90', max=20, style=ProgressStyle(description_width='…"
            ]
          },
          "metadata": {
            "tags": []
          }
        },
        {
          "output_type": "stream",
          "text": [
            "\n"
          ],
          "name": "stdout"
        },
        {
          "output_type": "display_data",
          "data": {
            "application/vnd.jupyter.widget-view+json": {
              "model_id": "6dab1edab2044f5a852ec030af6244fc",
              "version_major": 2,
              "version_minor": 0
            },
            "text/plain": [
              "HBox(children=(IntProgress(value=0, description='Epoch 86/90', max=20, style=ProgressStyle(description_width='…"
            ]
          },
          "metadata": {
            "tags": []
          }
        },
        {
          "output_type": "stream",
          "text": [
            "\n"
          ],
          "name": "stdout"
        },
        {
          "output_type": "display_data",
          "data": {
            "application/vnd.jupyter.widget-view+json": {
              "model_id": "fc64bdcb3fed422989757611f2c55e98",
              "version_major": 2,
              "version_minor": 0
            },
            "text/plain": [
              "HBox(children=(IntProgress(value=0, description='Epoch 87/90', max=20, style=ProgressStyle(description_width='…"
            ]
          },
          "metadata": {
            "tags": []
          }
        },
        {
          "output_type": "stream",
          "text": [
            "\n"
          ],
          "name": "stdout"
        },
        {
          "output_type": "display_data",
          "data": {
            "application/vnd.jupyter.widget-view+json": {
              "model_id": "a605fe515ce54025b653f3af9ff5999e",
              "version_major": 2,
              "version_minor": 0
            },
            "text/plain": [
              "HBox(children=(IntProgress(value=0, description='Epoch 88/90', max=20, style=ProgressStyle(description_width='…"
            ]
          },
          "metadata": {
            "tags": []
          }
        },
        {
          "output_type": "stream",
          "text": [
            "\n"
          ],
          "name": "stdout"
        },
        {
          "output_type": "display_data",
          "data": {
            "application/vnd.jupyter.widget-view+json": {
              "model_id": "318efbbd90644947b55cba6addc733cc",
              "version_major": 2,
              "version_minor": 0
            },
            "text/plain": [
              "HBox(children=(IntProgress(value=0, description='Epoch 89/90', max=20, style=ProgressStyle(description_width='…"
            ]
          },
          "metadata": {
            "tags": []
          }
        },
        {
          "output_type": "stream",
          "text": [
            "\n"
          ],
          "name": "stdout"
        },
        {
          "output_type": "display_data",
          "data": {
            "application/vnd.jupyter.widget-view+json": {
              "model_id": "1080bb71e9c74d828dee0402c898b369",
              "version_major": 2,
              "version_minor": 0
            },
            "text/plain": [
              "HBox(children=(IntProgress(value=0, description='Epoch 90/90', max=20, style=ProgressStyle(description_width='…"
            ]
          },
          "metadata": {
            "tags": []
          }
        },
        {
          "output_type": "stream",
          "text": [
            "\n"
          ],
          "name": "stdout"
        }
      ]
    },
    {
      "cell_type": "markdown",
      "metadata": {
        "id": "mE9-mpQo8ox4",
        "colab_type": "text"
      },
      "source": [
        "# Plot\n",
        "\n",
        "The returned image is stored in a compressed multi-scale low rank representation, and NOT a numpy array. This is useful when the underlying image is huge.\n",
        "\n",
        "The image can be indexed, and will adaptively reconstruct the indexed slice. In particular, it can be viewed directly using `pl.ImagePlot`. You can speed up the slicing with the desired computing device using `img.use_device(device)`.\n",
        "\n",
        "To obtain a numpy array from the compressed representation, you can do:\n",
        "\n",
        "    img = img[:]\n",
        "    \n",
        "But note that this will expand the underlying image completely, which can take a lot of memory."
      ]
    },
    {
      "cell_type": "code",
      "metadata": {
        "id": "z1MEAD3Q8ox5",
        "colab_type": "code",
        "colab": {},
        "outputId": "089e0836-8af2-4833-d859-b0c514f84f04"
      },
      "source": [
        "img.use_device(device)\n",
        "pl.ImagePlot(img, interpolation='lanczos')"
      ],
      "execution_count": 0,
      "outputs": [
        {
          "output_type": "display_data",
          "data": {
            "application/javascript": [
              "/* Put everything inside the global mpl namespace */\n",
              "window.mpl = {};\n",
              "\n",
              "\n",
              "mpl.get_websocket_type = function() {\n",
              "    if (typeof(WebSocket) !== 'undefined') {\n",
              "        return WebSocket;\n",
              "    } else if (typeof(MozWebSocket) !== 'undefined') {\n",
              "        return MozWebSocket;\n",
              "    } else {\n",
              "        alert('Your browser does not have WebSocket support. ' +\n",
              "              'Please try Chrome, Safari or Firefox ≥ 6. ' +\n",
              "              'Firefox 4 and 5 are also supported but you ' +\n",
              "              'have to enable WebSockets in about:config.');\n",
              "    };\n",
              "}\n",
              "\n",
              "mpl.figure = function(figure_id, websocket, ondownload, parent_element) {\n",
              "    this.id = figure_id;\n",
              "\n",
              "    this.ws = websocket;\n",
              "\n",
              "    this.supports_binary = (this.ws.binaryType != undefined);\n",
              "\n",
              "    if (!this.supports_binary) {\n",
              "        var warnings = document.getElementById(\"mpl-warnings\");\n",
              "        if (warnings) {\n",
              "            warnings.style.display = 'block';\n",
              "            warnings.textContent = (\n",
              "                \"This browser does not support binary websocket messages. \" +\n",
              "                    \"Performance may be slow.\");\n",
              "        }\n",
              "    }\n",
              "\n",
              "    this.imageObj = new Image();\n",
              "\n",
              "    this.context = undefined;\n",
              "    this.message = undefined;\n",
              "    this.canvas = undefined;\n",
              "    this.rubberband_canvas = undefined;\n",
              "    this.rubberband_context = undefined;\n",
              "    this.format_dropdown = undefined;\n",
              "\n",
              "    this.image_mode = 'full';\n",
              "\n",
              "    this.root = $('<div/>');\n",
              "    this._root_extra_style(this.root)\n",
              "    this.root.attr('style', 'display: inline-block');\n",
              "\n",
              "    $(parent_element).append(this.root);\n",
              "\n",
              "    this._init_header(this);\n",
              "    this._init_canvas(this);\n",
              "    this._init_toolbar(this);\n",
              "\n",
              "    var fig = this;\n",
              "\n",
              "    this.waiting = false;\n",
              "\n",
              "    this.ws.onopen =  function () {\n",
              "            fig.send_message(\"supports_binary\", {value: fig.supports_binary});\n",
              "            fig.send_message(\"send_image_mode\", {});\n",
              "            if (mpl.ratio != 1) {\n",
              "                fig.send_message(\"set_dpi_ratio\", {'dpi_ratio': mpl.ratio});\n",
              "            }\n",
              "            fig.send_message(\"refresh\", {});\n",
              "        }\n",
              "\n",
              "    this.imageObj.onload = function() {\n",
              "            if (fig.image_mode == 'full') {\n",
              "                // Full images could contain transparency (where diff images\n",
              "                // almost always do), so we need to clear the canvas so that\n",
              "                // there is no ghosting.\n",
              "                fig.context.clearRect(0, 0, fig.canvas.width, fig.canvas.height);\n",
              "            }\n",
              "            fig.context.drawImage(fig.imageObj, 0, 0);\n",
              "        };\n",
              "\n",
              "    this.imageObj.onunload = function() {\n",
              "        fig.ws.close();\n",
              "    }\n",
              "\n",
              "    this.ws.onmessage = this._make_on_message_function(this);\n",
              "\n",
              "    this.ondownload = ondownload;\n",
              "}\n",
              "\n",
              "mpl.figure.prototype._init_header = function() {\n",
              "    var titlebar = $(\n",
              "        '<div class=\"ui-dialog-titlebar ui-widget-header ui-corner-all ' +\n",
              "        'ui-helper-clearfix\"/>');\n",
              "    var titletext = $(\n",
              "        '<div class=\"ui-dialog-title\" style=\"width: 100%; ' +\n",
              "        'text-align: center; padding: 3px;\"/>');\n",
              "    titlebar.append(titletext)\n",
              "    this.root.append(titlebar);\n",
              "    this.header = titletext[0];\n",
              "}\n",
              "\n",
              "\n",
              "\n",
              "mpl.figure.prototype._canvas_extra_style = function(canvas_div) {\n",
              "\n",
              "}\n",
              "\n",
              "\n",
              "mpl.figure.prototype._root_extra_style = function(canvas_div) {\n",
              "\n",
              "}\n",
              "\n",
              "mpl.figure.prototype._init_canvas = function() {\n",
              "    var fig = this;\n",
              "\n",
              "    var canvas_div = $('<div/>');\n",
              "\n",
              "    canvas_div.attr('style', 'position: relative; clear: both; outline: 0');\n",
              "\n",
              "    function canvas_keyboard_event(event) {\n",
              "        return fig.key_event(event, event['data']);\n",
              "    }\n",
              "\n",
              "    canvas_div.keydown('key_press', canvas_keyboard_event);\n",
              "    canvas_div.keyup('key_release', canvas_keyboard_event);\n",
              "    this.canvas_div = canvas_div\n",
              "    this._canvas_extra_style(canvas_div)\n",
              "    this.root.append(canvas_div);\n",
              "\n",
              "    var canvas = $('<canvas/>');\n",
              "    canvas.addClass('mpl-canvas');\n",
              "    canvas.attr('style', \"left: 0; top: 0; z-index: 0; outline: 0\")\n",
              "\n",
              "    this.canvas = canvas[0];\n",
              "    this.context = canvas[0].getContext(\"2d\");\n",
              "\n",
              "    var backingStore = this.context.backingStorePixelRatio ||\n",
              "\tthis.context.webkitBackingStorePixelRatio ||\n",
              "\tthis.context.mozBackingStorePixelRatio ||\n",
              "\tthis.context.msBackingStorePixelRatio ||\n",
              "\tthis.context.oBackingStorePixelRatio ||\n",
              "\tthis.context.backingStorePixelRatio || 1;\n",
              "\n",
              "    mpl.ratio = (window.devicePixelRatio || 1) / backingStore;\n",
              "\n",
              "    var rubberband = $('<canvas/>');\n",
              "    rubberband.attr('style', \"position: absolute; left: 0; top: 0; z-index: 1;\")\n",
              "\n",
              "    var pass_mouse_events = true;\n",
              "\n",
              "    canvas_div.resizable({\n",
              "        start: function(event, ui) {\n",
              "            pass_mouse_events = false;\n",
              "        },\n",
              "        resize: function(event, ui) {\n",
              "            fig.request_resize(ui.size.width, ui.size.height);\n",
              "        },\n",
              "        stop: function(event, ui) {\n",
              "            pass_mouse_events = true;\n",
              "            fig.request_resize(ui.size.width, ui.size.height);\n",
              "        },\n",
              "    });\n",
              "\n",
              "    function mouse_event_fn(event) {\n",
              "        if (pass_mouse_events)\n",
              "            return fig.mouse_event(event, event['data']);\n",
              "    }\n",
              "\n",
              "    rubberband.mousedown('button_press', mouse_event_fn);\n",
              "    rubberband.mouseup('button_release', mouse_event_fn);\n",
              "    // Throttle sequential mouse events to 1 every 20ms.\n",
              "    rubberband.mousemove('motion_notify', mouse_event_fn);\n",
              "\n",
              "    rubberband.mouseenter('figure_enter', mouse_event_fn);\n",
              "    rubberband.mouseleave('figure_leave', mouse_event_fn);\n",
              "\n",
              "    canvas_div.on(\"wheel\", function (event) {\n",
              "        event = event.originalEvent;\n",
              "        event['data'] = 'scroll'\n",
              "        if (event.deltaY < 0) {\n",
              "            event.step = 1;\n",
              "        } else {\n",
              "            event.step = -1;\n",
              "        }\n",
              "        mouse_event_fn(event);\n",
              "    });\n",
              "\n",
              "    canvas_div.append(canvas);\n",
              "    canvas_div.append(rubberband);\n",
              "\n",
              "    this.rubberband = rubberband;\n",
              "    this.rubberband_canvas = rubberband[0];\n",
              "    this.rubberband_context = rubberband[0].getContext(\"2d\");\n",
              "    this.rubberband_context.strokeStyle = \"#000000\";\n",
              "\n",
              "    this._resize_canvas = function(width, height) {\n",
              "        // Keep the size of the canvas, canvas container, and rubber band\n",
              "        // canvas in synch.\n",
              "        canvas_div.css('width', width)\n",
              "        canvas_div.css('height', height)\n",
              "\n",
              "        canvas.attr('width', width * mpl.ratio);\n",
              "        canvas.attr('height', height * mpl.ratio);\n",
              "        canvas.attr('style', 'width: ' + width + 'px; height: ' + height + 'px;');\n",
              "\n",
              "        rubberband.attr('width', width);\n",
              "        rubberband.attr('height', height);\n",
              "    }\n",
              "\n",
              "    // Set the figure to an initial 600x600px, this will subsequently be updated\n",
              "    // upon first draw.\n",
              "    this._resize_canvas(600, 600);\n",
              "\n",
              "    // Disable right mouse context menu.\n",
              "    $(this.rubberband_canvas).bind(\"contextmenu\",function(e){\n",
              "        return false;\n",
              "    });\n",
              "\n",
              "    function set_focus () {\n",
              "        canvas.focus();\n",
              "        canvas_div.focus();\n",
              "    }\n",
              "\n",
              "    window.setTimeout(set_focus, 100);\n",
              "}\n",
              "\n",
              "mpl.figure.prototype._init_toolbar = function() {\n",
              "    var fig = this;\n",
              "\n",
              "    var nav_element = $('<div/>');\n",
              "    nav_element.attr('style', 'width: 100%');\n",
              "    this.root.append(nav_element);\n",
              "\n",
              "    // Define a callback function for later on.\n",
              "    function toolbar_event(event) {\n",
              "        return fig.toolbar_button_onclick(event['data']);\n",
              "    }\n",
              "    function toolbar_mouse_event(event) {\n",
              "        return fig.toolbar_button_onmouseover(event['data']);\n",
              "    }\n",
              "\n",
              "    for(var toolbar_ind in mpl.toolbar_items) {\n",
              "        var name = mpl.toolbar_items[toolbar_ind][0];\n",
              "        var tooltip = mpl.toolbar_items[toolbar_ind][1];\n",
              "        var image = mpl.toolbar_items[toolbar_ind][2];\n",
              "        var method_name = mpl.toolbar_items[toolbar_ind][3];\n",
              "\n",
              "        if (!name) {\n",
              "            // put a spacer in here.\n",
              "            continue;\n",
              "        }\n",
              "        var button = $('<button/>');\n",
              "        button.addClass('ui-button ui-widget ui-state-default ui-corner-all ' +\n",
              "                        'ui-button-icon-only');\n",
              "        button.attr('role', 'button');\n",
              "        button.attr('aria-disabled', 'false');\n",
              "        button.click(method_name, toolbar_event);\n",
              "        button.mouseover(tooltip, toolbar_mouse_event);\n",
              "\n",
              "        var icon_img = $('<span/>');\n",
              "        icon_img.addClass('ui-button-icon-primary ui-icon');\n",
              "        icon_img.addClass(image);\n",
              "        icon_img.addClass('ui-corner-all');\n",
              "\n",
              "        var tooltip_span = $('<span/>');\n",
              "        tooltip_span.addClass('ui-button-text');\n",
              "        tooltip_span.html(tooltip);\n",
              "\n",
              "        button.append(icon_img);\n",
              "        button.append(tooltip_span);\n",
              "\n",
              "        nav_element.append(button);\n",
              "    }\n",
              "\n",
              "    var fmt_picker_span = $('<span/>');\n",
              "\n",
              "    var fmt_picker = $('<select/>');\n",
              "    fmt_picker.addClass('mpl-toolbar-option ui-widget ui-widget-content');\n",
              "    fmt_picker_span.append(fmt_picker);\n",
              "    nav_element.append(fmt_picker_span);\n",
              "    this.format_dropdown = fmt_picker[0];\n",
              "\n",
              "    for (var ind in mpl.extensions) {\n",
              "        var fmt = mpl.extensions[ind];\n",
              "        var option = $(\n",
              "            '<option/>', {selected: fmt === mpl.default_extension}).html(fmt);\n",
              "        fmt_picker.append(option);\n",
              "    }\n",
              "\n",
              "    // Add hover states to the ui-buttons\n",
              "    $( \".ui-button\" ).hover(\n",
              "        function() { $(this).addClass(\"ui-state-hover\");},\n",
              "        function() { $(this).removeClass(\"ui-state-hover\");}\n",
              "    );\n",
              "\n",
              "    var status_bar = $('<span class=\"mpl-message\"/>');\n",
              "    nav_element.append(status_bar);\n",
              "    this.message = status_bar[0];\n",
              "}\n",
              "\n",
              "mpl.figure.prototype.request_resize = function(x_pixels, y_pixels) {\n",
              "    // Request matplotlib to resize the figure. Matplotlib will then trigger a resize in the client,\n",
              "    // which will in turn request a refresh of the image.\n",
              "    this.send_message('resize', {'width': x_pixels, 'height': y_pixels});\n",
              "}\n",
              "\n",
              "mpl.figure.prototype.send_message = function(type, properties) {\n",
              "    properties['type'] = type;\n",
              "    properties['figure_id'] = this.id;\n",
              "    this.ws.send(JSON.stringify(properties));\n",
              "}\n",
              "\n",
              "mpl.figure.prototype.send_draw_message = function() {\n",
              "    if (!this.waiting) {\n",
              "        this.waiting = true;\n",
              "        this.ws.send(JSON.stringify({type: \"draw\", figure_id: this.id}));\n",
              "    }\n",
              "}\n",
              "\n",
              "\n",
              "mpl.figure.prototype.handle_save = function(fig, msg) {\n",
              "    var format_dropdown = fig.format_dropdown;\n",
              "    var format = format_dropdown.options[format_dropdown.selectedIndex].value;\n",
              "    fig.ondownload(fig, format);\n",
              "}\n",
              "\n",
              "\n",
              "mpl.figure.prototype.handle_resize = function(fig, msg) {\n",
              "    var size = msg['size'];\n",
              "    if (size[0] != fig.canvas.width || size[1] != fig.canvas.height) {\n",
              "        fig._resize_canvas(size[0], size[1]);\n",
              "        fig.send_message(\"refresh\", {});\n",
              "    };\n",
              "}\n",
              "\n",
              "mpl.figure.prototype.handle_rubberband = function(fig, msg) {\n",
              "    var x0 = msg['x0'] / mpl.ratio;\n",
              "    var y0 = (fig.canvas.height - msg['y0']) / mpl.ratio;\n",
              "    var x1 = msg['x1'] / mpl.ratio;\n",
              "    var y1 = (fig.canvas.height - msg['y1']) / mpl.ratio;\n",
              "    x0 = Math.floor(x0) + 0.5;\n",
              "    y0 = Math.floor(y0) + 0.5;\n",
              "    x1 = Math.floor(x1) + 0.5;\n",
              "    y1 = Math.floor(y1) + 0.5;\n",
              "    var min_x = Math.min(x0, x1);\n",
              "    var min_y = Math.min(y0, y1);\n",
              "    var width = Math.abs(x1 - x0);\n",
              "    var height = Math.abs(y1 - y0);\n",
              "\n",
              "    fig.rubberband_context.clearRect(\n",
              "        0, 0, fig.canvas.width, fig.canvas.height);\n",
              "\n",
              "    fig.rubberband_context.strokeRect(min_x, min_y, width, height);\n",
              "}\n",
              "\n",
              "mpl.figure.prototype.handle_figure_label = function(fig, msg) {\n",
              "    // Updates the figure title.\n",
              "    fig.header.textContent = msg['label'];\n",
              "}\n",
              "\n",
              "mpl.figure.prototype.handle_cursor = function(fig, msg) {\n",
              "    var cursor = msg['cursor'];\n",
              "    switch(cursor)\n",
              "    {\n",
              "    case 0:\n",
              "        cursor = 'pointer';\n",
              "        break;\n",
              "    case 1:\n",
              "        cursor = 'default';\n",
              "        break;\n",
              "    case 2:\n",
              "        cursor = 'crosshair';\n",
              "        break;\n",
              "    case 3:\n",
              "        cursor = 'move';\n",
              "        break;\n",
              "    }\n",
              "    fig.rubberband_canvas.style.cursor = cursor;\n",
              "}\n",
              "\n",
              "mpl.figure.prototype.handle_message = function(fig, msg) {\n",
              "    fig.message.textContent = msg['message'];\n",
              "}\n",
              "\n",
              "mpl.figure.prototype.handle_draw = function(fig, msg) {\n",
              "    // Request the server to send over a new figure.\n",
              "    fig.send_draw_message();\n",
              "}\n",
              "\n",
              "mpl.figure.prototype.handle_image_mode = function(fig, msg) {\n",
              "    fig.image_mode = msg['mode'];\n",
              "}\n",
              "\n",
              "mpl.figure.prototype.updated_canvas_event = function() {\n",
              "    // Called whenever the canvas gets updated.\n",
              "    this.send_message(\"ack\", {});\n",
              "}\n",
              "\n",
              "// A function to construct a web socket function for onmessage handling.\n",
              "// Called in the figure constructor.\n",
              "mpl.figure.prototype._make_on_message_function = function(fig) {\n",
              "    return function socket_on_message(evt) {\n",
              "        if (evt.data instanceof Blob) {\n",
              "            /* FIXME: We get \"Resource interpreted as Image but\n",
              "             * transferred with MIME type text/plain:\" errors on\n",
              "             * Chrome.  But how to set the MIME type?  It doesn't seem\n",
              "             * to be part of the websocket stream */\n",
              "            evt.data.type = \"image/png\";\n",
              "\n",
              "            /* Free the memory for the previous frames */\n",
              "            if (fig.imageObj.src) {\n",
              "                (window.URL || window.webkitURL).revokeObjectURL(\n",
              "                    fig.imageObj.src);\n",
              "            }\n",
              "\n",
              "            fig.imageObj.src = (window.URL || window.webkitURL).createObjectURL(\n",
              "                evt.data);\n",
              "            fig.updated_canvas_event();\n",
              "            fig.waiting = false;\n",
              "            return;\n",
              "        }\n",
              "        else if (typeof evt.data === 'string' && evt.data.slice(0, 21) == \"data:image/png;base64\") {\n",
              "            fig.imageObj.src = evt.data;\n",
              "            fig.updated_canvas_event();\n",
              "            fig.waiting = false;\n",
              "            return;\n",
              "        }\n",
              "\n",
              "        var msg = JSON.parse(evt.data);\n",
              "        var msg_type = msg['type'];\n",
              "\n",
              "        // Call the  \"handle_{type}\" callback, which takes\n",
              "        // the figure and JSON message as its only arguments.\n",
              "        try {\n",
              "            var callback = fig[\"handle_\" + msg_type];\n",
              "        } catch (e) {\n",
              "            console.log(\"No handler for the '\" + msg_type + \"' message type: \", msg);\n",
              "            return;\n",
              "        }\n",
              "\n",
              "        if (callback) {\n",
              "            try {\n",
              "                // console.log(\"Handling '\" + msg_type + \"' message: \", msg);\n",
              "                callback(fig, msg);\n",
              "            } catch (e) {\n",
              "                console.log(\"Exception inside the 'handler_\" + msg_type + \"' callback:\", e, e.stack, msg);\n",
              "            }\n",
              "        }\n",
              "    };\n",
              "}\n",
              "\n",
              "// from http://stackoverflow.com/questions/1114465/getting-mouse-location-in-canvas\n",
              "mpl.findpos = function(e) {\n",
              "    //this section is from http://www.quirksmode.org/js/events_properties.html\n",
              "    var targ;\n",
              "    if (!e)\n",
              "        e = window.event;\n",
              "    if (e.target)\n",
              "        targ = e.target;\n",
              "    else if (e.srcElement)\n",
              "        targ = e.srcElement;\n",
              "    if (targ.nodeType == 3) // defeat Safari bug\n",
              "        targ = targ.parentNode;\n",
              "\n",
              "    // jQuery normalizes the pageX and pageY\n",
              "    // pageX,Y are the mouse positions relative to the document\n",
              "    // offset() returns the position of the element relative to the document\n",
              "    var x = e.pageX - $(targ).offset().left;\n",
              "    var y = e.pageY - $(targ).offset().top;\n",
              "\n",
              "    return {\"x\": x, \"y\": y};\n",
              "};\n",
              "\n",
              "/*\n",
              " * return a copy of an object with only non-object keys\n",
              " * we need this to avoid circular references\n",
              " * http://stackoverflow.com/a/24161582/3208463\n",
              " */\n",
              "function simpleKeys (original) {\n",
              "  return Object.keys(original).reduce(function (obj, key) {\n",
              "    if (typeof original[key] !== 'object')\n",
              "        obj[key] = original[key]\n",
              "    return obj;\n",
              "  }, {});\n",
              "}\n",
              "\n",
              "mpl.figure.prototype.mouse_event = function(event, name) {\n",
              "    var canvas_pos = mpl.findpos(event)\n",
              "\n",
              "    if (name === 'button_press')\n",
              "    {\n",
              "        this.canvas.focus();\n",
              "        this.canvas_div.focus();\n",
              "    }\n",
              "\n",
              "    var x = canvas_pos.x * mpl.ratio;\n",
              "    var y = canvas_pos.y * mpl.ratio;\n",
              "\n",
              "    this.send_message(name, {x: x, y: y, button: event.button,\n",
              "                             step: event.step,\n",
              "                             guiEvent: simpleKeys(event)});\n",
              "\n",
              "    /* This prevents the web browser from automatically changing to\n",
              "     * the text insertion cursor when the button is pressed.  We want\n",
              "     * to control all of the cursor setting manually through the\n",
              "     * 'cursor' event from matplotlib */\n",
              "    event.preventDefault();\n",
              "    return false;\n",
              "}\n",
              "\n",
              "mpl.figure.prototype._key_event_extra = function(event, name) {\n",
              "    // Handle any extra behaviour associated with a key event\n",
              "}\n",
              "\n",
              "mpl.figure.prototype.key_event = function(event, name) {\n",
              "\n",
              "    // Prevent repeat events\n",
              "    if (name == 'key_press')\n",
              "    {\n",
              "        if (event.which === this._key)\n",
              "            return;\n",
              "        else\n",
              "            this._key = event.which;\n",
              "    }\n",
              "    if (name == 'key_release')\n",
              "        this._key = null;\n",
              "\n",
              "    var value = '';\n",
              "    if (event.ctrlKey && event.which != 17)\n",
              "        value += \"ctrl+\";\n",
              "    if (event.altKey && event.which != 18)\n",
              "        value += \"alt+\";\n",
              "    if (event.shiftKey && event.which != 16)\n",
              "        value += \"shift+\";\n",
              "\n",
              "    value += 'k';\n",
              "    value += event.which.toString();\n",
              "\n",
              "    this._key_event_extra(event, name);\n",
              "\n",
              "    this.send_message(name, {key: value,\n",
              "                             guiEvent: simpleKeys(event)});\n",
              "    return false;\n",
              "}\n",
              "\n",
              "mpl.figure.prototype.toolbar_button_onclick = function(name) {\n",
              "    if (name == 'download') {\n",
              "        this.handle_save(this, null);\n",
              "    } else {\n",
              "        this.send_message(\"toolbar_button\", {name: name});\n",
              "    }\n",
              "};\n",
              "\n",
              "mpl.figure.prototype.toolbar_button_onmouseover = function(tooltip) {\n",
              "    this.message.textContent = tooltip;\n",
              "};\n",
              "mpl.toolbar_items = [[\"Home\", \"Reset original view\", \"fa fa-home icon-home\", \"home\"], [\"Back\", \"Back to previous view\", \"fa fa-arrow-left icon-arrow-left\", \"back\"], [\"Forward\", \"Forward to next view\", \"fa fa-arrow-right icon-arrow-right\", \"forward\"], [\"\", \"\", \"\", \"\"], [\"Pan\", \"Pan axes with left mouse, zoom with right\", \"fa fa-arrows icon-move\", \"pan\"], [\"Zoom\", \"Zoom to rectangle\", \"fa fa-square-o icon-check-empty\", \"zoom\"], [\"\", \"\", \"\", \"\"], [\"Download\", \"Download plot\", \"fa fa-floppy-o icon-save\", \"download\"]];\n",
              "\n",
              "mpl.extensions = [\"eps\", \"jpeg\", \"pdf\", \"png\", \"ps\", \"raw\", \"svg\", \"tif\"];\n",
              "\n",
              "mpl.default_extension = \"png\";var comm_websocket_adapter = function(comm) {\n",
              "    // Create a \"websocket\"-like object which calls the given IPython comm\n",
              "    // object with the appropriate methods. Currently this is a non binary\n",
              "    // socket, so there is still some room for performance tuning.\n",
              "    var ws = {};\n",
              "\n",
              "    ws.close = function() {\n",
              "        comm.close()\n",
              "    };\n",
              "    ws.send = function(m) {\n",
              "        //console.log('sending', m);\n",
              "        comm.send(m);\n",
              "    };\n",
              "    // Register the callback with on_msg.\n",
              "    comm.on_msg(function(msg) {\n",
              "        //console.log('receiving', msg['content']['data'], msg);\n",
              "        // Pass the mpl event to the overridden (by mpl) onmessage function.\n",
              "        ws.onmessage(msg['content']['data'])\n",
              "    });\n",
              "    return ws;\n",
              "}\n",
              "\n",
              "mpl.mpl_figure_comm = function(comm, msg) {\n",
              "    // This is the function which gets called when the mpl process\n",
              "    // starts-up an IPython Comm through the \"matplotlib\" channel.\n",
              "\n",
              "    var id = msg.content.data.id;\n",
              "    // Get hold of the div created by the display call when the Comm\n",
              "    // socket was opened in Python.\n",
              "    var element = $(\"#\" + id);\n",
              "    var ws_proxy = comm_websocket_adapter(comm)\n",
              "\n",
              "    function ondownload(figure, format) {\n",
              "        window.open(figure.imageObj.src);\n",
              "    }\n",
              "\n",
              "    var fig = new mpl.figure(id, ws_proxy,\n",
              "                           ondownload,\n",
              "                           element.get(0));\n",
              "\n",
              "    // Call onopen now - mpl needs it, as it is assuming we've passed it a real\n",
              "    // web socket which is closed, not our websocket->open comm proxy.\n",
              "    ws_proxy.onopen();\n",
              "\n",
              "    fig.parent_element = element.get(0);\n",
              "    fig.cell_info = mpl.find_output_cell(\"<div id='\" + id + \"'></div>\");\n",
              "    if (!fig.cell_info) {\n",
              "        console.error(\"Failed to find cell for figure\", id, fig);\n",
              "        return;\n",
              "    }\n",
              "\n",
              "    var output_index = fig.cell_info[2]\n",
              "    var cell = fig.cell_info[0];\n",
              "\n",
              "};\n",
              "\n",
              "mpl.figure.prototype.handle_close = function(fig, msg) {\n",
              "    var width = fig.canvas.width/mpl.ratio\n",
              "    fig.root.unbind('remove')\n",
              "\n",
              "    // Update the output cell to use the data from the current canvas.\n",
              "    fig.push_to_output();\n",
              "    var dataURL = fig.canvas.toDataURL();\n",
              "    // Re-enable the keyboard manager in IPython - without this line, in FF,\n",
              "    // the notebook keyboard shortcuts fail.\n",
              "    IPython.keyboard_manager.enable()\n",
              "    $(fig.parent_element).html('<img src=\"' + dataURL + '\" width=\"' + width + '\">');\n",
              "    fig.close_ws(fig, msg);\n",
              "}\n",
              "\n",
              "mpl.figure.prototype.close_ws = function(fig, msg){\n",
              "    fig.send_message('closing', msg);\n",
              "    // fig.ws.close()\n",
              "}\n",
              "\n",
              "mpl.figure.prototype.push_to_output = function(remove_interactive) {\n",
              "    // Turn the data on the canvas into data in the output cell.\n",
              "    var width = this.canvas.width/mpl.ratio\n",
              "    var dataURL = this.canvas.toDataURL();\n",
              "    this.cell_info[1]['text/html'] = '<img src=\"' + dataURL + '\" width=\"' + width + '\">';\n",
              "}\n",
              "\n",
              "mpl.figure.prototype.updated_canvas_event = function() {\n",
              "    // Tell IPython that the notebook contents must change.\n",
              "    IPython.notebook.set_dirty(true);\n",
              "    this.send_message(\"ack\", {});\n",
              "    var fig = this;\n",
              "    // Wait a second, then push the new image to the DOM so\n",
              "    // that it is saved nicely (might be nice to debounce this).\n",
              "    setTimeout(function () { fig.push_to_output() }, 1000);\n",
              "}\n",
              "\n",
              "mpl.figure.prototype._init_toolbar = function() {\n",
              "    var fig = this;\n",
              "\n",
              "    var nav_element = $('<div/>');\n",
              "    nav_element.attr('style', 'width: 100%');\n",
              "    this.root.append(nav_element);\n",
              "\n",
              "    // Define a callback function for later on.\n",
              "    function toolbar_event(event) {\n",
              "        return fig.toolbar_button_onclick(event['data']);\n",
              "    }\n",
              "    function toolbar_mouse_event(event) {\n",
              "        return fig.toolbar_button_onmouseover(event['data']);\n",
              "    }\n",
              "\n",
              "    for(var toolbar_ind in mpl.toolbar_items){\n",
              "        var name = mpl.toolbar_items[toolbar_ind][0];\n",
              "        var tooltip = mpl.toolbar_items[toolbar_ind][1];\n",
              "        var image = mpl.toolbar_items[toolbar_ind][2];\n",
              "        var method_name = mpl.toolbar_items[toolbar_ind][3];\n",
              "\n",
              "        if (!name) { continue; };\n",
              "\n",
              "        var button = $('<button class=\"btn btn-default\" href=\"#\" title=\"' + name + '\"><i class=\"fa ' + image + ' fa-lg\"></i></button>');\n",
              "        button.click(method_name, toolbar_event);\n",
              "        button.mouseover(tooltip, toolbar_mouse_event);\n",
              "        nav_element.append(button);\n",
              "    }\n",
              "\n",
              "    // Add the status bar.\n",
              "    var status_bar = $('<span class=\"mpl-message\" style=\"text-align:right; float: right;\"/>');\n",
              "    nav_element.append(status_bar);\n",
              "    this.message = status_bar[0];\n",
              "\n",
              "    // Add the close button to the window.\n",
              "    var buttongrp = $('<div class=\"btn-group inline pull-right\"></div>');\n",
              "    var button = $('<button class=\"btn btn-mini btn-primary\" href=\"#\" title=\"Stop Interaction\"><i class=\"fa fa-power-off icon-remove icon-large\"></i></button>');\n",
              "    button.click(function (evt) { fig.handle_close(fig, {}); } );\n",
              "    button.mouseover('Stop Interaction', toolbar_mouse_event);\n",
              "    buttongrp.append(button);\n",
              "    var titlebar = this.root.find($('.ui-dialog-titlebar'));\n",
              "    titlebar.prepend(buttongrp);\n",
              "}\n",
              "\n",
              "mpl.figure.prototype._root_extra_style = function(el){\n",
              "    var fig = this\n",
              "    el.on(\"remove\", function(){\n",
              "\tfig.close_ws(fig, {});\n",
              "    });\n",
              "}\n",
              "\n",
              "mpl.figure.prototype._canvas_extra_style = function(el){\n",
              "    // this is important to make the div 'focusable\n",
              "    el.attr('tabindex', 0)\n",
              "    // reach out to IPython and tell the keyboard manager to turn it's self\n",
              "    // off when our div gets focus\n",
              "\n",
              "    // location in version 3\n",
              "    if (IPython.notebook.keyboard_manager) {\n",
              "        IPython.notebook.keyboard_manager.register_events(el);\n",
              "    }\n",
              "    else {\n",
              "        // location in version 2\n",
              "        IPython.keyboard_manager.register_events(el);\n",
              "    }\n",
              "\n",
              "}\n",
              "\n",
              "mpl.figure.prototype._key_event_extra = function(event, name) {\n",
              "    var manager = IPython.notebook.keyboard_manager;\n",
              "    if (!manager)\n",
              "        manager = IPython.keyboard_manager;\n",
              "\n",
              "    // Check for shift+enter\n",
              "    if (event.shiftKey && event.which == 13) {\n",
              "        this.canvas_div.blur();\n",
              "        event.shiftKey = false;\n",
              "        // Send a \"J\" for go to next cell\n",
              "        event.which = 74;\n",
              "        event.keyCode = 74;\n",
              "        manager.command_mode();\n",
              "        manager.handle_keydown(event);\n",
              "    }\n",
              "}\n",
              "\n",
              "mpl.figure.prototype.handle_save = function(fig, msg) {\n",
              "    fig.ondownload(fig, null);\n",
              "}\n",
              "\n",
              "\n",
              "mpl.find_output_cell = function(html_output) {\n",
              "    // Return the cell and output element which can be found *uniquely* in the notebook.\n",
              "    // Note - this is a bit hacky, but it is done because the \"notebook_saving.Notebook\"\n",
              "    // IPython event is triggered only after the cells have been serialised, which for\n",
              "    // our purposes (turning an active figure into a static one), is too late.\n",
              "    var cells = IPython.notebook.get_cells();\n",
              "    var ncells = cells.length;\n",
              "    for (var i=0; i<ncells; i++) {\n",
              "        var cell = cells[i];\n",
              "        if (cell.cell_type === 'code'){\n",
              "            for (var j=0; j<cell.output_area.outputs.length; j++) {\n",
              "                var data = cell.output_area.outputs[j];\n",
              "                if (data.data) {\n",
              "                    // IPython >= 3 moved mimebundle to data attribute of output\n",
              "                    data = data.data;\n",
              "                }\n",
              "                if (data['text/html'] == html_output) {\n",
              "                    return [cell, data, j];\n",
              "                }\n",
              "            }\n",
              "        }\n",
              "    }\n",
              "}\n",
              "\n",
              "// Register the function which deals with the matplotlib target/channel.\n",
              "// The kernel may be null if the page has been refreshed.\n",
              "if (IPython.notebook.kernel != null) {\n",
              "    IPython.notebook.kernel.comm_manager.register_target('matplotlib', mpl.mpl_figure_comm);\n",
              "}\n"
            ],
            "text/plain": [
              "<IPython.core.display.Javascript object>"
            ]
          },
          "metadata": {
            "tags": []
          }
        },
        {
          "output_type": "display_data",
          "data": {
            "text/html": [
              "<img src=\"data:image/png;base64,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\" width=\"640\">"
            ],
            "text/plain": [
              "<IPython.core.display.HTML object>"
            ]
          },
          "metadata": {
            "tags": []
          }
        },
        {
          "output_type": "execute_result",
          "data": {
            "text/plain": [
              "<sigpy.plot.ImagePlot at 0x7f129d7e7a90>"
            ]
          },
          "metadata": {
            "tags": []
          },
          "execution_count": 23
        }
      ]
    },
    {
      "cell_type": "code",
      "metadata": {
        "id": "frJJ_ETd8ox6",
        "colab_type": "code",
        "colab": {}
      },
      "source": [
        ""
      ],
      "execution_count": 0,
      "outputs": []
    }
  ]
}