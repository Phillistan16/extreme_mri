{
  "nbformat": 4,
  "nbformat_minor": 0,
  "metadata": {
    "kernelspec": {
      "name": "python3",
      "display_name": "Python 3"
    },
    "language_info": {
      "codemirror_mode": {
        "name": "ipython",
        "version": 3
      },
      "file_extension": ".py",
      "mimetype": "text/x-python",
      "name": "python",
      "nbconvert_exporter": "python",
      "pygments_lexer": "ipython3",
      "version": "3.7.3"
    },
    "colab": {
      "name": "colab-demo.ipynb",
      "provenance": [],
      "include_colab_link": true
    },
    "accelerator": "GPU"
  },
  "cells": [
    {
      "cell_type": "markdown",
      "metadata": {
        "id": "view-in-github",
        "colab_type": "text"
      },
      "source": [
        "<a href=\"https://colab.research.google.com/github/mikgroup/extreme_mri/blob/master/colab-demo.ipynb\" target=\"_parent\"><img src=\"https://colab.research.google.com/assets/colab-badge.svg\" alt=\"Open In Colab\"/></a>"
      ]
    },
    {
      "cell_type": "markdown",
      "metadata": {
        "id": "IZbNNNQW8oxV",
        "colab_type": "text"
      },
      "source": [
        "# Extreme MRI Demo"
      ]
    },
    {
      "cell_type": "markdown",
      "metadata": {
        "id": "jrhmgrVY8oxZ",
        "colab_type": "text"
      },
      "source": [
        "This Colab notebook is a demo for [Extreme MRI: Large-Scale Volumetric Dynamic Imaging from Continuous Non-Gated Acquisitions](https://arxiv.org/abs/1909.13482)."
      ]
    },
    {
      "cell_type": "markdown",
      "metadata": {
        "id": "YGOlMnLD8oxb",
        "colab_type": "text"
      },
      "source": [
        "# Setup\n",
        "\n",
        "By default, this colab notebook should have a GPU runtime environment. To check this, go to **Runtime > Change runtime type** and see if **GPU** is selected as **Hardware accelerator**.\n",
        "\n",
        "To setup, we will install [SigPy](http://sigpy.readthedocs.io) and clone the extreme_MRI github repo. The reconstruction also depends on [CuPy](https://cupy.chainer.org) for GPU functionalities, which is already installed on Google Colab."
      ]
    },
    {
      "cell_type": "code",
      "metadata": {
        "id": "qbJolU3s8_d6",
        "colab_type": "code",
        "outputId": "2fd36df8-468f-412d-87fe-b4a526dcd139",
        "colab": {
          "base_uri": "https://localhost:8080/",
          "height": 718
        }
      },
      "source": [
        "!pip install --force https://github.com/chengs/tqdm/archive/colab.zip\n",
        "!pip install sigpy h5py\n",
        "! git clone https://github.com/mikgroup/extreme_mri\n",
        "% cd extreme_mri\n"
      ],
      "execution_count": 1,
      "outputs": [
        {
          "output_type": "stream",
          "text": [
            "Collecting https://github.com/chengs/tqdm/archive/colab.zip\n",
            "\u001b[?25l  Downloading https://github.com/chengs/tqdm/archive/colab.zip\n",
            "\u001b[K     \\ 716kB 3.9MB/s\n",
            "\u001b[?25hBuilding wheels for collected packages: tqdm\n",
            "  Building wheel for tqdm (setup.py) ... \u001b[?25l\u001b[?25hdone\n",
            "  Created wheel for tqdm: filename=tqdm-4.28.1-py2.py3-none-any.whl size=47867 sha256=0c10754fdc855bc98f6e0b6dc7cf66bd8236a4c603223b9b253801681fa71848\n",
            "  Stored in directory: /tmp/pip-ephem-wheel-cache-u5d9bi5d/wheels/41/18/ee/d5dd158441b27965855b1bbae03fa2d8a91fe645c01b419896\n",
            "Successfully built tqdm\n",
            "Installing collected packages: tqdm\n",
            "  Found existing installation: tqdm 4.28.1\n",
            "    Uninstalling tqdm-4.28.1:\n",
            "      Successfully uninstalled tqdm-4.28.1\n",
            "Successfully installed tqdm-4.28.1\n"
          ],
          "name": "stdout"
        },
        {
          "output_type": "display_data",
          "data": {
            "application/vnd.colab-display-data+json": {
              "pip_warning": {
                "packages": [
                  "tqdm"
                ]
              }
            }
          },
          "metadata": {
            "tags": []
          }
        },
        {
          "output_type": "stream",
          "text": [
            "Collecting sigpy\n",
            "\u001b[?25l  Downloading https://files.pythonhosted.org/packages/6b/95/3b7e167811ceb2e65d9de3767f5999014e19c98b88dcd40476af666048c0/sigpy-0.1.16-py3-none-any.whl (84kB)\n",
            "\r\u001b[K     |███▉                            | 10kB 30.3MB/s eta 0:00:01\r\u001b[K     |███████▊                        | 20kB 2.2MB/s eta 0:00:01\r\u001b[K     |███████████▋                    | 30kB 2.9MB/s eta 0:00:01\r\u001b[K     |███████████████▌                | 40kB 2.1MB/s eta 0:00:01\r\u001b[K     |███████████████████▍            | 51kB 2.4MB/s eta 0:00:01\r\u001b[K     |███████████████████████▎        | 61kB 2.8MB/s eta 0:00:01\r\u001b[K     |███████████████████████████▏    | 71kB 3.1MB/s eta 0:00:01\r\u001b[K     |███████████████████████████████ | 81kB 3.5MB/s eta 0:00:01\r\u001b[K     |████████████████████████████████| 92kB 3.2MB/s \n",
            "\u001b[?25hRequirement already satisfied: h5py in /usr/local/lib/python3.6/dist-packages (2.8.0)\n",
            "Requirement already satisfied: numba in /usr/local/lib/python3.6/dist-packages (from sigpy) (0.47.0)\n",
            "Requirement already satisfied: numpy in /usr/local/lib/python3.6/dist-packages (from sigpy) (1.17.5)\n",
            "Requirement already satisfied: tqdm in /usr/local/lib/python3.6/dist-packages (from sigpy) (4.28.1)\n",
            "Requirement already satisfied: pywavelets in /usr/local/lib/python3.6/dist-packages (from sigpy) (1.1.1)\n",
            "Requirement already satisfied: scipy in /usr/local/lib/python3.6/dist-packages (from sigpy) (1.4.1)\n",
            "Requirement already satisfied: six in /usr/local/lib/python3.6/dist-packages (from h5py) (1.12.0)\n",
            "Requirement already satisfied: setuptools in /usr/local/lib/python3.6/dist-packages (from numba->sigpy) (45.1.0)\n",
            "Requirement already satisfied: llvmlite>=0.31.0dev0 in /usr/local/lib/python3.6/dist-packages (from numba->sigpy) (0.31.0)\n",
            "Installing collected packages: sigpy\n",
            "Successfully installed sigpy-0.1.16\n",
            "Cloning into 'extreme_mri'...\n",
            "remote: Enumerating objects: 218, done.\u001b[K\n",
            "remote: Counting objects: 100% (218/218), done.\u001b[K\n",
            "remote: Compressing objects: 100% (140/140), done.\u001b[K\n",
            "remote: Total 425 (delta 136), reused 151 (delta 77), pack-reused 207\u001b[K\n",
            "Receiving objects: 100% (425/425), 762.73 KiB | 7.40 MiB/s, done.\n",
            "Resolving deltas: 100% (266/266), done.\n",
            "/content/extreme_mri\n"
          ],
          "name": "stdout"
        }
      ]
    },
    {
      "cell_type": "code",
      "metadata": {
        "id": "2phzMrh98oxd",
        "colab_type": "code",
        "colab": {}
      },
      "source": [
        "import numpy as np\n",
        "import sigpy as sp\n",
        "import sigpy.mri as mr\n",
        "import sigpy.plot as pl\n",
        "\n",
        "from download_dataset import download_dce_dataset\n",
        "from gridding_recon import gridding_recon\n",
        "from multi_scale_low_rank_recon import MultiScaleLowRankRecon\n",
        "\n",
        "# Set GPU 0 as computing device\n",
        "device = 0"
      ],
      "execution_count": 0,
      "outputs": []
    },
    {
      "cell_type": "markdown",
      "metadata": {
        "id": "oi3yyTTi8oxn",
        "colab_type": "text"
      },
      "source": [
        "# Download and Load dataset\n",
        "\n",
        "Now, let's download and load the DCE dataset. The dataset is hosted on Zenodo: https://zenodo.org/record/3647820, and corresponds to the second DCE dataset described in the paper.\n",
        "\n",
        "The `download_dce_dataset()` function will download the datasets if it cannot find them under `data/dce/`. It takes around 8 minutes to download the datasets."
      ]
    },
    {
      "cell_type": "code",
      "metadata": {
        "id": "1SrtI6Pp8oxo",
        "colab_type": "code",
        "colab": {
          "base_uri": "https://localhost:8080/",
          "height": 122
        },
        "outputId": "e7ce88c3-098a-4a38-f57f-83aa98f63516"
      },
      "source": [
        "download_dce_dataset()\n",
        "ksp = np.load('data/dce/ksp.npy')\n",
        "coord = np.load('data/dce/coord.npy')\n",
        "dcf = np.load('data/dce/dcf.npy')"
      ],
      "execution_count": 4,
      "outputs": [
        {
          "output_type": "display_data",
          "data": {
            "text/html": [
              "<div style=\"display:flex;flex-direction:row;\"><span>Downloading dcf.npy</span><progress style='margin:2px 4px;description_width:initial;' max='119052812' value='119052812'></progress>100% 119M/119M [00:12&lt;00:00, 9.62MiB/s]</div>"
            ],
            "text/plain": [
              "<tqdm._fake_ipywidgets.HBox object>"
            ]
          },
          "metadata": {
            "tags": []
          }
        },
        {
          "output_type": "stream",
          "text": [
            "\n"
          ],
          "name": "stdout"
        },
        {
          "output_type": "display_data",
          "data": {
            "text/html": [
              "<div style=\"display:flex;flex-direction:row;\"><span>Downloading coord.npy</span><progress style='margin:2px 4px;description_width:initial;' max='357158180' value='357158180'></progress>100% 357M/357M [00:39&lt;00:00, 9.08MiB/s]</div>"
            ],
            "text/plain": [
              "<tqdm._fake_ipywidgets.HBox object>"
            ]
          },
          "metadata": {
            "tags": []
          }
        },
        {
          "output_type": "stream",
          "text": [
            "\n"
          ],
          "name": "stdout"
        },
        {
          "output_type": "display_data",
          "data": {
            "text/html": [
              "<div style=\"display:flex;flex-direction:row;\"><span>Downloading ksp.npy</span><progress style='margin:2px 4px;description_width:initial;' max='2857264544' value='2857264544'></progress>100% 2.86G/2.86G [06:57&lt;00:00, 6.85MiB/s]</div>"
            ],
            "text/plain": [
              "<tqdm._fake_ipywidgets.HBox object>"
            ]
          },
          "metadata": {
            "tags": []
          }
        },
        {
          "output_type": "stream",
          "text": [
            "\n"
          ],
          "name": "stdout"
        }
      ]
    },
    {
      "cell_type": "markdown",
      "metadata": {
        "id": "iG67iP-e8oxr",
        "colab_type": "text"
      },
      "source": [
        "# (Optional) Speed up reconstruction by cropping k-space\n",
        "\n",
        "To speed up the demo, we will crop the k-space data along readout to reconstruct images with lower spatial resolution\n",
        "\n",
        "Simply comment out this part if you would like to perform the full-resolution reconstruction."
      ]
    },
    {
      "cell_type": "code",
      "metadata": {
        "id": "pt5eDH3z8oxs",
        "colab_type": "code",
        "colab": {}
      },
      "source": [
        "num_ro = 150  # number of readout points\n",
        "ksp = ksp[:, :, :num_ro]\n",
        "coord = coord[:, :num_ro]\n",
        "dcf = dcf[:, :num_ro]"
      ],
      "execution_count": 0,
      "outputs": []
    },
    {
      "cell_type": "markdown",
      "metadata": {
        "id": "B-rt-Hct8oxu",
        "colab_type": "text"
      },
      "source": [
        "# Gridding reconstruction\n",
        "\n",
        "Let's first do a gridding reconstruction to see what the image looks like."
      ]
    },
    {
      "cell_type": "code",
      "metadata": {
        "id": "U-xGfU2C8oxv",
        "colab_type": "code",
        "outputId": "35211c92-0848-4c94-9076-97994819d5b1",
        "colab": {
          "base_uri": "https://localhost:8080/",
          "height": 228
        }
      },
      "source": [
        "grd = gridding_recon(ksp, coord, dcf, device=device)\n",
        "\n",
        "#Plot\n",
        "pl.ImagePlot(grd, interpolation='lanczos')"
      ],
      "execution_count": 6,
      "outputs": [
        {
          "output_type": "display_data",
          "data": {
            "image/png": "[encoded data removed]",
            "text/plain": [
              "<Figure size 432x288 with 1 Axes>"
            ]
          },
          "metadata": {
            "tags": []
          }
        },
        {
          "output_type": "execute_result",
          "data": {
            "text/plain": [
              "<sigpy.plot.ImagePlot at 0x7f2a065c2588>"
            ]
          },
          "metadata": {
            "tags": []
          },
          "execution_count": 6
        }
      ]
    },
    {
      "cell_type": "markdown",
      "metadata": {
        "id": "UVKPy_JT8oxz",
        "colab_type": "text"
      },
      "source": [
        "# Generate Sensitivity Maps\n",
        "\n",
        "We will need to estimate the sensitivity maps to incorporate multi-channel data. \n",
        "\n",
        "For this demo, we will use [JSENSE](https://onlinelibrary.wiley.com/doi/full/10.1002/mrm.21245), which has a fast implementation in SigPy."
      ]
    },
    {
      "cell_type": "code",
      "metadata": {
        "id": "nUgpCD1t8oxz",
        "colab_type": "code",
        "outputId": "a5e66d6b-240c-4e54-bbdb-b8d92101c966",
        "colab": {
          "base_uri": "https://localhost:8080/",
          "height": 227
        }
      },
      "source": [
        "mps = mr.app.JsenseRecon(ksp, coord=coord, weights=dcf, device=device).run()\n",
        "\n",
        "# Plot\n",
        "pl.ImagePlot(mps, z=0, interpolation='lanczos')"
      ],
      "execution_count": 7,
      "outputs": [
        {
          "output_type": "display_data",
          "data": {
            "text/html": [
              "<div style=\"display:flex;flex-direction:row;\"><span>JsenseRecon</span><progress style='margin:2px 4px;description_width:initial;' max='10' value='10'></progress>100% 10/10 [02:11&lt;00:00, 12.63s/it]</div>"
            ],
            "text/plain": [
              "<tqdm._fake_ipywidgets.HBox object>"
            ]
          },
          "metadata": {
            "tags": []
          }
        },
        {
          "output_type": "stream",
          "text": [
            "\n"
          ],
          "name": "stdout"
        },
        {
          "output_type": "display_data",
          "data": {
            "image/png": "[encoded data removed]",
            "text/plain": [
              "<Figure size 432x288 with 1 Axes>"
            ]
          },
          "metadata": {
            "tags": []
          }
        },
        {
          "output_type": "execute_result",
          "data": {
            "text/plain": [
              "<sigpy.plot.ImagePlot at 0x7f2a06638fd0>"
            ]
          },
          "metadata": {
            "tags": []
          },
          "execution_count": 7
        }
      ]
    },
    {
      "cell_type": "markdown",
      "metadata": {
        "id": "0AxnSLNY8ox1",
        "colab_type": "text"
      },
      "source": [
        "# Multi-scale Low Rank Reconstruction\n",
        "\n",
        "The following runs the multi-scale low rank reconstruction with 20 frames.\n",
        "\n",
        "In this implementation, there is an initialization phase using the power iteration to initialize the singular vectors. Then, the reconstruction will run stochastic gradient method with 90 epochs.\n",
        "\n",
        "As a reference, the low resolution reconstruction with 20 frames took about 8 minutes."
      ]
    },
    {
      "cell_type": "code",
      "metadata": {
        "scrolled": true,
        "id": "Ee23BMum8ox2",
        "colab_type": "code",
        "outputId": "4bbb5e21-913d-41b1-a615-6038667a29b5",
        "colab": {
          "base_uri": "https://localhost:8080/",
          "height": 1000
        }
      },
      "source": [
        "T = 20\n",
        "lamda = 1e-8\n",
        "img = MultiScaleLowRankRecon(ksp, coord, dcf, mps, T, lamda, device=device).run()"
      ],
      "execution_count": 8,
      "outputs": [
        {
          "output_type": "display_data",
          "data": {
            "text/html": [
              "<div style=\"display:flex;flex-direction:row;\"><span>MaxEig</span><progress style='margin:2px 4px;description_width:initial;' max='5' value='5'></progress>100% 5/5 [00:00&lt;00:00, 12.23it/s, max_eig=2.16E-04]</div>"
            ],
            "text/plain": [
              "<tqdm._fake_ipywidgets.HBox object>"
            ]
          },
          "metadata": {
            "tags": []
          }
        },
        {
          "output_type": "stream",
          "text": [
            "\n"
          ],
          "name": "stdout"
        },
        {
          "output_type": "display_data",
          "data": {
            "text/html": [
              "<div style=\"display:flex;flex-direction:row;\"><span>PowerIter R 1/5</span><progress style='margin:2px 4px;description_width:initial;' max='20' value='20'></progress>100% 20/20 [00:02&lt;00:00,  8.15it/s]</div>"
            ],
            "text/plain": [
              "<tqdm._fake_ipywidgets.HBox object>"
            ]
          },
          "metadata": {
            "tags": []
          }
        },
        {
          "output_type": "stream",
          "text": [
            "\n"
          ],
          "name": "stdout"
        },
        {
          "output_type": "display_data",
          "data": {
            "text/html": [
              "<div style=\"display:flex;flex-direction:row;\"><span>PowerIter L 1/5</span><progress style='margin:2px 4px;description_width:initial;' max='20' value='20'></progress>100% 20/20 [00:01&lt;00:00, 10.23it/s]</div>"
            ],
            "text/plain": [
              "<tqdm._fake_ipywidgets.HBox object>"
            ]
          },
          "metadata": {
            "tags": []
          }
        },
        {
          "output_type": "stream",
          "text": [
            "\n"
          ],
          "name": "stdout"
        },
        {
          "output_type": "display_data",
          "data": {
            "text/html": [
              "<div style=\"display:flex;flex-direction:row;\"><span>PowerIter R 2/5</span><progress style='margin:2px 4px;description_width:initial;' max='20' value='20'></progress>100% 20/20 [00:01&lt;00:00, 10.17it/s]</div>"
            ],
            "text/plain": [
              "<tqdm._fake_ipywidgets.HBox object>"
            ]
          },
          "metadata": {
            "tags": []
          }
        },
        {
          "output_type": "stream",
          "text": [
            "\n"
          ],
          "name": "stdout"
        },
        {
          "output_type": "display_data",
          "data": {
            "text/html": [
              "<div style=\"display:flex;flex-direction:row;\"><span>PowerIter L 2/5</span><progress style='margin:2px 4px;description_width:initial;' max='20' value='20'></progress>100% 20/20 [00:01&lt;00:00, 10.19it/s]</div>"
            ],
            "text/plain": [
              "<tqdm._fake_ipywidgets.HBox object>"
            ]
          },
          "metadata": {
            "tags": []
          }
        },
        {
          "output_type": "stream",
          "text": [
            "\n"
          ],
          "name": "stdout"
        },
        {
          "output_type": "display_data",
          "data": {
            "text/html": [
              "<div style=\"display:flex;flex-direction:row;\"><span>PowerIter R 3/5</span><progress style='margin:2px 4px;description_width:initial;' max='20' value='20'></progress>100% 20/20 [00:01&lt;00:00, 10.15it/s]</div>"
            ],
            "text/plain": [
              "<tqdm._fake_ipywidgets.HBox object>"
            ]
          },
          "metadata": {
            "tags": []
          }
        },
        {
          "output_type": "stream",
          "text": [
            "\n"
          ],
          "name": "stdout"
        },
        {
          "output_type": "display_data",
          "data": {
            "text/html": [
              "<div style=\"display:flex;flex-direction:row;\"><span>PowerIter L 3/5</span><progress style='margin:2px 4px;description_width:initial;' max='20' value='20'></progress>100% 20/20 [00:01&lt;00:00, 10.19it/s]</div>"
            ],
            "text/plain": [
              "<tqdm._fake_ipywidgets.HBox object>"
            ]
          },
          "metadata": {
            "tags": []
          }
        },
        {
          "output_type": "stream",
          "text": [
            "\n"
          ],
          "name": "stdout"
        },
        {
          "output_type": "display_data",
          "data": {
            "text/html": [
              "<div style=\"display:flex;flex-direction:row;\"><span>PowerIter R 4/5</span><progress style='margin:2px 4px;description_width:initial;' max='20' value='20'></progress>100% 20/20 [00:01&lt;00:00, 10.14it/s]</div>"
            ],
            "text/plain": [
              "<tqdm._fake_ipywidgets.HBox object>"
            ]
          },
          "metadata": {
            "tags": []
          }
        },
        {
          "output_type": "stream",
          "text": [
            "\n"
          ],
          "name": "stdout"
        },
        {
          "output_type": "display_data",
          "data": {
            "text/html": [
              "<div style=\"display:flex;flex-direction:row;\"><span>PowerIter L 4/5</span><progress style='margin:2px 4px;description_width:initial;' max='20' value='20'></progress>100% 20/20 [00:01&lt;00:00, 10.17it/s]</div>"
            ],
            "text/plain": [
              "<tqdm._fake_ipywidgets.HBox object>"
            ]
          },
          "metadata": {
            "tags": []
          }
        },
        {
          "output_type": "stream",
          "text": [
            "\n"
          ],
          "name": "stdout"
        },
        {
          "output_type": "display_data",
          "data": {
            "text/html": [
              "<div style=\"display:flex;flex-direction:row;\"><span>PowerIter R 5/5</span><progress style='margin:2px 4px;description_width:initial;' max='20' value='20'></progress>100% 20/20 [00:01&lt;00:00, 10.13it/s]</div>"
            ],
            "text/plain": [
              "<tqdm._fake_ipywidgets.HBox object>"
            ]
          },
          "metadata": {
            "tags": []
          }
        },
        {
          "output_type": "stream",
          "text": [
            "\n"
          ],
          "name": "stdout"
        },
        {
          "output_type": "display_data",
          "data": {
            "text/html": [
              "<div style=\"display:flex;flex-direction:row;\"><span>PowerIter L 5/5</span><progress style='margin:2px 4px;description_width:initial;' max='20' value='20'></progress>100% 20/20 [00:01&lt;00:00, 10.15it/s]</div>"
            ],
            "text/plain": [
              "<tqdm._fake_ipywidgets.HBox object>"
            ]
          },
          "metadata": {
            "tags": []
          }
        },
        {
          "output_type": "stream",
          "text": [
            "\n"
          ],
          "name": "stdout"
        },
        {
          "output_type": "display_data",
          "data": {
            "text/html": [
              "<div style=\"display:flex;flex-direction:row;\"><span>Epoch 1/90</span><progress style='margin:2px 4px;description_width:initial;' max='20' value='20'></progress>100% 20/20 [00:05&lt;00:00,  4.54it/s, loss=0.176]</div>"
            ],
            "text/plain": [
              "<tqdm._fake_ipywidgets.HBox object>"
            ]
          },
          "metadata": {
            "tags": []
          }
        },
        {
          "output_type": "stream",
          "text": [
            "\n"
          ],
          "name": "stdout"
        },
        {
          "output_type": "display_data",
          "data": {
            "text/html": [
              "<div style=\"display:flex;flex-direction:row;\"><span>Epoch 2/90</span><progress style='margin:2px 4px;description_width:initial;' max='20' value='20'></progress>100% 20/20 [00:04&lt;00:00,  4.54it/s, loss=3.08e+5]</div>"
            ],
            "text/plain": [
              "<tqdm._fake_ipywidgets.HBox object>"
            ]
          },
          "metadata": {
            "tags": []
          }
        },
        {
          "output_type": "stream",
          "text": [
            "\n"
          ],
          "name": "stdout"
        },
        {
          "output_type": "display_data",
          "data": {
            "text/html": [
              "<div style=\"display:flex;flex-direction:row;\"><span>Epoch 3/90</span><progress style='margin:2px 4px;description_width:initial;' max='20' value='4'></progress> 20% 4/20 [00:00&lt;00:03,  4.53it/s, loss=3.05e+28]</div>"
            ],
            "text/plain": [
              "<tqdm._fake_ipywidgets.HBox object>"
            ]
          },
          "metadata": {
            "tags": []
          }
        },
        {
          "output_type": "stream",
          "text": [
            "\n",
            "\n",
            "Reconstruction diverged. Restart with alpha=7.02.\n"
          ],
          "name": "stdout"
        },
        {
          "output_type": "display_data",
          "data": {
            "text/html": [
              "<div style=\"display:flex;flex-direction:row;\"><span>Epoch 1/90</span><progress style='margin:2px 4px;description_width:initial;' max='20' value='20'></progress>100% 20/20 [00:04&lt;00:00,  4.49it/s, loss=0.206]</div>"
            ],
            "text/plain": [
              "<tqdm._fake_ipywidgets.HBox object>"
            ]
          },
          "metadata": {
            "tags": []
          }
        },
        {
          "output_type": "stream",
          "text": [
            "\n"
          ],
          "name": "stdout"
        },
        {
          "output_type": "display_data",
          "data": {
            "text/html": [
              "<div style=\"display:flex;flex-direction:row;\"><span>Epoch 2/90</span><progress style='margin:2px 4px;description_width:initial;' max='20' value='20'></progress>100% 20/20 [00:04&lt;00:00,  4.43it/s, loss=0.0806]</div>"
            ],
            "text/plain": [
              "<tqdm._fake_ipywidgets.HBox object>"
            ]
          },
          "metadata": {
            "tags": []
          }
        },
        {
          "output_type": "stream",
          "text": [
            "\n"
          ],
          "name": "stdout"
        },
        {
          "output_type": "display_data",
          "data": {
            "text/html": [
              "<div style=\"display:flex;flex-direction:row;\"><span>Epoch 3/90</span><progress style='margin:2px 4px;description_width:initial;' max='20' value='20'></progress>100% 20/20 [00:04&lt;00:00,  4.45it/s, loss=0.0344]</div>"
            ],
            "text/plain": [
              "<tqdm._fake_ipywidgets.HBox object>"
            ]
          },
          "metadata": {
            "tags": []
          }
        },
        {
          "output_type": "stream",
          "text": [
            "\n"
          ],
          "name": "stdout"
        },
        {
          "output_type": "display_data",
          "data": {
            "text/html": [
              "<div style=\"display:flex;flex-direction:row;\"><span>Epoch 4/90</span><progress style='margin:2px 4px;description_width:initial;' max='20' value='20'></progress>100% 20/20 [00:04&lt;00:00,  4.48it/s, loss=0.0263]</div>"
            ],
            "text/plain": [
              "<tqdm._fake_ipywidgets.HBox object>"
            ]
          },
          "metadata": {
            "tags": []
          }
        },
        {
          "output_type": "stream",
          "text": [
            "\n"
          ],
          "name": "stdout"
        },
        {
          "output_type": "display_data",
          "data": {
            "text/html": [
              "<div style=\"display:flex;flex-direction:row;\"><span>Epoch 5/90</span><progress style='margin:2px 4px;description_width:initial;' max='20' value='20'></progress>100% 20/20 [00:04&lt;00:00,  4.50it/s, loss=0.0231]</div>"
            ],
            "text/plain": [
              "<tqdm._fake_ipywidgets.HBox object>"
            ]
          },
          "metadata": {
            "tags": []
          }
        },
        {
          "output_type": "stream",
          "text": [
            "\n"
          ],
          "name": "stdout"
        },
        {
          "output_type": "display_data",
          "data": {
            "text/html": [
              "<div style=\"display:flex;flex-direction:row;\"><span>Epoch 6/90</span><progress style='margin:2px 4px;description_width:initial;' max='20' value='20'></progress>100% 20/20 [00:04&lt;00:00,  4.49it/s, loss=0.0216]</div>"
            ],
            "text/plain": [
              "<tqdm._fake_ipywidgets.HBox object>"
            ]
          },
          "metadata": {
            "tags": []
          }
        },
        {
          "output_type": "stream",
          "text": [
            "\n"
          ],
          "name": "stdout"
        },
        {
          "output_type": "display_data",
          "data": {
            "text/html": [
              "<div style=\"display:flex;flex-direction:row;\"><span>Epoch 7/90</span><progress style='margin:2px 4px;description_width:initial;' max='20' value='20'></progress>100% 20/20 [00:04&lt;00:00,  4.47it/s, loss=0.0207]</div>"
            ],
            "text/plain": [
              "<tqdm._fake_ipywidgets.HBox object>"
            ]
          },
          "metadata": {
            "tags": []
          }
        },
        {
          "output_type": "stream",
          "text": [
            "\n"
          ],
          "name": "stdout"
        },
        {
          "output_type": "display_data",
          "data": {
            "text/html": [
              "<div style=\"display:flex;flex-direction:row;\"><span>Epoch 8/90</span><progress style='margin:2px 4px;description_width:initial;' max='20' value='20'></progress>100% 20/20 [00:04&lt;00:00,  4.48it/s, loss=0.0202]</div>"
            ],
            "text/plain": [
              "<tqdm._fake_ipywidgets.HBox object>"
            ]
          },
          "metadata": {
            "tags": []
          }
        },
        {
          "output_type": "stream",
          "text": [
            "\n"
          ],
          "name": "stdout"
        },
        {
          "output_type": "display_data",
          "data": {
            "text/html": [
              "<div style=\"display:flex;flex-direction:row;\"><span>Epoch 9/90</span><progress style='margin:2px 4px;description_width:initial;' max='20' value='20'></progress>100% 20/20 [00:04&lt;00:00,  4.50it/s, loss=0.0198]</div>"
            ],
            "text/plain": [
              "<tqdm._fake_ipywidgets.HBox object>"
            ]
          },
          "metadata": {
            "tags": []
          }
        },
        {
          "output_type": "stream",
          "text": [
            "\n"
          ],
          "name": "stdout"
        },
        {
          "output_type": "display_data",
          "data": {
            "text/html": [
              "<div style=\"display:flex;flex-direction:row;\"><span>Epoch 10/90</span><progress style='margin:2px 4px;description_width:initial;' max='20' value='20'></progress>100% 20/20 [00:04&lt;00:00,  4.48it/s, loss=0.0195]</div>"
            ],
            "text/plain": [
              "<tqdm._fake_ipywidgets.HBox object>"
            ]
          },
          "metadata": {
            "tags": []
          }
        },
        {
          "output_type": "stream",
          "text": [
            "\n"
          ],
          "name": "stdout"
        },
        {
          "output_type": "display_data",
          "data": {
            "text/html": [
              "<div style=\"display:flex;flex-direction:row;\"><span>Epoch 11/90</span><progress style='margin:2px 4px;description_width:initial;' max='20' value='20'></progress>100% 20/20 [00:04&lt;00:00,  4.49it/s, loss=0.019]</div>"
            ],
            "text/plain": [
              "<tqdm._fake_ipywidgets.HBox object>"
            ]
          },
          "metadata": {
            "tags": []
          }
        },
        {
          "output_type": "stream",
          "text": [
            "\n"
          ],
          "name": "stdout"
        },
        {
          "output_type": "display_data",
          "data": {
            "text/html": [
              "<div style=\"display:flex;flex-direction:row;\"><span>Epoch 12/90</span><progress style='margin:2px 4px;description_width:initial;' max='20' value='20'></progress>100% 20/20 [00:04&lt;00:00,  4.48it/s, loss=0.0187]</div>"
            ],
            "text/plain": [
              "<tqdm._fake_ipywidgets.HBox object>"
            ]
          },
          "metadata": {
            "tags": []
          }
        },
        {
          "output_type": "stream",
          "text": [
            "\n"
          ],
          "name": "stdout"
        },
        {
          "output_type": "display_data",
          "data": {
            "text/html": [
              "<div style=\"display:flex;flex-direction:row;\"><span>Epoch 13/90</span><progress style='margin:2px 4px;description_width:initial;' max='20' value='20'></progress>100% 20/20 [00:04&lt;00:00,  4.49it/s, loss=0.0183]</div>"
            ],
            "text/plain": [
              "<tqdm._fake_ipywidgets.HBox object>"
            ]
          },
          "metadata": {
            "tags": []
          }
        },
        {
          "output_type": "stream",
          "text": [
            "\n"
          ],
          "name": "stdout"
        },
        {
          "output_type": "display_data",
          "data": {
            "text/html": [
              "<div style=\"display:flex;flex-direction:row;\"><span>Epoch 14/90</span><progress style='margin:2px 4px;description_width:initial;' max='20' value='20'></progress>100% 20/20 [00:04&lt;00:00,  4.45it/s, loss=0.0179]</div>"
            ],
            "text/plain": [
              "<tqdm._fake_ipywidgets.HBox object>"
            ]
          },
          "metadata": {
            "tags": []
          }
        },
        {
          "output_type": "stream",
          "text": [
            "\n"
          ],
          "name": "stdout"
        },
        {
          "output_type": "display_data",
          "data": {
            "text/html": [
              "<div style=\"display:flex;flex-direction:row;\"><span>Epoch 15/90</span><progress style='margin:2px 4px;description_width:initial;' max='20' value='20'></progress>100% 20/20 [00:04&lt;00:00,  4.40it/s, loss=0.0177]</div>"
            ],
            "text/plain": [
              "<tqdm._fake_ipywidgets.HBox object>"
            ]
          },
          "metadata": {
            "tags": []
          }
        },
        {
          "output_type": "stream",
          "text": [
            "\n"
          ],
          "name": "stdout"
        },
        {
          "output_type": "display_data",
          "data": {
            "text/html": [
              "<div style=\"display:flex;flex-direction:row;\"><span>Epoch 16/90</span><progress style='margin:2px 4px;description_width:initial;' max='20' value='20'></progress>100% 20/20 [00:04&lt;00:00,  4.37it/s, loss=0.0176]</div>"
            ],
            "text/plain": [
              "<tqdm._fake_ipywidgets.HBox object>"
            ]
          },
          "metadata": {
            "tags": []
          }
        },
        {
          "output_type": "stream",
          "text": [
            "\n"
          ],
          "name": "stdout"
        },
        {
          "output_type": "display_data",
          "data": {
            "text/html": [
              "<div style=\"display:flex;flex-direction:row;\"><span>Epoch 17/90</span><progress style='margin:2px 4px;description_width:initial;' max='20' value='20'></progress>100% 20/20 [00:04&lt;00:00,  4.46it/s, loss=0.0174]</div>"
            ],
            "text/plain": [
              "<tqdm._fake_ipywidgets.HBox object>"
            ]
          },
          "metadata": {
            "tags": []
          }
        },
        {
          "output_type": "stream",
          "text": [
            "\n"
          ],
          "name": "stdout"
        },
        {
          "output_type": "display_data",
          "data": {
            "text/html": [
              "<div style=\"display:flex;flex-direction:row;\"><span>Epoch 18/90</span><progress style='margin:2px 4px;description_width:initial;' max='20' value='20'></progress>100% 20/20 [00:04&lt;00:00,  4.46it/s, loss=0.0171]</div>"
            ],
            "text/plain": [
              "<tqdm._fake_ipywidgets.HBox object>"
            ]
          },
          "metadata": {
            "tags": []
          }
        },
        {
          "output_type": "stream",
          "text": [
            "\n"
          ],
          "name": "stdout"
        },
        {
          "output_type": "display_data",
          "data": {
            "text/html": [
              "<div style=\"display:flex;flex-direction:row;\"><span>Epoch 19/90</span><progress style='margin:2px 4px;description_width:initial;' max='20' value='20'></progress>100% 20/20 [00:04&lt;00:00,  4.48it/s, loss=0.0169]</div>"
            ],
            "text/plain": [
              "<tqdm._fake_ipywidgets.HBox object>"
            ]
          },
          "metadata": {
            "tags": []
          }
        },
        {
          "output_type": "stream",
          "text": [
            "\n"
          ],
          "name": "stdout"
        },
        {
          "output_type": "display_data",
          "data": {
            "text/html": [
              "<div style=\"display:flex;flex-direction:row;\"><span>Epoch 20/90</span><progress style='margin:2px 4px;description_width:initial;' max='20' value='20'></progress>100% 20/20 [00:04&lt;00:00,  4.48it/s, loss=0.0168]</div>"
            ],
            "text/plain": [
              "<tqdm._fake_ipywidgets.HBox object>"
            ]
          },
          "metadata": {
            "tags": []
          }
        },
        {
          "output_type": "stream",
          "text": [
            "\n"
          ],
          "name": "stdout"
        },
        {
          "output_type": "display_data",
          "data": {
            "text/html": [
              "<div style=\"display:flex;flex-direction:row;\"><span>Epoch 21/90</span><progress style='margin:2px 4px;description_width:initial;' max='20' value='20'></progress>100% 20/20 [00:04&lt;00:00,  4.46it/s, loss=0.0166]</div>"
            ],
            "text/plain": [
              "<tqdm._fake_ipywidgets.HBox object>"
            ]
          },
          "metadata": {
            "tags": []
          }
        },
        {
          "output_type": "stream",
          "text": [
            "\n"
          ],
          "name": "stdout"
        },
        {
          "output_type": "display_data",
          "data": {
            "text/html": [
              "<div style=\"display:flex;flex-direction:row;\"><span>Epoch 22/90</span><progress style='margin:2px 4px;description_width:initial;' max='20' value='20'></progress>100% 20/20 [00:04&lt;00:00,  4.45it/s, loss=0.0164]</div>"
            ],
            "text/plain": [
              "<tqdm._fake_ipywidgets.HBox object>"
            ]
          },
          "metadata": {
            "tags": []
          }
        },
        {
          "output_type": "stream",
          "text": [
            "\n"
          ],
          "name": "stdout"
        },
        {
          "output_type": "display_data",
          "data": {
            "text/html": [
              "<div style=\"display:flex;flex-direction:row;\"><span>Epoch 23/90</span><progress style='margin:2px 4px;description_width:initial;' max='20' value='20'></progress>100% 20/20 [00:04&lt;00:00,  4.46it/s, loss=0.0162]</div>"
            ],
            "text/plain": [
              "<tqdm._fake_ipywidgets.HBox object>"
            ]
          },
          "metadata": {
            "tags": []
          }
        },
        {
          "output_type": "stream",
          "text": [
            "\n"
          ],
          "name": "stdout"
        },
        {
          "output_type": "display_data",
          "data": {
            "text/html": [
              "<div style=\"display:flex;flex-direction:row;\"><span>Epoch 24/90</span><progress style='margin:2px 4px;description_width:initial;' max='20' value='20'></progress>100% 20/20 [00:04&lt;00:00,  4.46it/s, loss=0.0161]</div>"
            ],
            "text/plain": [
              "<tqdm._fake_ipywidgets.HBox object>"
            ]
          },
          "metadata": {
            "tags": []
          }
        },
        {
          "output_type": "stream",
          "text": [
            "\n"
          ],
          "name": "stdout"
        },
        {
          "output_type": "display_data",
          "data": {
            "text/html": [
              "<div style=\"display:flex;flex-direction:row;\"><span>Epoch 25/90</span><progress style='margin:2px 4px;description_width:initial;' max='20' value='20'></progress>100% 20/20 [00:04&lt;00:00,  4.39it/s, loss=0.016]</div>"
            ],
            "text/plain": [
              "<tqdm._fake_ipywidgets.HBox object>"
            ]
          },
          "metadata": {
            "tags": []
          }
        },
        {
          "output_type": "stream",
          "text": [
            "\n"
          ],
          "name": "stdout"
        },
        {
          "output_type": "display_data",
          "data": {
            "text/html": [
              "<div style=\"display:flex;flex-direction:row;\"><span>Epoch 26/90</span><progress style='margin:2px 4px;description_width:initial;' max='20' value='20'></progress>100% 20/20 [00:04&lt;00:00,  4.41it/s, loss=0.0159]</div>"
            ],
            "text/plain": [
              "<tqdm._fake_ipywidgets.HBox object>"
            ]
          },
          "metadata": {
            "tags": []
          }
        },
        {
          "output_type": "stream",
          "text": [
            "\n"
          ],
          "name": "stdout"
        },
        {
          "output_type": "display_data",
          "data": {
            "text/html": [
              "<div style=\"display:flex;flex-direction:row;\"><span>Epoch 27/90</span><progress style='margin:2px 4px;description_width:initial;' max='20' value='20'></progress>100% 20/20 [00:04&lt;00:00,  4.39it/s, loss=0.0156]</div>"
            ],
            "text/plain": [
              "<tqdm._fake_ipywidgets.HBox object>"
            ]
          },
          "metadata": {
            "tags": []
          }
        },
        {
          "output_type": "stream",
          "text": [
            "\n"
          ],
          "name": "stdout"
        },
        {
          "output_type": "display_data",
          "data": {
            "text/html": [
              "<div style=\"display:flex;flex-direction:row;\"><span>Epoch 28/90</span><progress style='margin:2px 4px;description_width:initial;' max='20' value='20'></progress>100% 20/20 [00:04&lt;00:00,  4.40it/s, loss=0.0156]</div>"
            ],
            "text/plain": [
              "<tqdm._fake_ipywidgets.HBox object>"
            ]
          },
          "metadata": {
            "tags": []
          }
        },
        {
          "output_type": "stream",
          "text": [
            "\n"
          ],
          "name": "stdout"
        },
        {
          "output_type": "display_data",
          "data": {
            "text/html": [
              "<div style=\"display:flex;flex-direction:row;\"><span>Epoch 29/90</span><progress style='margin:2px 4px;description_width:initial;' max='20' value='20'></progress>100% 20/20 [00:04&lt;00:00,  4.44it/s, loss=0.0155]</div>"
            ],
            "text/plain": [
              "<tqdm._fake_ipywidgets.HBox object>"
            ]
          },
          "metadata": {
            "tags": []
          }
        },
        {
          "output_type": "stream",
          "text": [
            "\n"
          ],
          "name": "stdout"
        },
        {
          "output_type": "display_data",
          "data": {
            "text/html": [
              "<div style=\"display:flex;flex-direction:row;\"><span>Epoch 30/90</span><progress style='margin:2px 4px;description_width:initial;' max='20' value='20'></progress>100% 20/20 [00:04&lt;00:00,  4.44it/s, loss=0.0154]</div>"
            ],
            "text/plain": [
              "<tqdm._fake_ipywidgets.HBox object>"
            ]
          },
          "metadata": {
            "tags": []
          }
        },
        {
          "output_type": "stream",
          "text": [
            "\n"
          ],
          "name": "stdout"
        },
        {
          "output_type": "display_data",
          "data": {
            "text/html": [
              "<div style=\"display:flex;flex-direction:row;\"><span>Epoch 31/90</span><progress style='margin:2px 4px;description_width:initial;' max='20' value='20'></progress>100% 20/20 [00:04&lt;00:00,  4.41it/s, loss=0.0152]</div>"
            ],
            "text/plain": [
              "<tqdm._fake_ipywidgets.HBox object>"
            ]
          },
          "metadata": {
            "tags": []
          }
        },
        {
          "output_type": "stream",
          "text": [
            "\n"
          ],
          "name": "stdout"
        },
        {
          "output_type": "display_data",
          "data": {
            "text/html": [
              "<div style=\"display:flex;flex-direction:row;\"><span>Epoch 32/90</span><progress style='margin:2px 4px;description_width:initial;' max='20' value='20'></progress>100% 20/20 [00:04&lt;00:00,  4.43it/s, loss=0.015]</div>"
            ],
            "text/plain": [
              "<tqdm._fake_ipywidgets.HBox object>"
            ]
          },
          "metadata": {
            "tags": []
          }
        },
        {
          "output_type": "stream",
          "text": [
            "\n"
          ],
          "name": "stdout"
        },
        {
          "output_type": "display_data",
          "data": {
            "text/html": [
              "<div style=\"display:flex;flex-direction:row;\"><span>Epoch 33/90</span><progress style='margin:2px 4px;description_width:initial;' max='20' value='20'></progress>100% 20/20 [00:04&lt;00:00,  4.43it/s, loss=0.015]</div>"
            ],
            "text/plain": [
              "<tqdm._fake_ipywidgets.HBox object>"
            ]
          },
          "metadata": {
            "tags": []
          }
        },
        {
          "output_type": "stream",
          "text": [
            "\n"
          ],
          "name": "stdout"
        },
        {
          "output_type": "display_data",
          "data": {
            "text/html": [
              "<div style=\"display:flex;flex-direction:row;\"><span>Epoch 34/90</span><progress style='margin:2px 4px;description_width:initial;' max='20' value='20'></progress>100% 20/20 [00:04&lt;00:00,  4.40it/s, loss=0.015]</div>"
            ],
            "text/plain": [
              "<tqdm._fake_ipywidgets.HBox object>"
            ]
          },
          "metadata": {
            "tags": []
          }
        },
        {
          "output_type": "stream",
          "text": [
            "\n"
          ],
          "name": "stdout"
        },
        {
          "output_type": "display_data",
          "data": {
            "text/html": [
              "<div style=\"display:flex;flex-direction:row;\"><span>Epoch 35/90</span><progress style='margin:2px 4px;description_width:initial;' max='20' value='20'></progress>100% 20/20 [00:04&lt;00:00,  4.44it/s, loss=0.0149]</div>"
            ],
            "text/plain": [
              "<tqdm._fake_ipywidgets.HBox object>"
            ]
          },
          "metadata": {
            "tags": []
          }
        },
        {
          "output_type": "stream",
          "text": [
            "\n"
          ],
          "name": "stdout"
        },
        {
          "output_type": "display_data",
          "data": {
            "text/html": [
              "<div style=\"display:flex;flex-direction:row;\"><span>Epoch 36/90</span><progress style='margin:2px 4px;description_width:initial;' max='20' value='20'></progress>100% 20/20 [00:04&lt;00:00,  4.43it/s, loss=0.0149]</div>"
            ],
            "text/plain": [
              "<tqdm._fake_ipywidgets.HBox object>"
            ]
          },
          "metadata": {
            "tags": []
          }
        },
        {
          "output_type": "stream",
          "text": [
            "\n"
          ],
          "name": "stdout"
        },
        {
          "output_type": "display_data",
          "data": {
            "text/html": [
              "<div style=\"display:flex;flex-direction:row;\"><span>Epoch 37/90</span><progress style='margin:2px 4px;description_width:initial;' max='20' value='20'></progress>100% 20/20 [00:04&lt;00:00,  4.40it/s, loss=0.0149]</div>"
            ],
            "text/plain": [
              "<tqdm._fake_ipywidgets.HBox object>"
            ]
          },
          "metadata": {
            "tags": []
          }
        },
        {
          "output_type": "stream",
          "text": [
            "\n"
          ],
          "name": "stdout"
        },
        {
          "output_type": "display_data",
          "data": {
            "text/html": [
              "<div style=\"display:flex;flex-direction:row;\"><span>Epoch 38/90</span><progress style='margin:2px 4px;description_width:initial;' max='20' value='20'></progress>100% 20/20 [00:04&lt;00:00,  4.45it/s, loss=0.0148]</div>"
            ],
            "text/plain": [
              "<tqdm._fake_ipywidgets.HBox object>"
            ]
          },
          "metadata": {
            "tags": []
          }
        },
        {
          "output_type": "stream",
          "text": [
            "\n"
          ],
          "name": "stdout"
        },
        {
          "output_type": "display_data",
          "data": {
            "text/html": [
              "<div style=\"display:flex;flex-direction:row;\"><span>Epoch 39/90</span><progress style='margin:2px 4px;description_width:initial;' max='20' value='20'></progress>100% 20/20 [00:04&lt;00:00,  4.45it/s, loss=0.0148]</div>"
            ],
            "text/plain": [
              "<tqdm._fake_ipywidgets.HBox object>"
            ]
          },
          "metadata": {
            "tags": []
          }
        },
        {
          "output_type": "stream",
          "text": [
            "\n"
          ],
          "name": "stdout"
        },
        {
          "output_type": "display_data",
          "data": {
            "text/html": [
              "<div style=\"display:flex;flex-direction:row;\"><span>Epoch 40/90</span><progress style='margin:2px 4px;description_width:initial;' max='20' value='20'></progress>100% 20/20 [00:04&lt;00:00,  4.45it/s, loss=0.0147]</div>"
            ],
            "text/plain": [
              "<tqdm._fake_ipywidgets.HBox object>"
            ]
          },
          "metadata": {
            "tags": []
          }
        },
        {
          "output_type": "stream",
          "text": [
            "\n"
          ],
          "name": "stdout"
        },
        {
          "output_type": "display_data",
          "data": {
            "text/html": [
              "<div style=\"display:flex;flex-direction:row;\"><span>Epoch 41/90</span><progress style='margin:2px 4px;description_width:initial;' max='20' value='20'></progress>100% 20/20 [00:04&lt;00:00,  4.43it/s, loss=0.0147]</div>"
            ],
            "text/plain": [
              "<tqdm._fake_ipywidgets.HBox object>"
            ]
          },
          "metadata": {
            "tags": []
          }
        },
        {
          "output_type": "stream",
          "text": [
            "\n"
          ],
          "name": "stdout"
        },
        {
          "output_type": "display_data",
          "data": {
            "text/html": [
              "<div style=\"display:flex;flex-direction:row;\"><span>Epoch 42/90</span><progress style='margin:2px 4px;description_width:initial;' max='20' value='20'></progress>100% 20/20 [00:04&lt;00:00,  4.45it/s, loss=0.0147]</div>"
            ],
            "text/plain": [
              "<tqdm._fake_ipywidgets.HBox object>"
            ]
          },
          "metadata": {
            "tags": []
          }
        },
        {
          "output_type": "stream",
          "text": [
            "\n"
          ],
          "name": "stdout"
        },
        {
          "output_type": "display_data",
          "data": {
            "text/html": [
              "<div style=\"display:flex;flex-direction:row;\"><span>Epoch 43/90</span><progress style='margin:2px 4px;description_width:initial;' max='20' value='20'></progress>100% 20/20 [00:04&lt;00:00,  4.40it/s, loss=0.0146]</div>"
            ],
            "text/plain": [
              "<tqdm._fake_ipywidgets.HBox object>"
            ]
          },
          "metadata": {
            "tags": []
          }
        },
        {
          "output_type": "stream",
          "text": [
            "\n"
          ],
          "name": "stdout"
        },
        {
          "output_type": "display_data",
          "data": {
            "text/html": [
              "<div style=\"display:flex;flex-direction:row;\"><span>Epoch 44/90</span><progress style='margin:2px 4px;description_width:initial;' max='20' value='20'></progress>100% 20/20 [00:04&lt;00:00,  4.41it/s, loss=0.0146]</div>"
            ],
            "text/plain": [
              "<tqdm._fake_ipywidgets.HBox object>"
            ]
          },
          "metadata": {
            "tags": []
          }
        },
        {
          "output_type": "stream",
          "text": [
            "\n"
          ],
          "name": "stdout"
        },
        {
          "output_type": "display_data",
          "data": {
            "text/html": [
              "<div style=\"display:flex;flex-direction:row;\"><span>Epoch 45/90</span><progress style='margin:2px 4px;description_width:initial;' max='20' value='20'></progress>100% 20/20 [00:04&lt;00:00,  4.39it/s, loss=0.0146]</div>"
            ],
            "text/plain": [
              "<tqdm._fake_ipywidgets.HBox object>"
            ]
          },
          "metadata": {
            "tags": []
          }
        },
        {
          "output_type": "stream",
          "text": [
            "\n"
          ],
          "name": "stdout"
        },
        {
          "output_type": "display_data",
          "data": {
            "text/html": [
              "<div style=\"display:flex;flex-direction:row;\"><span>Epoch 46/90</span><progress style='margin:2px 4px;description_width:initial;' max='20' value='20'></progress>100% 20/20 [00:04&lt;00:00,  4.38it/s, loss=0.0145]</div>"
            ],
            "text/plain": [
              "<tqdm._fake_ipywidgets.HBox object>"
            ]
          },
          "metadata": {
            "tags": []
          }
        },
        {
          "output_type": "stream",
          "text": [
            "\n"
          ],
          "name": "stdout"
        },
        {
          "output_type": "display_data",
          "data": {
            "text/html": [
              "<div style=\"display:flex;flex-direction:row;\"><span>Epoch 47/90</span><progress style='margin:2px 4px;description_width:initial;' max='20' value='20'></progress>100% 20/20 [00:04&lt;00:00,  4.45it/s, loss=0.0145]</div>"
            ],
            "text/plain": [
              "<tqdm._fake_ipywidgets.HBox object>"
            ]
          },
          "metadata": {
            "tags": []
          }
        },
        {
          "output_type": "stream",
          "text": [
            "\n"
          ],
          "name": "stdout"
        },
        {
          "output_type": "display_data",
          "data": {
            "text/html": [
              "<div style=\"display:flex;flex-direction:row;\"><span>Epoch 48/90</span><progress style='margin:2px 4px;description_width:initial;' max='20' value='20'></progress>100% 20/20 [00:04&lt;00:00,  4.43it/s, loss=0.0145]</div>"
            ],
            "text/plain": [
              "<tqdm._fake_ipywidgets.HBox object>"
            ]
          },
          "metadata": {
            "tags": []
          }
        },
        {
          "output_type": "stream",
          "text": [
            "\n"
          ],
          "name": "stdout"
        },
        {
          "output_type": "display_data",
          "data": {
            "text/html": [
              "<div style=\"display:flex;flex-direction:row;\"><span>Epoch 49/90</span><progress style='margin:2px 4px;description_width:initial;' max='20' value='20'></progress>100% 20/20 [00:04&lt;00:00,  4.45it/s, loss=0.0145]</div>"
            ],
            "text/plain": [
              "<tqdm._fake_ipywidgets.HBox object>"
            ]
          },
          "metadata": {
            "tags": []
          }
        },
        {
          "output_type": "stream",
          "text": [
            "\n"
          ],
          "name": "stdout"
        },
        {
          "output_type": "display_data",
          "data": {
            "text/html": [
              "<div style=\"display:flex;flex-direction:row;\"><span>Epoch 50/90</span><progress style='margin:2px 4px;description_width:initial;' max='20' value='20'></progress>100% 20/20 [00:04&lt;00:00,  4.42it/s, loss=0.0144]</div>"
            ],
            "text/plain": [
              "<tqdm._fake_ipywidgets.HBox object>"
            ]
          },
          "metadata": {
            "tags": []
          }
        },
        {
          "output_type": "stream",
          "text": [
            "\n"
          ],
          "name": "stdout"
        },
        {
          "output_type": "display_data",
          "data": {
            "text/html": [
              "<div style=\"display:flex;flex-direction:row;\"><span>Epoch 51/90</span><progress style='margin:2px 4px;description_width:initial;' max='20' value='20'></progress>100% 20/20 [00:04&lt;00:00,  4.44it/s, loss=0.0144]</div>"
            ],
            "text/plain": [
              "<tqdm._fake_ipywidgets.HBox object>"
            ]
          },
          "metadata": {
            "tags": []
          }
        },
        {
          "output_type": "stream",
          "text": [
            "\n"
          ],
          "name": "stdout"
        },
        {
          "output_type": "display_data",
          "data": {
            "text/html": [
              "<div style=\"display:flex;flex-direction:row;\"><span>Epoch 52/90</span><progress style='margin:2px 4px;description_width:initial;' max='20' value='20'></progress>100% 20/20 [00:04&lt;00:00,  4.45it/s, loss=0.0144]</div>"
            ],
            "text/plain": [
              "<tqdm._fake_ipywidgets.HBox object>"
            ]
          },
          "metadata": {
            "tags": []
          }
        },
        {
          "output_type": "stream",
          "text": [
            "\n"
          ],
          "name": "stdout"
        },
        {
          "output_type": "display_data",
          "data": {
            "text/html": [
              "<div style=\"display:flex;flex-direction:row;\"><span>Epoch 53/90</span><progress style='margin:2px 4px;description_width:initial;' max='20' value='20'></progress>100% 20/20 [00:04&lt;00:00,  4.43it/s, loss=0.0143]</div>"
            ],
            "text/plain": [
              "<tqdm._fake_ipywidgets.HBox object>"
            ]
          },
          "metadata": {
            "tags": []
          }
        },
        {
          "output_type": "stream",
          "text": [
            "\n"
          ],
          "name": "stdout"
        },
        {
          "output_type": "display_data",
          "data": {
            "text/html": [
              "<div style=\"display:flex;flex-direction:row;\"><span>Epoch 54/90</span><progress style='margin:2px 4px;description_width:initial;' max='20' value='20'></progress>100% 20/20 [00:04&lt;00:00,  4.40it/s, loss=0.0143]</div>"
            ],
            "text/plain": [
              "<tqdm._fake_ipywidgets.HBox object>"
            ]
          },
          "metadata": {
            "tags": []
          }
        },
        {
          "output_type": "stream",
          "text": [
            "\n"
          ],
          "name": "stdout"
        },
        {
          "output_type": "display_data",
          "data": {
            "text/html": [
              "<div style=\"display:flex;flex-direction:row;\"><span>Epoch 55/90</span><progress style='margin:2px 4px;description_width:initial;' max='20' value='20'></progress>100% 20/20 [00:04&lt;00:00,  4.38it/s, loss=0.0143]</div>"
            ],
            "text/plain": [
              "<tqdm._fake_ipywidgets.HBox object>"
            ]
          },
          "metadata": {
            "tags": []
          }
        },
        {
          "output_type": "stream",
          "text": [
            "\n"
          ],
          "name": "stdout"
        },
        {
          "output_type": "display_data",
          "data": {
            "text/html": [
              "<div style=\"display:flex;flex-direction:row;\"><span>Epoch 56/90</span><progress style='margin:2px 4px;description_width:initial;' max='20' value='20'></progress>100% 20/20 [00:04&lt;00:00,  4.38it/s, loss=0.0143]</div>"
            ],
            "text/plain": [
              "<tqdm._fake_ipywidgets.HBox object>"
            ]
          },
          "metadata": {
            "tags": []
          }
        },
        {
          "output_type": "stream",
          "text": [
            "\n"
          ],
          "name": "stdout"
        },
        {
          "output_type": "display_data",
          "data": {
            "text/html": [
              "<div style=\"display:flex;flex-direction:row;\"><span>Epoch 57/90</span><progress style='margin:2px 4px;description_width:initial;' max='20' value='20'></progress>100% 20/20 [00:04&lt;00:00,  4.41it/s, loss=0.0142]</div>"
            ],
            "text/plain": [
              "<tqdm._fake_ipywidgets.HBox object>"
            ]
          },
          "metadata": {
            "tags": []
          }
        },
        {
          "output_type": "stream",
          "text": [
            "\n"
          ],
          "name": "stdout"
        },
        {
          "output_type": "display_data",
          "data": {
            "text/html": [
              "<div style=\"display:flex;flex-direction:row;\"><span>Epoch 58/90</span><progress style='margin:2px 4px;description_width:initial;' max='20' value='20'></progress>100% 20/20 [00:04&lt;00:00,  4.42it/s, loss=0.0142]</div>"
            ],
            "text/plain": [
              "<tqdm._fake_ipywidgets.HBox object>"
            ]
          },
          "metadata": {
            "tags": []
          }
        },
        {
          "output_type": "stream",
          "text": [
            "\n"
          ],
          "name": "stdout"
        },
        {
          "output_type": "display_data",
          "data": {
            "text/html": [
              "<div style=\"display:flex;flex-direction:row;\"><span>Epoch 59/90</span><progress style='margin:2px 4px;description_width:initial;' max='20' value='20'></progress>100% 20/20 [00:04&lt;00:00,  4.46it/s, loss=0.0142]</div>"
            ],
            "text/plain": [
              "<tqdm._fake_ipywidgets.HBox object>"
            ]
          },
          "metadata": {
            "tags": []
          }
        },
        {
          "output_type": "stream",
          "text": [
            "\n"
          ],
          "name": "stdout"
        },
        {
          "output_type": "display_data",
          "data": {
            "text/html": [
              "<div style=\"display:flex;flex-direction:row;\"><span>Epoch 60/90</span><progress style='margin:2px 4px;description_width:initial;' max='20' value='20'></progress>100% 20/20 [00:04&lt;00:00,  4.43it/s, loss=0.0142]</div>"
            ],
            "text/plain": [
              "<tqdm._fake_ipywidgets.HBox object>"
            ]
          },
          "metadata": {
            "tags": []
          }
        },
        {
          "output_type": "stream",
          "text": [
            "\n"
          ],
          "name": "stdout"
        },
        {
          "output_type": "display_data",
          "data": {
            "text/html": [
              "<div style=\"display:flex;flex-direction:row;\"><span>Epoch 61/90</span><progress style='margin:2px 4px;description_width:initial;' max='20' value='20'></progress>100% 20/20 [00:04&lt;00:00,  4.42it/s, loss=0.014]</div>"
            ],
            "text/plain": [
              "<tqdm._fake_ipywidgets.HBox object>"
            ]
          },
          "metadata": {
            "tags": []
          }
        },
        {
          "output_type": "stream",
          "text": [
            "\n"
          ],
          "name": "stdout"
        },
        {
          "output_type": "display_data",
          "data": {
            "text/html": [
              "<div style=\"display:flex;flex-direction:row;\"><span>Epoch 62/90</span><progress style='margin:2px 4px;description_width:initial;' max='20' value='20'></progress>100% 20/20 [00:04&lt;00:00,  4.45it/s, loss=0.014]</div>"
            ],
            "text/plain": [
              "<tqdm._fake_ipywidgets.HBox object>"
            ]
          },
          "metadata": {
            "tags": []
          }
        },
        {
          "output_type": "stream",
          "text": [
            "\n"
          ],
          "name": "stdout"
        },
        {
          "output_type": "display_data",
          "data": {
            "text/html": [
              "<div style=\"display:flex;flex-direction:row;\"><span>Epoch 63/90</span><progress style='margin:2px 4px;description_width:initial;' max='20' value='20'></progress>100% 20/20 [00:04&lt;00:00,  4.44it/s, loss=0.014]</div>"
            ],
            "text/plain": [
              "<tqdm._fake_ipywidgets.HBox object>"
            ]
          },
          "metadata": {
            "tags": []
          }
        },
        {
          "output_type": "stream",
          "text": [
            "\n"
          ],
          "name": "stdout"
        },
        {
          "output_type": "display_data",
          "data": {
            "text/html": [
              "<div style=\"display:flex;flex-direction:row;\"><span>Epoch 64/90</span><progress style='margin:2px 4px;description_width:initial;' max='20' value='20'></progress>100% 20/20 [00:04&lt;00:00,  4.44it/s, loss=0.014]</div>"
            ],
            "text/plain": [
              "<tqdm._fake_ipywidgets.HBox object>"
            ]
          },
          "metadata": {
            "tags": []
          }
        },
        {
          "output_type": "stream",
          "text": [
            "\n"
          ],
          "name": "stdout"
        },
        {
          "output_type": "display_data",
          "data": {
            "text/html": [
              "<div style=\"display:flex;flex-direction:row;\"><span>Epoch 65/90</span><progress style='margin:2px 4px;description_width:initial;' max='20' value='20'></progress>100% 20/20 [00:04&lt;00:00,  4.45it/s, loss=0.014]</div>"
            ],
            "text/plain": [
              "<tqdm._fake_ipywidgets.HBox object>"
            ]
          },
          "metadata": {
            "tags": []
          }
        },
        {
          "output_type": "stream",
          "text": [
            "\n"
          ],
          "name": "stdout"
        },
        {
          "output_type": "display_data",
          "data": {
            "text/html": [
              "<div style=\"display:flex;flex-direction:row;\"><span>Epoch 66/90</span><progress style='margin:2px 4px;description_width:initial;' max='20' value='20'></progress>100% 20/20 [00:04&lt;00:00,  4.42it/s, loss=0.014]</div>"
            ],
            "text/plain": [
              "<tqdm._fake_ipywidgets.HBox object>"
            ]
          },
          "metadata": {
            "tags": []
          }
        },
        {
          "output_type": "stream",
          "text": [
            "\n"
          ],
          "name": "stdout"
        },
        {
          "output_type": "display_data",
          "data": {
            "text/html": [
              "<div style=\"display:flex;flex-direction:row;\"><span>Epoch 67/90</span><progress style='margin:2px 4px;description_width:initial;' max='20' value='20'></progress>100% 20/20 [00:04&lt;00:00,  4.43it/s, loss=0.014]</div>"
            ],
            "text/plain": [
              "<tqdm._fake_ipywidgets.HBox object>"
            ]
          },
          "metadata": {
            "tags": []
          }
        },
        {
          "output_type": "stream",
          "text": [
            "\n"
          ],
          "name": "stdout"
        },
        {
          "output_type": "display_data",
          "data": {
            "text/html": [
              "<div style=\"display:flex;flex-direction:row;\"><span>Epoch 68/90</span><progress style='margin:2px 4px;description_width:initial;' max='20' value='20'></progress>100% 20/20 [00:04&lt;00:00,  4.43it/s, loss=0.014]</div>"
            ],
            "text/plain": [
              "<tqdm._fake_ipywidgets.HBox object>"
            ]
          },
          "metadata": {
            "tags": []
          }
        },
        {
          "output_type": "stream",
          "text": [
            "\n"
          ],
          "name": "stdout"
        },
        {
          "output_type": "display_data",
          "data": {
            "text/html": [
              "<div style=\"display:flex;flex-direction:row;\"><span>Epoch 69/90</span><progress style='margin:2px 4px;description_width:initial;' max='20' value='20'></progress>100% 20/20 [00:04&lt;00:00,  4.35it/s, loss=0.0139]</div>"
            ],
            "text/plain": [
              "<tqdm._fake_ipywidgets.HBox object>"
            ]
          },
          "metadata": {
            "tags": []
          }
        },
        {
          "output_type": "stream",
          "text": [
            "\n"
          ],
          "name": "stdout"
        },
        {
          "output_type": "display_data",
          "data": {
            "text/html": [
              "<div style=\"display:flex;flex-direction:row;\"><span>Epoch 70/90</span><progress style='margin:2px 4px;description_width:initial;' max='20' value='20'></progress>100% 20/20 [00:04&lt;00:00,  4.41it/s, loss=0.0139]</div>"
            ],
            "text/plain": [
              "<tqdm._fake_ipywidgets.HBox object>"
            ]
          },
          "metadata": {
            "tags": []
          }
        },
        {
          "output_type": "stream",
          "text": [
            "\n"
          ],
          "name": "stdout"
        },
        {
          "output_type": "display_data",
          "data": {
            "text/html": [
              "<div style=\"display:flex;flex-direction:row;\"><span>Epoch 71/90</span><progress style='margin:2px 4px;description_width:initial;' max='20' value='20'></progress>100% 20/20 [00:04&lt;00:00,  4.38it/s, loss=0.0139]</div>"
            ],
            "text/plain": [
              "<tqdm._fake_ipywidgets.HBox object>"
            ]
          },
          "metadata": {
            "tags": []
          }
        },
        {
          "output_type": "stream",
          "text": [
            "\n"
          ],
          "name": "stdout"
        },
        {
          "output_type": "display_data",
          "data": {
            "text/html": [
              "<div style=\"display:flex;flex-direction:row;\"><span>Epoch 72/90</span><progress style='margin:2px 4px;description_width:initial;' max='20' value='20'></progress>100% 20/20 [00:04&lt;00:00,  4.43it/s, loss=0.0139]</div>"
            ],
            "text/plain": [
              "<tqdm._fake_ipywidgets.HBox object>"
            ]
          },
          "metadata": {
            "tags": []
          }
        },
        {
          "output_type": "stream",
          "text": [
            "\n"
          ],
          "name": "stdout"
        },
        {
          "output_type": "display_data",
          "data": {
            "text/html": [
              "<div style=\"display:flex;flex-direction:row;\"><span>Epoch 73/90</span><progress style='margin:2px 4px;description_width:initial;' max='20' value='20'></progress>100% 20/20 [00:04&lt;00:00,  4.41it/s, loss=0.0139]</div>"
            ],
            "text/plain": [
              "<tqdm._fake_ipywidgets.HBox object>"
            ]
          },
          "metadata": {
            "tags": []
          }
        },
        {
          "output_type": "stream",
          "text": [
            "\n"
          ],
          "name": "stdout"
        },
        {
          "output_type": "display_data",
          "data": {
            "text/html": [
              "<div style=\"display:flex;flex-direction:row;\"><span>Epoch 74/90</span><progress style='margin:2px 4px;description_width:initial;' max='20' value='20'></progress>100% 20/20 [00:04&lt;00:00,  4.40it/s, loss=0.0139]</div>"
            ],
            "text/plain": [
              "<tqdm._fake_ipywidgets.HBox object>"
            ]
          },
          "metadata": {
            "tags": []
          }
        },
        {
          "output_type": "stream",
          "text": [
            "\n"
          ],
          "name": "stdout"
        },
        {
          "output_type": "display_data",
          "data": {
            "text/html": [
              "<div style=\"display:flex;flex-direction:row;\"><span>Epoch 75/90</span><progress style='margin:2px 4px;description_width:initial;' max='20' value='20'></progress>100% 20/20 [00:04&lt;00:00,  4.36it/s, loss=0.0139]</div>"
            ],
            "text/plain": [
              "<tqdm._fake_ipywidgets.HBox object>"
            ]
          },
          "metadata": {
            "tags": []
          }
        },
        {
          "output_type": "stream",
          "text": [
            "\n"
          ],
          "name": "stdout"
        },
        {
          "output_type": "display_data",
          "data": {
            "text/html": [
              "<div style=\"display:flex;flex-direction:row;\"><span>Epoch 76/90</span><progress style='margin:2px 4px;description_width:initial;' max='20' value='20'></progress>100% 20/20 [00:04&lt;00:00,  4.44it/s, loss=0.0139]</div>"
            ],
            "text/plain": [
              "<tqdm._fake_ipywidgets.HBox object>"
            ]
          },
          "metadata": {
            "tags": []
          }
        },
        {
          "output_type": "stream",
          "text": [
            "\n"
          ],
          "name": "stdout"
        },
        {
          "output_type": "display_data",
          "data": {
            "text/html": [
              "<div style=\"display:flex;flex-direction:row;\"><span>Epoch 77/90</span><progress style='margin:2px 4px;description_width:initial;' max='20' value='20'></progress>100% 20/20 [00:04&lt;00:00,  4.40it/s, loss=0.0138]</div>"
            ],
            "text/plain": [
              "<tqdm._fake_ipywidgets.HBox object>"
            ]
          },
          "metadata": {
            "tags": []
          }
        },
        {
          "output_type": "stream",
          "text": [
            "\n"
          ],
          "name": "stdout"
        },
        {
          "output_type": "display_data",
          "data": {
            "text/html": [
              "<div style=\"display:flex;flex-direction:row;\"><span>Epoch 78/90</span><progress style='margin:2px 4px;description_width:initial;' max='20' value='20'></progress>100% 20/20 [00:04&lt;00:00,  4.44it/s, loss=0.0138]</div>"
            ],
            "text/plain": [
              "<tqdm._fake_ipywidgets.HBox object>"
            ]
          },
          "metadata": {
            "tags": []
          }
        },
        {
          "output_type": "stream",
          "text": [
            "\n"
          ],
          "name": "stdout"
        },
        {
          "output_type": "display_data",
          "data": {
            "text/html": [
              "<div style=\"display:flex;flex-direction:row;\"><span>Epoch 79/90</span><progress style='margin:2px 4px;description_width:initial;' max='20' value='20'></progress>100% 20/20 [00:04&lt;00:00,  4.41it/s, loss=0.0138]</div>"
            ],
            "text/plain": [
              "<tqdm._fake_ipywidgets.HBox object>"
            ]
          },
          "metadata": {
            "tags": []
          }
        },
        {
          "output_type": "stream",
          "text": [
            "\n"
          ],
          "name": "stdout"
        },
        {
          "output_type": "display_data",
          "data": {
            "text/html": [
              "<div style=\"display:flex;flex-direction:row;\"><span>Epoch 80/90</span><progress style='margin:2px 4px;description_width:initial;' max='20' value='20'></progress>100% 20/20 [00:04&lt;00:00,  4.35it/s, loss=0.0138]</div>"
            ],
            "text/plain": [
              "<tqdm._fake_ipywidgets.HBox object>"
            ]
          },
          "metadata": {
            "tags": []
          }
        },
        {
          "output_type": "stream",
          "text": [
            "\n"
          ],
          "name": "stdout"
        },
        {
          "output_type": "display_data",
          "data": {
            "text/html": [
              "<div style=\"display:flex;flex-direction:row;\"><span>Epoch 81/90</span><progress style='margin:2px 4px;description_width:initial;' max='20' value='20'></progress>100% 20/20 [00:04&lt;00:00,  4.40it/s, loss=0.0138]</div>"
            ],
            "text/plain": [
              "<tqdm._fake_ipywidgets.HBox object>"
            ]
          },
          "metadata": {
            "tags": []
          }
        },
        {
          "output_type": "stream",
          "text": [
            "\n"
          ],
          "name": "stdout"
        },
        {
          "output_type": "display_data",
          "data": {
            "text/html": [
              "<div style=\"display:flex;flex-direction:row;\"><span>Epoch 82/90</span><progress style='margin:2px 4px;description_width:initial;' max='20' value='20'></progress>100% 20/20 [00:04&lt;00:00,  4.43it/s, loss=0.0138]</div>"
            ],
            "text/plain": [
              "<tqdm._fake_ipywidgets.HBox object>"
            ]
          },
          "metadata": {
            "tags": []
          }
        },
        {
          "output_type": "stream",
          "text": [
            "\n"
          ],
          "name": "stdout"
        },
        {
          "output_type": "display_data",
          "data": {
            "text/html": [
              "<div style=\"display:flex;flex-direction:row;\"><span>Epoch 83/90</span><progress style='margin:2px 4px;description_width:initial;' max='20' value='20'></progress>100% 20/20 [00:04&lt;00:00,  4.42it/s, loss=0.0138]</div>"
            ],
            "text/plain": [
              "<tqdm._fake_ipywidgets.HBox object>"
            ]
          },
          "metadata": {
            "tags": []
          }
        },
        {
          "output_type": "stream",
          "text": [
            "\n"
          ],
          "name": "stdout"
        },
        {
          "output_type": "display_data",
          "data": {
            "text/html": [
              "<div style=\"display:flex;flex-direction:row;\"><span>Epoch 84/90</span><progress style='margin:2px 4px;description_width:initial;' max='20' value='20'></progress>100% 20/20 [00:04&lt;00:00,  4.40it/s, loss=0.0138]</div>"
            ],
            "text/plain": [
              "<tqdm._fake_ipywidgets.HBox object>"
            ]
          },
          "metadata": {
            "tags": []
          }
        },
        {
          "output_type": "stream",
          "text": [
            "\n"
          ],
          "name": "stdout"
        },
        {
          "output_type": "display_data",
          "data": {
            "text/html": [
              "<div style=\"display:flex;flex-direction:row;\"><span>Epoch 85/90</span><progress style='margin:2px 4px;description_width:initial;' max='20' value='20'></progress>100% 20/20 [00:04&lt;00:00,  4.46it/s, loss=0.0138]</div>"
            ],
            "text/plain": [
              "<tqdm._fake_ipywidgets.HBox object>"
            ]
          },
          "metadata": {
            "tags": []
          }
        },
        {
          "output_type": "stream",
          "text": [
            "\n"
          ],
          "name": "stdout"
        },
        {
          "output_type": "display_data",
          "data": {
            "text/html": [
              "<div style=\"display:flex;flex-direction:row;\"><span>Epoch 86/90</span><progress style='margin:2px 4px;description_width:initial;' max='20' value='20'></progress>100% 20/20 [00:04&lt;00:00,  4.46it/s, loss=0.0137]</div>"
            ],
            "text/plain": [
              "<tqdm._fake_ipywidgets.HBox object>"
            ]
          },
          "metadata": {
            "tags": []
          }
        },
        {
          "output_type": "stream",
          "text": [
            "\n"
          ],
          "name": "stdout"
        },
        {
          "output_type": "display_data",
          "data": {
            "text/html": [
              "<div style=\"display:flex;flex-direction:row;\"><span>Epoch 87/90</span><progress style='margin:2px 4px;description_width:initial;' max='20' value='20'></progress>100% 20/20 [00:04&lt;00:00,  4.46it/s, loss=0.0137]</div>"
            ],
            "text/plain": [
              "<tqdm._fake_ipywidgets.HBox object>"
            ]
          },
          "metadata": {
            "tags": []
          }
        },
        {
          "output_type": "stream",
          "text": [
            "\n"
          ],
          "name": "stdout"
        },
        {
          "output_type": "display_data",
          "data": {
            "text/html": [
              "<div style=\"display:flex;flex-direction:row;\"><span>Epoch 88/90</span><progress style='margin:2px 4px;description_width:initial;' max='20' value='20'></progress>100% 20/20 [00:04&lt;00:00,  4.42it/s, loss=0.0137]</div>"
            ],
            "text/plain": [
              "<tqdm._fake_ipywidgets.HBox object>"
            ]
          },
          "metadata": {
            "tags": []
          }
        },
        {
          "output_type": "stream",
          "text": [
            "\n"
          ],
          "name": "stdout"
        },
        {
          "output_type": "display_data",
          "data": {
            "text/html": [
              "<div style=\"display:flex;flex-direction:row;\"><span>Epoch 89/90</span><progress style='margin:2px 4px;description_width:initial;' max='20' value='20'></progress>100% 20/20 [00:04&lt;00:00,  4.43it/s, loss=0.0137]</div>"
            ],
            "text/plain": [
              "<tqdm._fake_ipywidgets.HBox object>"
            ]
          },
          "metadata": {
            "tags": []
          }
        },
        {
          "output_type": "stream",
          "text": [
            "\n"
          ],
          "name": "stdout"
        },
        {
          "output_type": "display_data",
          "data": {
            "text/html": [
              "<div style=\"display:flex;flex-direction:row;\"><span>Epoch 90/90</span><progress style='margin:2px 4px;description_width:initial;' max='20' value='20'></progress>100% 20/20 [00:04&lt;00:00,  4.42it/s, loss=0.0137]</div>"
            ],
            "text/plain": [
              "<tqdm._fake_ipywidgets.HBox object>"
            ]
          },
          "metadata": {
            "tags": []
          }
        },
        {
          "output_type": "stream",
          "text": [
            "\n"
          ],
          "name": "stdout"
        }
      ]
    },
    {
      "cell_type": "markdown",
      "metadata": {
        "id": "mE9-mpQo8ox4",
        "colab_type": "text"
      },
      "source": [
        "# Plot\n",
        "\n",
        "The returned image is stored in a compressed multi-scale low rank representation, and NOT a numpy array. This is useful when the underlying image is huge.\n",
        "\n",
        "The compressed image can be indexed like a numpy array, and will adaptively reconstruct the indexed slice. In particular, it can be viewed directly using `pl.ImagePlot`. You can also speed up the slicing with the desired computing device using `img.use_device(device)`.\n",
        "\n",
        "For the low resolution reconstruction, the memory usage is reasonable, so we can expand it completely. To obtain a numpy array from the compressed representation, you can do `img = img[:]`.\n",
        "    \n"
      ]
    },
    {
      "cell_type": "code",
      "metadata": {
        "id": "z1MEAD3Q8ox5",
        "colab_type": "code",
        "outputId": "5caad705-2626-4538-bbcf-f1d321dd8c8f",
        "colab": {
          "base_uri": "https://localhost:8080/",
          "height": 228
        }
      },
      "source": [
        "img = img[:]\n",
        "pl.ImagePlot(img, interpolation='lanczos')"
      ],
      "execution_count": 9,
      "outputs": [
        {
          "output_type": "display_data",
          "data": {
            "image/png": "[encoded data removed]",
            "text/plain": [
              "<Figure size 432x288 with 1 Axes>"
            ]
          },
          "metadata": {
            "tags": []
          }
        },
        {
          "output_type": "execute_result",
          "data": {
            "text/plain": [
              "<sigpy.plot.ImagePlot at 0x7f29fa14efd0>"
            ]
          },
          "metadata": {
            "tags": []
          },
          "execution_count": 9
        }
      ]
    }
  ]
}