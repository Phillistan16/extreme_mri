{
  "nbformat": 4,
  "nbformat_minor": 0,
  "metadata": {
    "kernelspec": {
      "name": "python3",
      "display_name": "Python 3"
    },
    "language_info": {
      "codemirror_mode": {
        "name": "ipython",
        "version": 3
      },
      "file_extension": ".py",
      "mimetype": "text/x-python",
      "name": "python",
      "nbconvert_exporter": "python",
      "pygments_lexer": "ipython3",
      "version": "3.7.3"
    },
    "colab": {
      "name": "colab-demo.ipynb",
      "provenance": [],
      "include_colab_link": true
    },
    "accelerator": "GPU",
    "widgets": {
      "application/vnd.jupyter.widget-state+json": {
        "e003c06e024049cbbd7b552b15ea70d7": {
          "model_module": "@jupyter-widgets/controls",
          "model_name": "HBoxModel",
          "state": {
            "_view_name": "HBoxView",
            "_dom_classes": [],
            "_model_name": "HBoxModel",
            "_view_module": "@jupyter-widgets/controls",
            "_model_module_version": "1.5.0",
            "_view_count": null,
            "_view_module_version": "1.5.0",
            "box_style": "",
            "layout": "IPY_MODEL_02a109c2831d45119f6b729bfea74a9b",
            "_model_module": "@jupyter-widgets/controls",
            "children": [
              "IPY_MODEL_330a5f424c0443f784dab62bbcd875f2",
              "IPY_MODEL_c1dba93255124ab7b0e9b49ba91c096b"
            ]
          }
        },
        "f569770086784887995b4b2faf229af3": {
          "model_module": "@jupyter-widgets/controls",
          "model_name": "HBoxModel",
          "state": {
            "_view_name": "HBoxView",
            "_dom_classes": [],
            "_model_name": "HBoxModel",
            "_view_module": "@jupyter-widgets/controls",
            "_model_module_version": "1.5.0",
            "_view_count": null,
            "_view_module_version": "1.5.0",
            "box_style": "",
            "layout": "IPY_MODEL_d6a291fcbc46433e8c8d90de05b39010",
            "_model_module": "@jupyter-widgets/controls",
            "children": [
              "IPY_MODEL_93831dfe7e6845a0a8d04403cf807a52",
              "IPY_MODEL_f77660a5ac564413adc58e593793c466"
            ]
          }
        },
        "5dfdc6a522b041efb364f131b7dd4f09": {
          "model_module": "@jupyter-widgets/controls",
          "model_name": "HBoxModel",
          "state": {
            "_view_name": "HBoxView",
            "_dom_classes": [],
            "_model_name": "HBoxModel",
            "_view_module": "@jupyter-widgets/controls",
            "_model_module_version": "1.5.0",
            "_view_count": null,
            "_view_module_version": "1.5.0",
            "box_style": "",
            "layout": "IPY_MODEL_151296eeeac74c168e19b10d3002fff5",
            "_model_module": "@jupyter-widgets/controls",
            "children": [
              "IPY_MODEL_3e46b83f002f4f8fbb07b432b2489fe8",
              "IPY_MODEL_7d03dc212ab240a1b031948750f0db9d"
            ]
          }
        },
        "f5e087825e5646608a7cefaf822cbfb4": {
          "model_module": "@jupyter-widgets/controls",
          "model_name": "HBoxModel",
          "state": {
            "_view_name": "HBoxView",
            "_dom_classes": [],
            "_model_name": "HBoxModel",
            "_view_module": "@jupyter-widgets/controls",
            "_model_module_version": "1.5.0",
            "_view_count": null,
            "_view_module_version": "1.5.0",
            "box_style": "",
            "layout": "IPY_MODEL_05ca53deedb84a1e879dc070546ba441",
            "_model_module": "@jupyter-widgets/controls",
            "children": [
              "IPY_MODEL_c6411d20690d4ac19b3b124a3ee63f82",
              "IPY_MODEL_156cf3c33c5d4169b02e332107bf3d8b"
            ]
          }
        },
        "c111d5d2b35d4bb6a2d1f866322fc947": {
          "model_module": "@jupyter-widgets/controls",
          "model_name": "HBoxModel",
          "state": {
            "_view_name": "HBoxView",
            "_dom_classes": [],
            "_model_name": "HBoxModel",
            "_view_module": "@jupyter-widgets/controls",
            "_model_module_version": "1.5.0",
            "_view_count": null,
            "_view_module_version": "1.5.0",
            "box_style": "",
            "layout": "IPY_MODEL_9ec9295919bc45afa0395f506f2f9d6b",
            "_model_module": "@jupyter-widgets/controls",
            "children": [
              "IPY_MODEL_5e96f9d379f247e88ce9fbc5332b006a",
              "IPY_MODEL_aa5ccedfe06a4574b583a96be248ddad"
            ]
          }
        }
      }
    }
  },
  "cells": [
    {
      "cell_type": "markdown",
      "metadata": {
        "id": "view-in-github",
        "colab_type": "text"
      },
      "source": [
        "<a href=\"https://colab.research.google.com/github/mikgroup/extreme_mri/blob/master/colab-demo.ipynb\" target=\"_parent\"><img src=\"https://colab.research.google.com/assets/colab-badge.svg\" alt=\"Open In Colab\"/></a>"
      ]
    },
    {
      "cell_type": "markdown",
      "metadata": {
        "id": "IZbNNNQW8oxV",
        "colab_type": "text"
      },
      "source": [
        "# Extreme MRI Demo"
      ]
    },
    {
      "cell_type": "markdown",
      "metadata": {
        "id": "jrhmgrVY8oxZ",
        "colab_type": "text"
      },
      "source": [
        "This notebook demonstrates an [Extreme MRI: Large-Scale Volumetric Dynamic Imaging from Continuous Non-Gated Acquisitions](https://arxiv.org/abs/1909.13482) reconstruction with a DCE dataset. "
      ]
    },
    {
      "cell_type": "markdown",
      "metadata": {
        "id": "YGOlMnLD8oxb",
        "colab_type": "text"
      },
      "source": [
        "# Setup\n",
        "\n",
        "Let's install and import the relevant packages. We will install [SigPy](http://sigpy.readthedocs.io) and clone the extreme_MRI github repo. The reconstruction depends on [CuPy](https://cupy.chainer.org) for GPU functionalities, which is already installed on Google Colab."
      ]
    },
    {
      "cell_type": "code",
      "metadata": {
        "id": "qbJolU3s8_d6",
        "colab_type": "code",
        "colab": {
          "base_uri": "https://localhost:8080/",
          "height": 504
        },
        "outputId": "1319f028-bb39-440c-ef68-37eab91a56e7"
      },
      "source": [
        "!pip install sigpy h5py\n",
        "!pip install --force https://github.com/chengs/tqdm/archive/colab.zip\n",
        "! git clone https://github.com/mikgroup/extreme_mri\n",
        "% cd extreme_mri\n"
      ],
      "execution_count": 23,
      "outputs": [
        {
          "output_type": "stream",
          "text": [
            "Requirement already satisfied: sigpy in /usr/local/lib/python3.6/dist-packages (0.1.16)\n",
            "Requirement already satisfied: h5py in /usr/local/lib/python3.6/dist-packages (2.8.0)\n",
            "Requirement already satisfied: scipy in /usr/local/lib/python3.6/dist-packages (from sigpy) (1.4.1)\n",
            "Requirement already satisfied: pywavelets in /usr/local/lib/python3.6/dist-packages (from sigpy) (1.1.1)\n",
            "Requirement already satisfied: numpy in /usr/local/lib/python3.6/dist-packages (from sigpy) (1.17.5)\n",
            "Requirement already satisfied: numba in /usr/local/lib/python3.6/dist-packages (from sigpy) (0.47.0)\n",
            "Requirement already satisfied: tqdm in /usr/local/lib/python3.6/dist-packages (from sigpy) (4.28.1)\n",
            "Requirement already satisfied: six in /usr/local/lib/python3.6/dist-packages (from h5py) (1.12.0)\n",
            "Requirement already satisfied: setuptools in /usr/local/lib/python3.6/dist-packages (from numba->sigpy) (45.1.0)\n",
            "Requirement already satisfied: llvmlite>=0.31.0dev0 in /usr/local/lib/python3.6/dist-packages (from numba->sigpy) (0.31.0)\n",
            "Cloning into 'extreme_mri'...\n",
            "remote: Enumerating objects: 212, done.\u001b[K\n",
            "remote: Counting objects: 100% (212/212), done.\u001b[K\n",
            "remote: Compressing objects: 100% (134/134), done.\u001b[K\n",
            "remote: Total 419 (delta 132), reused 151 (delta 77), pack-reused 207\u001b[K\n",
            "Receiving objects: 100% (419/419), 681.95 KiB | 1.93 MiB/s, done.\n",
            "Resolving deltas: 100% (262/262), done.\n",
            "/content/extreme_mri/extreme_mri\n"
          ],
          "name": "stdout"
        },
        {
          "output_type": "error",
          "ename": "AttributeError",
          "evalue": "ignored",
          "traceback": [
            "\u001b[0;31m---------------------------------------------------------------------------\u001b[0m",
            "\u001b[0;31mAttributeError\u001b[0m                            Traceback (most recent call last)",
            "\u001b[0;32m<ipython-input-23-a6dea8084d09>\u001b[0m in \u001b[0;36m<module>\u001b[0;34m()\u001b[0m\n\u001b[1;32m      4\u001b[0m \u001b[0;34m\u001b[0m\u001b[0m\n\u001b[1;32m      5\u001b[0m \u001b[0;32mimport\u001b[0m \u001b[0mtqdm\u001b[0m\u001b[0;34m\u001b[0m\u001b[0;34m\u001b[0m\u001b[0m\n\u001b[0;32m----> 6\u001b[0;31m \u001b[0mtqdm\u001b[0m\u001b[0;34m.\u001b[0m\u001b[0mauto\u001b[0m\u001b[0;34m.\u001b[0m\u001b[0mtqdm\u001b[0m \u001b[0;34m=\u001b[0m \u001b[0mtqdm\u001b[0m\u001b[0;34m.\u001b[0m\u001b[0mstd\u001b[0m\u001b[0;34m.\u001b[0m\u001b[0mtqdm\u001b[0m\u001b[0;34m\u001b[0m\u001b[0;34m\u001b[0m\u001b[0m\n\u001b[0m",
            "\u001b[0;31mAttributeError\u001b[0m: module 'tqdm' has no attribute 'std'"
          ]
        }
      ]
    },
    {
      "cell_type": "code",
      "metadata": {
        "id": "2phzMrh98oxd",
        "colab_type": "code",
        "colab": {}
      },
      "source": [
        "%matplotlib inline\n",
        "import numpy as np\n",
        "import sigpy as sp\n",
        "import sigpy.mri as mr\n",
        "import sigpy.plot as pl\n",
        "\n",
        "from download_dataset import download_dce_dataset\n",
        "from gridding_recon import gridding_recon\n",
        "from multi_scale_low_rank_recon import MultiScaleLowRankRecon"
      ],
      "execution_count": 0,
      "outputs": []
    },
    {
      "cell_type": "markdown",
      "metadata": {
        "id": "FtRRhAfv8oxj",
        "colab_type": "text"
      },
      "source": [
        "# Set computing device\n",
        "\n",
        "We need to specify a computing device for the reconstruction.\n",
        "For CPU, the id would -1. For GPUs, the id would be the GPU device.\n",
        "\n",
        "We strongly recommend using GPUs for reconstruction."
      ]
    },
    {
      "cell_type": "code",
      "metadata": {
        "id": "INVDjhiq8oxk",
        "colab_type": "code",
        "colab": {}
      },
      "source": [
        "device = 0"
      ],
      "execution_count": 0,
      "outputs": []
    },
    {
      "cell_type": "markdown",
      "metadata": {
        "id": "oi3yyTTi8oxn",
        "colab_type": "text"
      },
      "source": [
        "# Download and Load dataset\n",
        "\n",
        "Now, let's download and load the DCE dataset. The dataset is hosted on Zenodo: https://zenodo.org/record/3647820, and corresponds to the second DCE dataset described in the paper.\n",
        "\n",
        "The `download_dce_dataset()` function will download the datasets if it cannot find them under `data/dce/`."
      ]
    },
    {
      "cell_type": "code",
      "metadata": {
        "id": "1SrtI6Pp8oxo",
        "colab_type": "code",
        "colab": {
          "base_uri": "https://localhost:8080/",
          "height": 68,
          "referenced_widgets": [
            "e003c06e024049cbbd7b552b15ea70d7",
            "f569770086784887995b4b2faf229af3",
            "5dfdc6a522b041efb364f131b7dd4f09"
          ]
        },
        "outputId": "6db80345-b89d-4002-f6d9-4d558ebda496"
      },
      "source": [
        "download_dce_dataset()\n",
        "ksp = np.load('data/dce/ksp.npy')\n",
        "coord = np.load('data/dce/coord.npy')\n",
        "dcf = np.load('data/dce/dcf.npy')"
      ],
      "execution_count": 14,
      "outputs": [
        {
          "output_type": "display_data",
          "data": {
            "application/vnd.jupyter.widget-view+json": {
              "model_id": "e003c06e024049cbbd7b552b15ea70d7",
              "version_minor": 0,
              "version_major": 2
            },
            "text/plain": [
              "HBox(children=(IntProgress(value=0, description='Downloading dcf.npy', max=119052812, style=ProgressStyle(desc…"
            ]
          },
          "metadata": {
            "tags": []
          }
        },
        {
          "output_type": "stream",
          "text": [
            "\n"
          ],
          "name": "stdout"
        },
        {
          "output_type": "display_data",
          "data": {
            "application/vnd.jupyter.widget-view+json": {
              "model_id": "f569770086784887995b4b2faf229af3",
              "version_minor": 0,
              "version_major": 2
            },
            "text/plain": [
              "HBox(children=(IntProgress(value=0, description='Downloading coord.npy', max=357158180, style=ProgressStyle(de…"
            ]
          },
          "metadata": {
            "tags": []
          }
        },
        {
          "output_type": "stream",
          "text": [
            "\n"
          ],
          "name": "stdout"
        },
        {
          "output_type": "display_data",
          "data": {
            "application/vnd.jupyter.widget-view+json": {
              "model_id": "5dfdc6a522b041efb364f131b7dd4f09",
              "version_minor": 0,
              "version_major": 2
            },
            "text/plain": [
              "HBox(children=(IntProgress(value=0, description='Downloading ksp.npy', max=2857264544, style=ProgressStyle(des…"
            ]
          },
          "metadata": {
            "tags": []
          }
        },
        {
          "output_type": "stream",
          "text": [
            "\n"
          ],
          "name": "stdout"
        }
      ]
    },
    {
      "cell_type": "markdown",
      "metadata": {
        "id": "iG67iP-e8oxr",
        "colab_type": "text"
      },
      "source": [
        "# (Optional) Speed up reconstruction by cropping k-space\n",
        "\n",
        "For speeding up the demo, we can crop the k-space data along readout to reconstruct low resolution images.\n",
        "\n",
        "Simply comment out this part if you like to perform the full-resolution reconstruction."
      ]
    },
    {
      "cell_type": "code",
      "metadata": {
        "id": "pt5eDH3z8oxs",
        "colab_type": "code",
        "colab": {}
      },
      "source": [
        "num_ro = 150  # number of readout points\n",
        "ksp = ksp[:, :, :num_ro]\n",
        "coord = coord[:, :num_ro]\n",
        "dcf = dcf[:, :num_ro]"
      ],
      "execution_count": 0,
      "outputs": []
    },
    {
      "cell_type": "markdown",
      "metadata": {
        "id": "B-rt-Hct8oxu",
        "colab_type": "text"
      },
      "source": [
        "# Gridding reconstruction\n",
        "\n",
        "Let's first do a gridding reconstruction to see what the image looks like."
      ]
    },
    {
      "cell_type": "code",
      "metadata": {
        "id": "U-xGfU2C8oxv",
        "colab_type": "code",
        "colab": {
          "base_uri": "https://localhost:8080/",
          "height": 228
        },
        "outputId": "9cc02474-30a7-40db-fa32-b6af2386e91b"
      },
      "source": [
        "grd = gridding_recon(ksp, coord, dcf, device=device)\n",
        "\n",
        "#Plot\n",
        "pl.ImagePlot(grd, interpolation='lanczos')"
      ],
      "execution_count": 21,
      "outputs": [
        {
          "output_type": "display_data",
          "data": {
            "image/png": "[encoded data removed]",
            "text/plain": [
              "<Figure size 432x288 with 1 Axes>"
            ]
          },
          "metadata": {
            "tags": []
          }
        },
        {
          "output_type": "execute_result",
          "data": {
            "text/plain": [
              "<sigpy.plot.ImagePlot at 0x7feab8ba77f0>"
            ]
          },
          "metadata": {
            "tags": []
          },
          "execution_count": 21
        }
      ]
    },
    {
      "cell_type": "markdown",
      "metadata": {
        "id": "UVKPy_JT8oxz",
        "colab_type": "text"
      },
      "source": [
        "# Generate Sensitivity Maps\n",
        "\n",
        "We will need to estimate the sensitivity maps to incorporate multi-channel data. \n",
        "\n",
        "For this demo, we will use [JSENSE](https://onlinelibrary.wiley.com/doi/full/10.1002/mrm.21245), which has a fast implementation in SigPy."
      ]
    },
    {
      "cell_type": "code",
      "metadata": {
        "id": "nUgpCD1t8oxz",
        "colab_type": "code",
        "colab": {
          "base_uri": "https://localhost:8080/",
          "height": 209,
          "referenced_widgets": [
            "f5e087825e5646608a7cefaf822cbfb4"
          ]
        },
        "outputId": "f6a28fa6-0e29-485e-ff09-c5e5042d27ce"
      },
      "source": [
        "mps = mr.app.JsenseRecon(ksp, coord=coord, weights=dcf, device=device).run()\n",
        "\n",
        "# Plot\n",
        "pl.ImagePlot(mps, z=0, interpolation='lanczos')"
      ],
      "execution_count": 22,
      "outputs": [
        {
          "output_type": "display_data",
          "data": {
            "application/vnd.jupyter.widget-view+json": {
              "model_id": "f5e087825e5646608a7cefaf822cbfb4",
              "version_minor": 0,
              "version_major": 2
            },
            "text/plain": [
              "HBox(children=(IntProgress(value=0, description='JsenseRecon', max=10, style=ProgressStyle(description_width='…"
            ]
          },
          "metadata": {
            "tags": []
          }
        },
        {
          "output_type": "stream",
          "text": [
            "\n"
          ],
          "name": "stdout"
        },
        {
          "output_type": "display_data",
          "data": {
            "image/png": "[encoded data removed]",
            "text/plain": [
              "<Figure size 432x288 with 1 Axes>"
            ]
          },
          "metadata": {
            "tags": []
          }
        },
        {
          "output_type": "execute_result",
          "data": {
            "text/plain": [
              "<sigpy.plot.ImagePlot at 0x7feab8b7cbe0>"
            ]
          },
          "metadata": {
            "tags": []
          },
          "execution_count": 22
        }
      ]
    },
    {
      "cell_type": "markdown",
      "metadata": {
        "id": "0AxnSLNY8ox1",
        "colab_type": "text"
      },
      "source": [
        "# Multi-scale Low Rank Reconstruction\n",
        "\n",
        "The following runs the multi-scale low rank reconstruction with 20 frames.\n",
        "\n",
        "In this implementation, there is an initialization phase with power methods to initialize the singular vectors. Then, the reconstruction will run stochastic gradient method with a default of 90 epochs.\n",
        "\n",
        "Note that this can be rather slow depending on your computing device. As a reference, on a single GPU we tried, the low resolution reconstruction took ~8 minutes."
      ]
    },
    {
      "cell_type": "code",
      "metadata": {
        "scrolled": true,
        "id": "Ee23BMum8ox2",
        "colab_type": "code",
        "colab": {
          "base_uri": "https://localhost:8080/",
          "height": 358,
          "referenced_widgets": [
            "c111d5d2b35d4bb6a2d1f866322fc947"
          ]
        },
        "outputId": "f9c12894-1e88-476b-8abf-14b8aa0cf883"
      },
      "source": [
        "T = 20\n",
        "lamda = 1e-8\n",
        "img = MultiScaleLowRankRecon(ksp, coord, dcf, mps, T, lamda, device=device).run()"
      ],
      "execution_count": 30,
      "outputs": [
        {
          "output_type": "display_data",
          "data": {
            "application/vnd.jupyter.widget-view+json": {
              "model_id": "c111d5d2b35d4bb6a2d1f866322fc947",
              "version_minor": 0,
              "version_major": 2
            },
            "text/plain": [
              "HBox(children=(IntProgress(value=0, description='MaxEig', max=5, style=ProgressStyle(description_width='initia…"
            ]
          },
          "metadata": {
            "tags": []
          }
        },
        {
          "output_type": "stream",
          "text": [
            "\n"
          ],
          "name": "stdout"
        },
        {
          "output_type": "error",
          "ename": "KeyboardInterrupt",
          "evalue": "ignored",
          "traceback": [
            "\u001b[0;31m---------------------------------------------------------------------------\u001b[0m",
            "\u001b[0;31mKeyboardInterrupt\u001b[0m                         Traceback (most recent call last)",
            "\u001b[0;32m<ipython-input-30-3ef6b2036863>\u001b[0m in \u001b[0;36m<module>\u001b[0;34m()\u001b[0m\n\u001b[1;32m      1\u001b[0m \u001b[0mT\u001b[0m \u001b[0;34m=\u001b[0m \u001b[0;36m20\u001b[0m\u001b[0;34m\u001b[0m\u001b[0;34m\u001b[0m\u001b[0m\n\u001b[1;32m      2\u001b[0m \u001b[0mlamda\u001b[0m \u001b[0;34m=\u001b[0m \u001b[0;36m1e-8\u001b[0m\u001b[0;34m\u001b[0m\u001b[0;34m\u001b[0m\u001b[0m\n\u001b[0;32m----> 3\u001b[0;31m \u001b[0mimg\u001b[0m \u001b[0;34m=\u001b[0m \u001b[0mMultiScaleLowRankRecon\u001b[0m\u001b[0;34m(\u001b[0m\u001b[0mksp\u001b[0m\u001b[0;34m,\u001b[0m \u001b[0mcoord\u001b[0m\u001b[0;34m,\u001b[0m \u001b[0mdcf\u001b[0m\u001b[0;34m,\u001b[0m \u001b[0mmps\u001b[0m\u001b[0;34m,\u001b[0m \u001b[0mT\u001b[0m\u001b[0;34m,\u001b[0m \u001b[0mlamda\u001b[0m\u001b[0;34m,\u001b[0m \u001b[0mdevice\u001b[0m\u001b[0;34m=\u001b[0m\u001b[0mdevice\u001b[0m\u001b[0;34m)\u001b[0m\u001b[0;34m.\u001b[0m\u001b[0mrun\u001b[0m\u001b[0;34m(\u001b[0m\u001b[0;34m)\u001b[0m\u001b[0;34m\u001b[0m\u001b[0;34m\u001b[0m\u001b[0m\n\u001b[0m",
            "\u001b[0;32m/content/extreme_mri/multi_scale_low_rank_recon.py\u001b[0m in \u001b[0;36m__init__\u001b[0;34m(self, ksp, coord, dcf, mps, T, lamda, blk_widths, alpha, beta, sgw, device, comm, seed, max_epoch, decay_epoch, max_power_iter, show_pbar)\u001b[0m\n\u001b[1;32m     91\u001b[0m             \u001b[0mself\u001b[0m\u001b[0;34m.\u001b[0m\u001b[0mG\u001b[0m \u001b[0;34m=\u001b[0m \u001b[0mself\u001b[0m\u001b[0;34m.\u001b[0m\u001b[0m_get_G\u001b[0m\u001b[0;34m(\u001b[0m\u001b[0;34m)\u001b[0m\u001b[0;34m\u001b[0m\u001b[0;34m\u001b[0m\u001b[0m\n\u001b[1;32m     92\u001b[0m \u001b[0;34m\u001b[0m\u001b[0m\n\u001b[0;32m---> 93\u001b[0;31m         \u001b[0mself\u001b[0m\u001b[0;34m.\u001b[0m\u001b[0m_normalize\u001b[0m\u001b[0;34m(\u001b[0m\u001b[0;34m)\u001b[0m\u001b[0;34m\u001b[0m\u001b[0;34m\u001b[0m\u001b[0m\n\u001b[0m\u001b[1;32m     94\u001b[0m \u001b[0;34m\u001b[0m\u001b[0m\n\u001b[1;32m     95\u001b[0m     \u001b[0;32mdef\u001b[0m \u001b[0m_get_B\u001b[0m\u001b[0;34m(\u001b[0m\u001b[0mself\u001b[0m\u001b[0;34m)\u001b[0m\u001b[0;34m:\u001b[0m\u001b[0;34m\u001b[0m\u001b[0;34m\u001b[0m\u001b[0m\n",
            "\u001b[0;32m/content/extreme_mri/multi_scale_low_rank_recon.py\u001b[0m in \u001b[0;36m_normalize\u001b[0;34m(self)\u001b[0m\n\u001b[1;32m    154\u001b[0m                 \u001b[0mself\u001b[0m\u001b[0;34m.\u001b[0m\u001b[0mcomm\u001b[0m\u001b[0;34m.\u001b[0m\u001b[0mallreduce\u001b[0m\u001b[0;34m(\u001b[0m\u001b[0mimg_adj\u001b[0m\u001b[0;34m)\u001b[0m\u001b[0;34m\u001b[0m\u001b[0;34m\u001b[0m\u001b[0m\n\u001b[1;32m    155\u001b[0m \u001b[0;34m\u001b[0m\u001b[0m\n\u001b[0;32m--> 156\u001b[0;31m             \u001b[0mimg_adj_norm\u001b[0m \u001b[0;34m=\u001b[0m \u001b[0mself\u001b[0m\u001b[0;34m.\u001b[0m\u001b[0mxp\u001b[0m\u001b[0;34m.\u001b[0m\u001b[0mlinalg\u001b[0m\u001b[0;34m.\u001b[0m\u001b[0mnorm\u001b[0m\u001b[0;34m(\u001b[0m\u001b[0mimg_adj\u001b[0m\u001b[0;34m)\u001b[0m\u001b[0;34m.\u001b[0m\u001b[0mitem\u001b[0m\u001b[0;34m(\u001b[0m\u001b[0;34m)\u001b[0m\u001b[0;34m\u001b[0m\u001b[0;34m\u001b[0m\u001b[0m\n\u001b[0m\u001b[1;32m    157\u001b[0m             \u001b[0mself\u001b[0m\u001b[0;34m.\u001b[0m\u001b[0mksp\u001b[0m \u001b[0;34m/=\u001b[0m \u001b[0mimg_adj_norm\u001b[0m\u001b[0;34m\u001b[0m\u001b[0;34m\u001b[0m\u001b[0m\n\u001b[1;32m    158\u001b[0m \u001b[0;34m\u001b[0m\u001b[0m\n",
            "\u001b[0;31mKeyboardInterrupt\u001b[0m: "
          ]
        }
      ]
    },
    {
      "cell_type": "markdown",
      "metadata": {
        "id": "mE9-mpQo8ox4",
        "colab_type": "text"
      },
      "source": [
        "# Plot\n",
        "\n",
        "The returned image is stored in a compressed multi-scale low rank representation, and NOT a numpy array. This is useful when the underlying image is huge.\n",
        "\n",
        "The image can be indexed, and will adaptively reconstruct the indexed slice. In particular, it can be viewed directly using `pl.ImagePlot`. You can speed up the slicing with the desired computing device using `img.use_device(device)`.\n",
        "\n",
        "To obtain a numpy array from the compressed representation, you can do:\n",
        "\n",
        "    img = img[:]\n",
        "    \n",
        "But note that this will expand the underlying image completely, which can take a lot of memory."
      ]
    },
    {
      "cell_type": "code",
      "metadata": {
        "id": "z1MEAD3Q8ox5",
        "colab_type": "code",
        "colab": {},
        "outputId": "089e0836-8af2-4833-d859-b0c514f84f04"
      },
      "source": [
        "img.use_device(device)\n",
        "pl.ImagePlot(img, interpolation='lanczos')"
      ],
      "execution_count": 0,
      "outputs": [
        {
          "output_type": "display_data",
          "data": {
            "application/javascript": [
              "/* Put everything inside the global mpl namespace */\n",
              "window.mpl = {};\n",
              "\n",
              "\n",
              "mpl.get_websocket_type = function() {\n",
              "    if (typeof(WebSocket) !== 'undefined') {\n",
              "        return WebSocket;\n",
              "    } else if (typeof(MozWebSocket) !== 'undefined') {\n",
              "        return MozWebSocket;\n",
              "    } else {\n",
              "        alert('Your browser does not have WebSocket support. ' +\n",
              "              'Please try Chrome, Safari or Firefox ≥ 6. ' +\n",
              "              'Firefox 4 and 5 are also supported but you ' +\n",
              "              'have to enable WebSockets in about:config.');\n",
              "    };\n",
              "}\n",
              "\n",
              "mpl.figure = function(figure_id, websocket, ondownload, parent_element) {\n",
              "    this.id = figure_id;\n",
              "\n",
              "    this.ws = websocket;\n",
              "\n",
              "    this.supports_binary = (this.ws.binaryType != undefined);\n",
              "\n",
              "    if (!this.supports_binary) {\n",
              "        var warnings = document.getElementById(\"mpl-warnings\");\n",
              "        if (warnings) {\n",
              "            warnings.style.display = 'block';\n",
              "            warnings.textContent = (\n",
              "                \"This browser does not support binary websocket messages. \" +\n",
              "                    \"Performance may be slow.\");\n",
              "        }\n",
              "    }\n",
              "\n",
              "    this.imageObj = new Image();\n",
              "\n",
              "    this.context = undefined;\n",
              "    this.message = undefined;\n",
              "    this.canvas = undefined;\n",
              "    this.rubberband_canvas = undefined;\n",
              "    this.rubberband_context = undefined;\n",
              "    this.format_dropdown = undefined;\n",
              "\n",
              "    this.image_mode = 'full';\n",
              "\n",
              "    this.root = $('<div/>');\n",
              "    this._root_extra_style(this.root)\n",
              "    this.root.attr('style', 'display: inline-block');\n",
              "\n",
              "    $(parent_element).append(this.root);\n",
              "\n",
              "    this._init_header(this);\n",
              "    this._init_canvas(this);\n",
              "    this._init_toolbar(this);\n",
              "\n",
              "    var fig = this;\n",
              "\n",
              "    this.waiting = false;\n",
              "\n",
              "    this.ws.onopen =  function () {\n",
              "            fig.send_message(\"supports_binary\", {value: fig.supports_binary});\n",
              "            fig.send_message(\"send_image_mode\", {});\n",
              "            if (mpl.ratio != 1) {\n",
              "                fig.send_message(\"set_dpi_ratio\", {'dpi_ratio': mpl.ratio});\n",
              "            }\n",
              "            fig.send_message(\"refresh\", {});\n",
              "        }\n",
              "\n",
              "    this.imageObj.onload = function() {\n",
              "            if (fig.image_mode == 'full') {\n",
              "                // Full images could contain transparency (where diff images\n",
              "                // almost always do), so we need to clear the canvas so that\n",
              "                // there is no ghosting.\n",
              "                fig.context.clearRect(0, 0, fig.canvas.width, fig.canvas.height);\n",
              "            }\n",
              "            fig.context.drawImage(fig.imageObj, 0, 0);\n",
              "        };\n",
              "\n",
              "    this.imageObj.onunload = function() {\n",
              "        fig.ws.close();\n",
              "    }\n",
              "\n",
              "    this.ws.onmessage = this._make_on_message_function(this);\n",
              "\n",
              "    this.ondownload = ondownload;\n",
              "}\n",
              "\n",
              "mpl.figure.prototype._init_header = function() {\n",
              "    var titlebar = $(\n",
              "        '<div class=\"ui-dialog-titlebar ui-widget-header ui-corner-all ' +\n",
              "        'ui-helper-clearfix\"/>');\n",
              "    var titletext = $(\n",
              "        '<div class=\"ui-dialog-title\" style=\"width: 100%; ' +\n",
              "        'text-align: center; padding: 3px;\"/>');\n",
              "    titlebar.append(titletext)\n",
              "    this.root.append(titlebar);\n",
              "    this.header = titletext[0];\n",
              "}\n",
              "\n",
              "\n",
              "\n",
              "mpl.figure.prototype._canvas_extra_style = function(canvas_div) {\n",
              "\n",
              "}\n",
              "\n",
              "\n",
              "mpl.figure.prototype._root_extra_style = function(canvas_div) {\n",
              "\n",
              "}\n",
              "\n",
              "mpl.figure.prototype._init_canvas = function() {\n",
              "    var fig = this;\n",
              "\n",
              "    var canvas_div = $('<div/>');\n",
              "\n",
              "    canvas_div.attr('style', 'position: relative; clear: both; outline: 0');\n",
              "\n",
              "    function canvas_keyboard_event(event) {\n",
              "        return fig.key_event(event, event['data']);\n",
              "    }\n",
              "\n",
              "    canvas_div.keydown('key_press', canvas_keyboard_event);\n",
              "    canvas_div.keyup('key_release', canvas_keyboard_event);\n",
              "    this.canvas_div = canvas_div\n",
              "    this._canvas_extra_style(canvas_div)\n",
              "    this.root.append(canvas_div);\n",
              "\n",
              "    var canvas = $('<canvas/>');\n",
              "    canvas.addClass('mpl-canvas');\n",
              "    canvas.attr('style', \"left: 0; top: 0; z-index: 0; outline: 0\")\n",
              "\n",
              "    this.canvas = canvas[0];\n",
              "    this.context = canvas[0].getContext(\"2d\");\n",
              "\n",
              "    var backingStore = this.context.backingStorePixelRatio ||\n",
              "\tthis.context.webkitBackingStorePixelRatio ||\n",
              "\tthis.context.mozBackingStorePixelRatio ||\n",
              "\tthis.context.msBackingStorePixelRatio ||\n",
              "\tthis.context.oBackingStorePixelRatio ||\n",
              "\tthis.context.backingStorePixelRatio || 1;\n",
              "\n",
              "    mpl.ratio = (window.devicePixelRatio || 1) / backingStore;\n",
              "\n",
              "    var rubberband = $('<canvas/>');\n",
              "    rubberband.attr('style', \"position: absolute; left: 0; top: 0; z-index: 1;\")\n",
              "\n",
              "    var pass_mouse_events = true;\n",
              "\n",
              "    canvas_div.resizable({\n",
              "        start: function(event, ui) {\n",
              "            pass_mouse_events = false;\n",
              "        },\n",
              "        resize: function(event, ui) {\n",
              "            fig.request_resize(ui.size.width, ui.size.height);\n",
              "        },\n",
              "        stop: function(event, ui) {\n",
              "            pass_mouse_events = true;\n",
              "            fig.request_resize(ui.size.width, ui.size.height);\n",
              "        },\n",
              "    });\n",
              "\n",
              "    function mouse_event_fn(event) {\n",
              "        if (pass_mouse_events)\n",
              "            return fig.mouse_event(event, event['data']);\n",
              "    }\n",
              "\n",
              "    rubberband.mousedown('button_press', mouse_event_fn);\n",
              "    rubberband.mouseup('button_release', mouse_event_fn);\n",
              "    // Throttle sequential mouse events to 1 every 20ms.\n",
              "    rubberband.mousemove('motion_notify', mouse_event_fn);\n",
              "\n",
              "    rubberband.mouseenter('figure_enter', mouse_event_fn);\n",
              "    rubberband.mouseleave('figure_leave', mouse_event_fn);\n",
              "\n",
              "    canvas_div.on(\"wheel\", function (event) {\n",
              "        event = event.originalEvent;\n",
              "        event['data'] = 'scroll'\n",
              "        if (event.deltaY < 0) {\n",
              "            event.step = 1;\n",
              "        } else {\n",
              "            event.step = -1;\n",
              "        }\n",
              "        mouse_event_fn(event);\n",
              "    });\n",
              "\n",
              "    canvas_div.append(canvas);\n",
              "    canvas_div.append(rubberband);\n",
              "\n",
              "    this.rubberband = rubberband;\n",
              "    this.rubberband_canvas = rubberband[0];\n",
              "    this.rubberband_context = rubberband[0].getContext(\"2d\");\n",
              "    this.rubberband_context.strokeStyle = \"#000000\";\n",
              "\n",
              "    this._resize_canvas = function(width, height) {\n",
              "        // Keep the size of the canvas, canvas container, and rubber band\n",
              "        // canvas in synch.\n",
              "        canvas_div.css('width', width)\n",
              "        canvas_div.css('height', height)\n",
              "\n",
              "        canvas.attr('width', width * mpl.ratio);\n",
              "        canvas.attr('height', height * mpl.ratio);\n",
              "        canvas.attr('style', 'width: ' + width + 'px; height: ' + height + 'px;');\n",
              "\n",
              "        rubberband.attr('width', width);\n",
              "        rubberband.attr('height', height);\n",
              "    }\n",
              "\n",
              "    // Set the figure to an initial 600x600px, this will subsequently be updated\n",
              "    // upon first draw.\n",
              "    this._resize_canvas(600, 600);\n",
              "\n",
              "    // Disable right mouse context menu.\n",
              "    $(this.rubberband_canvas).bind(\"contextmenu\",function(e){\n",
              "        return false;\n",
              "    });\n",
              "\n",
              "    function set_focus () {\n",
              "        canvas.focus();\n",
              "        canvas_div.focus();\n",
              "    }\n",
              "\n",
              "    window.setTimeout(set_focus, 100);\n",
              "}\n",
              "\n",
              "mpl.figure.prototype._init_toolbar = function() {\n",
              "    var fig = this;\n",
              "\n",
              "    var nav_element = $('<div/>');\n",
              "    nav_element.attr('style', 'width: 100%');\n",
              "    this.root.append(nav_element);\n",
              "\n",
              "    // Define a callback function for later on.\n",
              "    function toolbar_event(event) {\n",
              "        return fig.toolbar_button_onclick(event['data']);\n",
              "    }\n",
              "    function toolbar_mouse_event(event) {\n",
              "        return fig.toolbar_button_onmouseover(event['data']);\n",
              "    }\n",
              "\n",
              "    for(var toolbar_ind in mpl.toolbar_items) {\n",
              "        var name = mpl.toolbar_items[toolbar_ind][0];\n",
              "        var tooltip = mpl.toolbar_items[toolbar_ind][1];\n",
              "        var image = mpl.toolbar_items[toolbar_ind][2];\n",
              "        var method_name = mpl.toolbar_items[toolbar_ind][3];\n",
              "\n",
              "        if (!name) {\n",
              "            // put a spacer in here.\n",
              "            continue;\n",
              "        }\n",
              "        var button = $('<button/>');\n",
              "        button.addClass('ui-button ui-widget ui-state-default ui-corner-all ' +\n",
              "                        'ui-button-icon-only');\n",
              "        button.attr('role', 'button');\n",
              "        button.attr('aria-disabled', 'false');\n",
              "        button.click(method_name, toolbar_event);\n",
              "        button.mouseover(tooltip, toolbar_mouse_event);\n",
              "\n",
              "        var icon_img = $('<span/>');\n",
              "        icon_img.addClass('ui-button-icon-primary ui-icon');\n",
              "        icon_img.addClass(image);\n",
              "        icon_img.addClass('ui-corner-all');\n",
              "\n",
              "        var tooltip_span = $('<span/>');\n",
              "        tooltip_span.addClass('ui-button-text');\n",
              "        tooltip_span.html(tooltip);\n",
              "\n",
              "        button.append(icon_img);\n",
              "        button.append(tooltip_span);\n",
              "\n",
              "        nav_element.append(button);\n",
              "    }\n",
              "\n",
              "    var fmt_picker_span = $('<span/>');\n",
              "\n",
              "    var fmt_picker = $('<select/>');\n",
              "    fmt_picker.addClass('mpl-toolbar-option ui-widget ui-widget-content');\n",
              "    fmt_picker_span.append(fmt_picker);\n",
              "    nav_element.append(fmt_picker_span);\n",
              "    this.format_dropdown = fmt_picker[0];\n",
              "\n",
              "    for (var ind in mpl.extensions) {\n",
              "        var fmt = mpl.extensions[ind];\n",
              "        var option = $(\n",
              "            '<option/>', {selected: fmt === mpl.default_extension}).html(fmt);\n",
              "        fmt_picker.append(option);\n",
              "    }\n",
              "\n",
              "    // Add hover states to the ui-buttons\n",
              "    $( \".ui-button\" ).hover(\n",
              "        function() { $(this).addClass(\"ui-state-hover\");},\n",
              "        function() { $(this).removeClass(\"ui-state-hover\");}\n",
              "    );\n",
              "\n",
              "    var status_bar = $('<span class=\"mpl-message\"/>');\n",
              "    nav_element.append(status_bar);\n",
              "    this.message = status_bar[0];\n",
              "}\n",
              "\n",
              "mpl.figure.prototype.request_resize = function(x_pixels, y_pixels) {\n",
              "    // Request matplotlib to resize the figure. Matplotlib will then trigger a resize in the client,\n",
              "    // which will in turn request a refresh of the image.\n",
              "    this.send_message('resize', {'width': x_pixels, 'height': y_pixels});\n",
              "}\n",
              "\n",
              "mpl.figure.prototype.send_message = function(type, properties) {\n",
              "    properties['type'] = type;\n",
              "    properties['figure_id'] = this.id;\n",
              "    this.ws.send(JSON.stringify(properties));\n",
              "}\n",
              "\n",
              "mpl.figure.prototype.send_draw_message = function() {\n",
              "    if (!this.waiting) {\n",
              "        this.waiting = true;\n",
              "        this.ws.send(JSON.stringify({type: \"draw\", figure_id: this.id}));\n",
              "    }\n",
              "}\n",
              "\n",
              "\n",
              "mpl.figure.prototype.handle_save = function(fig, msg) {\n",
              "    var format_dropdown = fig.format_dropdown;\n",
              "    var format = format_dropdown.options[format_dropdown.selectedIndex].value;\n",
              "    fig.ondownload(fig, format);\n",
              "}\n",
              "\n",
              "\n",
              "mpl.figure.prototype.handle_resize = function(fig, msg) {\n",
              "    var size = msg['size'];\n",
              "    if (size[0] != fig.canvas.width || size[1] != fig.canvas.height) {\n",
              "        fig._resize_canvas(size[0], size[1]);\n",
              "        fig.send_message(\"refresh\", {});\n",
              "    };\n",
              "}\n",
              "\n",
              "mpl.figure.prototype.handle_rubberband = function(fig, msg) {\n",
              "    var x0 = msg['x0'] / mpl.ratio;\n",
              "    var y0 = (fig.canvas.height - msg['y0']) / mpl.ratio;\n",
              "    var x1 = msg['x1'] / mpl.ratio;\n",
              "    var y1 = (fig.canvas.height - msg['y1']) / mpl.ratio;\n",
              "    x0 = Math.floor(x0) + 0.5;\n",
              "    y0 = Math.floor(y0) + 0.5;\n",
              "    x1 = Math.floor(x1) + 0.5;\n",
              "    y1 = Math.floor(y1) + 0.5;\n",
              "    var min_x = Math.min(x0, x1);\n",
              "    var min_y = Math.min(y0, y1);\n",
              "    var width = Math.abs(x1 - x0);\n",
              "    var height = Math.abs(y1 - y0);\n",
              "\n",
              "    fig.rubberband_context.clearRect(\n",
              "        0, 0, fig.canvas.width, fig.canvas.height);\n",
              "\n",
              "    fig.rubberband_context.strokeRect(min_x, min_y, width, height);\n",
              "}\n",
              "\n",
              "mpl.figure.prototype.handle_figure_label = function(fig, msg) {\n",
              "    // Updates the figure title.\n",
              "    fig.header.textContent = msg['label'];\n",
              "}\n",
              "\n",
              "mpl.figure.prototype.handle_cursor = function(fig, msg) {\n",
              "    var cursor = msg['cursor'];\n",
              "    switch(cursor)\n",
              "    {\n",
              "    case 0:\n",
              "        cursor = 'pointer';\n",
              "        break;\n",
              "    case 1:\n",
              "        cursor = 'default';\n",
              "        break;\n",
              "    case 2:\n",
              "        cursor = 'crosshair';\n",
              "        break;\n",
              "    case 3:\n",
              "        cursor = 'move';\n",
              "        break;\n",
              "    }\n",
              "    fig.rubberband_canvas.style.cursor = cursor;\n",
              "}\n",
              "\n",
              "mpl.figure.prototype.handle_message = function(fig, msg) {\n",
              "    fig.message.textContent = msg['message'];\n",
              "}\n",
              "\n",
              "mpl.figure.prototype.handle_draw = function(fig, msg) {\n",
              "    // Request the server to send over a new figure.\n",
              "    fig.send_draw_message();\n",
              "}\n",
              "\n",
              "mpl.figure.prototype.handle_image_mode = function(fig, msg) {\n",
              "    fig.image_mode = msg['mode'];\n",
              "}\n",
              "\n",
              "mpl.figure.prototype.updated_canvas_event = function() {\n",
              "    // Called whenever the canvas gets updated.\n",
              "    this.send_message(\"ack\", {});\n",
              "}\n",
              "\n",
              "// A function to construct a web socket function for onmessage handling.\n",
              "// Called in the figure constructor.\n",
              "mpl.figure.prototype._make_on_message_function = function(fig) {\n",
              "    return function socket_on_message(evt) {\n",
              "        if (evt.data instanceof Blob) {\n",
              "            /* FIXME: We get \"Resource interpreted as Image but\n",
              "             * transferred with MIME type text/plain:\" errors on\n",
              "             * Chrome.  But how to set the MIME type?  It doesn't seem\n",
              "             * to be part of the websocket stream */\n",
              "            evt.data.type = \"image/png\";\n",
              "\n",
              "            /* Free the memory for the previous frames */\n",
              "            if (fig.imageObj.src) {\n",
              "                (window.URL || window.webkitURL).revokeObjectURL(\n",
              "                    fig.imageObj.src);\n",
              "            }\n",
              "\n",
              "            fig.imageObj.src = (window.URL || window.webkitURL).createObjectURL(\n",
              "                evt.data);\n",
              "            fig.updated_canvas_event();\n",
              "            fig.waiting = false;\n",
              "            return;\n",
              "        }\n",
              "        else if (typeof evt.data === 'string' && evt.data.slice(0, 21) == \"data:image/png;base64\") {\n",
              "            fig.imageObj.src = evt.data;\n",
              "            fig.updated_canvas_event();\n",
              "            fig.waiting = false;\n",
              "            return;\n",
              "        }\n",
              "\n",
              "        var msg = JSON.parse(evt.data);\n",
              "        var msg_type = msg['type'];\n",
              "\n",
              "        // Call the  \"handle_{type}\" callback, which takes\n",
              "        // the figure and JSON message as its only arguments.\n",
              "        try {\n",
              "            var callback = fig[\"handle_\" + msg_type];\n",
              "        } catch (e) {\n",
              "            console.log(\"No handler for the '\" + msg_type + \"' message type: \", msg);\n",
              "            return;\n",
              "        }\n",
              "\n",
              "        if (callback) {\n",
              "            try {\n",
              "                // console.log(\"Handling '\" + msg_type + \"' message: \", msg);\n",
              "                callback(fig, msg);\n",
              "            } catch (e) {\n",
              "                console.log(\"Exception inside the 'handler_\" + msg_type + \"' callback:\", e, e.stack, msg);\n",
              "            }\n",
              "        }\n",
              "    };\n",
              "}\n",
              "\n",
              "// from http://stackoverflow.com/questions/1114465/getting-mouse-location-in-canvas\n",
              "mpl.findpos = function(e) {\n",
              "    //this section is from http://www.quirksmode.org/js/events_properties.html\n",
              "    var targ;\n",
              "    if (!e)\n",
              "        e = window.event;\n",
              "    if (e.target)\n",
              "        targ = e.target;\n",
              "    else if (e.srcElement)\n",
              "        targ = e.srcElement;\n",
              "    if (targ.nodeType == 3) // defeat Safari bug\n",
              "        targ = targ.parentNode;\n",
              "\n",
              "    // jQuery normalizes the pageX and pageY\n",
              "    // pageX,Y are the mouse positions relative to the document\n",
              "    // offset() returns the position of the element relative to the document\n",
              "    var x = e.pageX - $(targ).offset().left;\n",
              "    var y = e.pageY - $(targ).offset().top;\n",
              "\n",
              "    return {\"x\": x, \"y\": y};\n",
              "};\n",
              "\n",
              "/*\n",
              " * return a copy of an object with only non-object keys\n",
              " * we need this to avoid circular references\n",
              " * http://stackoverflow.com/a/24161582/3208463\n",
              " */\n",
              "function simpleKeys (original) {\n",
              "  return Object.keys(original).reduce(function (obj, key) {\n",
              "    if (typeof original[key] !== 'object')\n",
              "        obj[key] = original[key]\n",
              "    return obj;\n",
              "  }, {});\n",
              "}\n",
              "\n",
              "mpl.figure.prototype.mouse_event = function(event, name) {\n",
              "    var canvas_pos = mpl.findpos(event)\n",
              "\n",
              "    if (name === 'button_press')\n",
              "    {\n",
              "        this.canvas.focus();\n",
              "        this.canvas_div.focus();\n",
              "    }\n",
              "\n",
              "    var x = canvas_pos.x * mpl.ratio;\n",
              "    var y = canvas_pos.y * mpl.ratio;\n",
              "\n",
              "    this.send_message(name, {x: x, y: y, button: event.button,\n",
              "                             step: event.step,\n",
              "                             guiEvent: simpleKeys(event)});\n",
              "\n",
              "    /* This prevents the web browser from automatically changing to\n",
              "     * the text insertion cursor when the button is pressed.  We want\n",
              "     * to control all of the cursor setting manually through the\n",
              "     * 'cursor' event from matplotlib */\n",
              "    event.preventDefault();\n",
              "    return false;\n",
              "}\n",
              "\n",
              "mpl.figure.prototype._key_event_extra = function(event, name) {\n",
              "    // Handle any extra behaviour associated with a key event\n",
              "}\n",
              "\n",
              "mpl.figure.prototype.key_event = function(event, name) {\n",
              "\n",
              "    // Prevent repeat events\n",
              "    if (name == 'key_press')\n",
              "    {\n",
              "        if (event.which === this._key)\n",
              "            return;\n",
              "        else\n",
              "            this._key = event.which;\n",
              "    }\n",
              "    if (name == 'key_release')\n",
              "        this._key = null;\n",
              "\n",
              "    var value = '';\n",
              "    if (event.ctrlKey && event.which != 17)\n",
              "        value += \"ctrl+\";\n",
              "    if (event.altKey && event.which != 18)\n",
              "        value += \"alt+\";\n",
              "    if (event.shiftKey && event.which != 16)\n",
              "        value += \"shift+\";\n",
              "\n",
              "    value += 'k';\n",
              "    value += event.which.toString();\n",
              "\n",
              "    this._key_event_extra(event, name);\n",
              "\n",
              "    this.send_message(name, {key: value,\n",
              "                             guiEvent: simpleKeys(event)});\n",
              "    return false;\n",
              "}\n",
              "\n",
              "mpl.figure.prototype.toolbar_button_onclick = function(name) {\n",
              "    if (name == 'download') {\n",
              "        this.handle_save(this, null);\n",
              "    } else {\n",
              "        this.send_message(\"toolbar_button\", {name: name});\n",
              "    }\n",
              "};\n",
              "\n",
              "mpl.figure.prototype.toolbar_button_onmouseover = function(tooltip) {\n",
              "    this.message.textContent = tooltip;\n",
              "};\n",
              "mpl.toolbar_items = [[\"Home\", \"Reset original view\", \"fa fa-home icon-home\", \"home\"], [\"Back\", \"Back to previous view\", \"fa fa-arrow-left icon-arrow-left\", \"back\"], [\"Forward\", \"Forward to next view\", \"fa fa-arrow-right icon-arrow-right\", \"forward\"], [\"\", \"\", \"\", \"\"], [\"Pan\", \"Pan axes with left mouse, zoom with right\", \"fa fa-arrows icon-move\", \"pan\"], [\"Zoom\", \"Zoom to rectangle\", \"fa fa-square-o icon-check-empty\", \"zoom\"], [\"\", \"\", \"\", \"\"], [\"Download\", \"Download plot\", \"fa fa-floppy-o icon-save\", \"download\"]];\n",
              "\n",
              "mpl.extensions = [\"eps\", \"jpeg\", \"pdf\", \"png\", \"ps\", \"raw\", \"svg\", \"tif\"];\n",
              "\n",
              "mpl.default_extension = \"png\";var comm_websocket_adapter = function(comm) {\n",
              "    // Create a \"websocket\"-like object which calls the given IPython comm\n",
              "    // object with the appropriate methods. Currently this is a non binary\n",
              "    // socket, so there is still some room for performance tuning.\n",
              "    var ws = {};\n",
              "\n",
              "    ws.close = function() {\n",
              "        comm.close()\n",
              "    };\n",
              "    ws.send = function(m) {\n",
              "        //console.log('sending', m);\n",
              "        comm.send(m);\n",
              "    };\n",
              "    // Register the callback with on_msg.\n",
              "    comm.on_msg(function(msg) {\n",
              "        //console.log('receiving', msg['content']['data'], msg);\n",
              "        // Pass the mpl event to the overridden (by mpl) onmessage function.\n",
              "        ws.onmessage(msg['content']['data'])\n",
              "    });\n",
              "    return ws;\n",
              "}\n",
              "\n",
              "mpl.mpl_figure_comm = function(comm, msg) {\n",
              "    // This is the function which gets called when the mpl process\n",
              "    // starts-up an IPython Comm through the \"matplotlib\" channel.\n",
              "\n",
              "    var id = msg.content.data.id;\n",
              "    // Get hold of the div created by the display call when the Comm\n",
              "    // socket was opened in Python.\n",
              "    var element = $(\"#\" + id);\n",
              "    var ws_proxy = comm_websocket_adapter(comm)\n",
              "\n",
              "    function ondownload(figure, format) {\n",
              "        window.open(figure.imageObj.src);\n",
              "    }\n",
              "\n",
              "    var fig = new mpl.figure(id, ws_proxy,\n",
              "                           ondownload,\n",
              "                           element.get(0));\n",
              "\n",
              "    // Call onopen now - mpl needs it, as it is assuming we've passed it a real\n",
              "    // web socket which is closed, not our websocket->open comm proxy.\n",
              "    ws_proxy.onopen();\n",
              "\n",
              "    fig.parent_element = element.get(0);\n",
              "    fig.cell_info = mpl.find_output_cell(\"<div id='\" + id + \"'></div>\");\n",
              "    if (!fig.cell_info) {\n",
              "        console.error(\"Failed to find cell for figure\", id, fig);\n",
              "        return;\n",
              "    }\n",
              "\n",
              "    var output_index = fig.cell_info[2]\n",
              "    var cell = fig.cell_info[0];\n",
              "\n",
              "};\n",
              "\n",
              "mpl.figure.prototype.handle_close = function(fig, msg) {\n",
              "    var width = fig.canvas.width/mpl.ratio\n",
              "    fig.root.unbind('remove')\n",
              "\n",
              "    // Update the output cell to use the data from the current canvas.\n",
              "    fig.push_to_output();\n",
              "    var dataURL = fig.canvas.toDataURL();\n",
              "    // Re-enable the keyboard manager in IPython - without this line, in FF,\n",
              "    // the notebook keyboard shortcuts fail.\n",
              "    IPython.keyboard_manager.enable()\n",
              "    $(fig.parent_element).html('<img src=\"' + dataURL + '\" width=\"' + width + '\">');\n",
              "    fig.close_ws(fig, msg);\n",
              "}\n",
              "\n",
              "mpl.figure.prototype.close_ws = function(fig, msg){\n",
              "    fig.send_message('closing', msg);\n",
              "    // fig.ws.close()\n",
              "}\n",
              "\n",
              "mpl.figure.prototype.push_to_output = function(remove_interactive) {\n",
              "    // Turn the data on the canvas into data in the output cell.\n",
              "    var width = this.canvas.width/mpl.ratio\n",
              "    var dataURL = this.canvas.toDataURL();\n",
              "    this.cell_info[1]['text/html'] = '<img src=\"' + dataURL + '\" width=\"' + width + '\">';\n",
              "}\n",
              "\n",
              "mpl.figure.prototype.updated_canvas_event = function() {\n",
              "    // Tell IPython that the notebook contents must change.\n",
              "    IPython.notebook.set_dirty(true);\n",
              "    this.send_message(\"ack\", {});\n",
              "    var fig = this;\n",
              "    // Wait a second, then push the new image to the DOM so\n",
              "    // that it is saved nicely (might be nice to debounce this).\n",
              "    setTimeout(function () { fig.push_to_output() }, 1000);\n",
              "}\n",
              "\n",
              "mpl.figure.prototype._init_toolbar = function() {\n",
              "    var fig = this;\n",
              "\n",
              "    var nav_element = $('<div/>');\n",
              "    nav_element.attr('style', 'width: 100%');\n",
              "    this.root.append(nav_element);\n",
              "\n",
              "    // Define a callback function for later on.\n",
              "    function toolbar_event(event) {\n",
              "        return fig.toolbar_button_onclick(event['data']);\n",
              "    }\n",
              "    function toolbar_mouse_event(event) {\n",
              "        return fig.toolbar_button_onmouseover(event['data']);\n",
              "    }\n",
              "\n",
              "    for(var toolbar_ind in mpl.toolbar_items){\n",
              "        var name = mpl.toolbar_items[toolbar_ind][0];\n",
              "        var tooltip = mpl.toolbar_items[toolbar_ind][1];\n",
              "        var image = mpl.toolbar_items[toolbar_ind][2];\n",
              "        var method_name = mpl.toolbar_items[toolbar_ind][3];\n",
              "\n",
              "        if (!name) { continue; };\n",
              "\n",
              "        var button = $('<button class=\"btn btn-default\" href=\"#\" title=\"' + name + '\"><i class=\"fa ' + image + ' fa-lg\"></i></button>');\n",
              "        button.click(method_name, toolbar_event);\n",
              "        button.mouseover(tooltip, toolbar_mouse_event);\n",
              "        nav_element.append(button);\n",
              "    }\n",
              "\n",
              "    // Add the status bar.\n",
              "    var status_bar = $('<span class=\"mpl-message\" style=\"text-align:right; float: right;\"/>');\n",
              "    nav_element.append(status_bar);\n",
              "    this.message = status_bar[0];\n",
              "\n",
              "    // Add the close button to the window.\n",
              "    var buttongrp = $('<div class=\"btn-group inline pull-right\"></div>');\n",
              "    var button = $('<button class=\"btn btn-mini btn-primary\" href=\"#\" title=\"Stop Interaction\"><i class=\"fa fa-power-off icon-remove icon-large\"></i></button>');\n",
              "    button.click(function (evt) { fig.handle_close(fig, {}); } );\n",
              "    button.mouseover('Stop Interaction', toolbar_mouse_event);\n",
              "    buttongrp.append(button);\n",
              "    var titlebar = this.root.find($('.ui-dialog-titlebar'));\n",
              "    titlebar.prepend(buttongrp);\n",
              "}\n",
              "\n",
              "mpl.figure.prototype._root_extra_style = function(el){\n",
              "    var fig = this\n",
              "    el.on(\"remove\", function(){\n",
              "\tfig.close_ws(fig, {});\n",
              "    });\n",
              "}\n",
              "\n",
              "mpl.figure.prototype._canvas_extra_style = function(el){\n",
              "    // this is important to make the div 'focusable\n",
              "    el.attr('tabindex', 0)\n",
              "    // reach out to IPython and tell the keyboard manager to turn it's self\n",
              "    // off when our div gets focus\n",
              "\n",
              "    // location in version 3\n",
              "    if (IPython.notebook.keyboard_manager) {\n",
              "        IPython.notebook.keyboard_manager.register_events(el);\n",
              "    }\n",
              "    else {\n",
              "        // location in version 2\n",
              "        IPython.keyboard_manager.register_events(el);\n",
              "    }\n",
              "\n",
              "}\n",
              "\n",
              "mpl.figure.prototype._key_event_extra = function(event, name) {\n",
              "    var manager = IPython.notebook.keyboard_manager;\n",
              "    if (!manager)\n",
              "        manager = IPython.keyboard_manager;\n",
              "\n",
              "    // Check for shift+enter\n",
              "    if (event.shiftKey && event.which == 13) {\n",
              "        this.canvas_div.blur();\n",
              "        event.shiftKey = false;\n",
              "        // Send a \"J\" for go to next cell\n",
              "        event.which = 74;\n",
              "        event.keyCode = 74;\n",
              "        manager.command_mode();\n",
              "        manager.handle_keydown(event);\n",
              "    }\n",
              "}\n",
              "\n",
              "mpl.figure.prototype.handle_save = function(fig, msg) {\n",
              "    fig.ondownload(fig, null);\n",
              "}\n",
              "\n",
              "\n",
              "mpl.find_output_cell = function(html_output) {\n",
              "    // Return the cell and output element which can be found *uniquely* in the notebook.\n",
              "    // Note - this is a bit hacky, but it is done because the \"notebook_saving.Notebook\"\n",
              "    // IPython event is triggered only after the cells have been serialised, which for\n",
              "    // our purposes (turning an active figure into a static one), is too late.\n",
              "    var cells = IPython.notebook.get_cells();\n",
              "    var ncells = cells.length;\n",
              "    for (var i=0; i<ncells; i++) {\n",
              "        var cell = cells[i];\n",
              "        if (cell.cell_type === 'code'){\n",
              "            for (var j=0; j<cell.output_area.outputs.length; j++) {\n",
              "                var data = cell.output_area.outputs[j];\n",
              "                if (data.data) {\n",
              "                    // IPython >= 3 moved mimebundle to data attribute of output\n",
              "                    data = data.data;\n",
              "                }\n",
              "                if (data['text/html'] == html_output) {\n",
              "                    return [cell, data, j];\n",
              "                }\n",
              "            }\n",
              "        }\n",
              "    }\n",
              "}\n",
              "\n",
              "// Register the function which deals with the matplotlib target/channel.\n",
              "// The kernel may be null if the page has been refreshed.\n",
              "if (IPython.notebook.kernel != null) {\n",
              "    IPython.notebook.kernel.comm_manager.register_target('matplotlib', mpl.mpl_figure_comm);\n",
              "}\n"
            ],
            "text/plain": [
              "<IPython.core.display.Javascript object>"
            ]
          },
          "metadata": {
            "tags": []
          }
        },
        {
          "output_type": "display_data",
          "data": {
            "text/html": [
              "<img src=\"data:image/png;base64,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\" width=\"640\">"
            ],
            "text/plain": [
              "<IPython.core.display.HTML object>"
            ]
          },
          "metadata": {
            "tags": []
          }
        },
        {
          "output_type": "execute_result",
          "data": {
            "text/plain": [
              "<sigpy.plot.ImagePlot at 0x7f129d7e7a90>"
            ]
          },
          "metadata": {
            "tags": []
          },
          "execution_count": 23
        }
      ]
    },
    {
      "cell_type": "code",
      "metadata": {
        "id": "frJJ_ETd8ox6",
        "colab_type": "code",
        "colab": {}
      },
      "source": [
        ""
      ],
      "execution_count": 0,
      "outputs": []
    }
  ]
}